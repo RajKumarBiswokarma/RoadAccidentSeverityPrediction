{
 "cells": [
  {
   "cell_type": "code",
   "execution_count": 2,
   "id": "d195b80d",
   "metadata": {},
   "outputs": [],
   "source": [
    "import joblib\n",
    "# Load the saved model from file using joblib\n",
    "random_model = joblib.load('random_model.joblib')\n"
   ]
  },
  {
   "cell_type": "code",
   "execution_count": 3,
   "id": "5d84e3c4",
   "metadata": {},
   "outputs": [],
   "source": [
    "gradient_model = joblib.load('gradientBoosting.joblib')"
   ]
  },
  {
   "cell_type": "code",
   "execution_count": 4,
   "id": "87e71e8a",
   "metadata": {},
   "outputs": [],
   "source": [
    "xgboost_model = joblib.load('xgb_model.joblib')"
   ]
  },
  {
   "cell_type": "code",
   "execution_count": 9,
   "id": "ab5db41e",
   "metadata": {},
   "outputs": [],
   "source": [
    "import pandas as pd\n",
    "import numpy as np"
   ]
  },
  {
   "cell_type": "code",
   "execution_count": 10,
   "id": "0f1d71a5",
   "metadata": {},
   "outputs": [],
   "source": [
    "df = pd.read_csv('dataset/final_clean_encoded.csv')"
   ]
  },
  {
   "cell_type": "code",
   "execution_count": 11,
   "id": "14effa4e",
   "metadata": {},
   "outputs": [],
   "source": [
    "data = df.drop('Accident_Severity', axis = 1)\n",
    "\n",
    "labels = df['Accident_Severity']"
   ]
  },
  {
   "cell_type": "code",
   "execution_count": 12,
   "id": "cd01ef2a",
   "metadata": {},
   "outputs": [
    {
     "name": "stderr",
     "output_type": "stream",
     "text": [
      "/home/rajkumar/anaconda3/envs/pyenv/lib/python3.10/site-packages/imblearn/over_sampling/_smote/base.py:572: FutureWarning: The parameter `n_jobs` has been deprecated in 0.10 and will be removed in 0.12. You can pass an nearest neighbors estimator where `n_jobs` is already set instead.\n",
      "  warnings.warn(\n",
      "/home/rajkumar/anaconda3/envs/pyenv/lib/python3.10/site-packages/imblearn/over_sampling/_smote/base.py:336: FutureWarning: The parameter `n_jobs` has been deprecated in 0.10 and will be removed in 0.12. You can pass an nearest neighbors estimator where `n_jobs` is already set instead.\n",
      "  warnings.warn(\n"
     ]
    },
    {
     "data": {
      "text/plain": [
       "((31245, 31), (31245,))"
      ]
     },
     "execution_count": 12,
     "metadata": {},
     "output_type": "execute_result"
    }
   ],
   "source": [
    "from imblearn.over_sampling import SMOTENC\n",
    "# categorical features for SMOTENC technique for categorical features\n",
    "n_cat_index = np.array(range(30))\n",
    "\n",
    "smote = SMOTENC(categorical_features=n_cat_index, random_state=42, n_jobs=True)\n",
    "X_resampled , y_resampled = smote.fit_resample(data,labels)\n",
    "X_resampled.shape, y_resampled.shape"
   ]
  },
  {
   "cell_type": "code",
   "execution_count": 13,
   "id": "a4dffd8f",
   "metadata": {},
   "outputs": [],
   "source": [
    "data = X_resampled\n",
    "labels = y_resampled"
   ]
  },
  {
   "cell_type": "code",
   "execution_count": 14,
   "id": "2815f18c",
   "metadata": {},
   "outputs": [],
   "source": [
    "from sklearn.model_selection import train_test_split\n",
    "\n",
    "X_train,X_test,y_train,y_test = train_test_split(data,labels,test_size = 0.25, random_state = 42, stratify = labels)"
   ]
  },
  {
   "cell_type": "code",
   "execution_count": 15,
   "id": "8c7c4471",
   "metadata": {},
   "outputs": [],
   "source": [
    "from sklearn.ensemble import VotingClassifier\n",
    "\n",
    "# Create a list of tuples for the models to be used in the voting classifier\n",
    "estimators = [\n",
    "    ('random', random_model),\n",
    "    ('gradient', gradient_model),\n",
    "    ('xgboost', xgboost_model)\n",
    "]\n",
    "\n",
    "# Create the voting classifier\n",
    "voting_clf = VotingClassifier(estimators, voting='hard')\n",
    "\n",
    "# Fit the voting classifier on training data\n",
    "voting_clf.fit(X_train, y_train)\n",
    "\n",
    "# Make predictions on test data\n",
    "y_pred = voting_clf.predict(X_test)"
   ]
  },
  {
   "cell_type": "code",
   "execution_count": 16,
   "id": "5e684d9f",
   "metadata": {},
   "outputs": [
    {
     "name": "stdout",
     "output_type": "stream",
     "text": [
      "              precision    recall  f1-score   support\n",
      "\n",
      "           0       0.99      0.99      0.99      2604\n",
      "           1       0.91      0.87      0.89      2604\n",
      "           2       0.87      0.90      0.89      2604\n",
      "\n",
      "    accuracy                           0.92      7812\n",
      "   macro avg       0.92      0.92      0.92      7812\n",
      "weighted avg       0.92      0.92      0.92      7812\n",
      "\n"
     ]
    }
   ],
   "source": [
    "from sklearn.metrics import confusion_matrix, classification_report, f1_score\n",
    "classif_re = classification_report(y_test,y_pred)\n",
    "print(classif_re)"
   ]
  },
  {
   "cell_type": "code",
   "execution_count": 17,
   "id": "1e7d5667",
   "metadata": {},
   "outputs": [
    {
     "data": {
      "image/png": "[encoded data removed]",
      "text/plain": [
       "<Figure size 500x400 with 2 Axes>"
      ]
     },
     "metadata": {},
     "output_type": "display_data"
    }
   ],
   "source": [
    "#Plotting the confusion matrix\n",
    "import matplotlib.pyplot as plt\n",
    "import seaborn as sns\n",
    "\n",
    "conf_matrix = confusion_matrix(y_test, y_pred)\n",
    "\n",
    "\n",
    "# Creating a dataframe for a array-formatted Confusion matrix,so it will be easy for plotting.\n",
    "cm_df = pd.DataFrame(conf_matrix,\n",
    "                     index = ['Fatal','Serious','Slight'], \n",
    "                     columns = ['Fatal','Serious','Slight'])\n",
    "\n",
    "\n",
    "\n",
    "plt.figure(figsize=(5,4))\n",
    "sns.heatmap(cm_df, annot=True,fmt='g')\n",
    "plt.title('Confusion Matrix')\n",
    "plt.ylabel('Actal Values')\n",
    "plt.xlabel('Predicted Values')\n",
    "plt.title(\"Ensemble Method\")\n",
    "plt.show()"
   ]
  },
  {
   "cell_type": "code",
   "execution_count": 19,
   "id": "0067cce8",
   "metadata": {},
   "outputs": [
    {
     "data": {
      "text/plain": [
       "['ensemble_model.joblib']"
      ]
     },
     "execution_count": 19,
     "metadata": {},
     "output_type": "execute_result"
    }
   ],
   "source": [
    "joblib.dump(voting_clf , 'ensemble_model.joblib')\n"
   ]
  },
  {
   "cell_type": "code",
   "execution_count": null,
   "id": "b4989a67",
   "metadata": {},
   "outputs": [],
   "source": []
  }
 ],
 "metadata": {
  "kernelspec": {
   "display_name": "Python 3 (ipykernel)",
   "language": "python",
   "name": "python3"
  },
  "language_info": {
   "codemirror_mode": {
    "name": "ipython",
    "version": 3
   },
   "file_extension": ".py",
   "mimetype": "text/x-python",
   "name": "python",
   "nbconvert_exporter": "python",
   "pygments_lexer": "ipython3",
   "version": "3.10.8"
  }
 },
 "nbformat": 4,
 "nbformat_minor": 5
}
