{
 "cells": [
  {
   "cell_type": "code",
   "execution_count": 1,
   "id": "bf2e289c",
   "metadata": {},
   "outputs": [],
   "source": [
    "import pandas as pd\n",
    "import numpy as np\n",
    "\n",
    "import warnings\n",
    "warnings.simplefilter(action='ignore', category=FutureWarning)"
   ]
  },
  {
   "cell_type": "code",
   "execution_count": 2,
   "id": "be908176",
   "metadata": {},
   "outputs": [],
   "source": [
    "df = pd.read_csv('dataset/clean.csv')"
   ]
  },
  {
   "cell_type": "code",
   "execution_count": 91,
   "id": "701a456d",
   "metadata": {},
   "outputs": [
    {
     "data": {
      "text/html": [
       "<div>\n",
       "<style scoped>\n",
       "    .dataframe tbody tr th:only-of-type {\n",
       "        vertical-align: middle;\n",
       "    }\n",
       "\n",
       "    .dataframe tbody tr th {\n",
       "        vertical-align: top;\n",
       "    }\n",
       "\n",
       "    .dataframe thead th {\n",
       "        text-align: right;\n",
       "    }\n",
       "</style>\n",
       "<table border=\"1\" class=\"dataframe\">\n",
       "  <thead>\n",
       "    <tr style=\"text-align: right;\">\n",
       "      <th></th>\n",
       "      <th>Day_of_week</th>\n",
       "      <th>Age_band_of_driver</th>\n",
       "      <th>Sex_of_driver</th>\n",
       "      <th>Educational_level</th>\n",
       "      <th>Vehicle_driver_relation</th>\n",
       "      <th>Driving_experience</th>\n",
       "      <th>Type_of_vehicle</th>\n",
       "      <th>Owner_of_vehicle</th>\n",
       "      <th>Service_year_of_vehicle</th>\n",
       "      <th>Defect_of_vehicle</th>\n",
       "      <th>...</th>\n",
       "      <th>Casualty_class</th>\n",
       "      <th>Sex_of_casualty</th>\n",
       "      <th>Age_band_of_casualty</th>\n",
       "      <th>Casualty_severity</th>\n",
       "      <th>Work_of_casuality</th>\n",
       "      <th>Fitness_of_casuality</th>\n",
       "      <th>Pedestrian_movement</th>\n",
       "      <th>Cause_of_accident</th>\n",
       "      <th>Accident_severity</th>\n",
       "      <th>Hour_of_Day</th>\n",
       "    </tr>\n",
       "  </thead>\n",
       "  <tbody>\n",
       "    <tr>\n",
       "      <th>0</th>\n",
       "      <td>0</td>\n",
       "      <td>1</td>\n",
       "      <td>0</td>\n",
       "      <td>5</td>\n",
       "      <td>1</td>\n",
       "      <td>2</td>\n",
       "      <td>4</td>\n",
       "      <td>0</td>\n",
       "      <td>4</td>\n",
       "      <td>0</td>\n",
       "      <td>...</td>\n",
       "      <td>Unknown</td>\n",
       "      <td>Unknown</td>\n",
       "      <td>Unknown</td>\n",
       "      <td>Unknown</td>\n",
       "      <td>Unknown</td>\n",
       "      <td>Normal</td>\n",
       "      <td>Not a Pedestrian</td>\n",
       "      <td>Moving Backward</td>\n",
       "      <td>Slight Injury</td>\n",
       "      <td>17</td>\n",
       "    </tr>\n",
       "    <tr>\n",
       "      <th>1</th>\n",
       "      <td>0</td>\n",
       "      <td>2</td>\n",
       "      <td>0</td>\n",
       "      <td>2</td>\n",
       "      <td>1</td>\n",
       "      <td>5</td>\n",
       "      <td>6</td>\n",
       "      <td>0</td>\n",
       "      <td>3</td>\n",
       "      <td>0</td>\n",
       "      <td>...</td>\n",
       "      <td>Unknown</td>\n",
       "      <td>Unknown</td>\n",
       "      <td>Unknown</td>\n",
       "      <td>Unknown</td>\n",
       "      <td>Unknown</td>\n",
       "      <td>Normal</td>\n",
       "      <td>Not a Pedestrian</td>\n",
       "      <td>Overtaking</td>\n",
       "      <td>Slight Injury</td>\n",
       "      <td>17</td>\n",
       "    </tr>\n",
       "    <tr>\n",
       "      <th>2</th>\n",
       "      <td>0</td>\n",
       "      <td>1</td>\n",
       "      <td>0</td>\n",
       "      <td>2</td>\n",
       "      <td>1</td>\n",
       "      <td>2</td>\n",
       "      <td>7</td>\n",
       "      <td>0</td>\n",
       "      <td>5</td>\n",
       "      <td>0</td>\n",
       "      <td>...</td>\n",
       "      <td>Driver or rider</td>\n",
       "      <td>Male</td>\n",
       "      <td>31-50</td>\n",
       "      <td>3</td>\n",
       "      <td>Driver</td>\n",
       "      <td>Normal</td>\n",
       "      <td>Not a Pedestrian</td>\n",
       "      <td>Changing lane to the left</td>\n",
       "      <td>Serious Injury</td>\n",
       "      <td>17</td>\n",
       "    </tr>\n",
       "    <tr>\n",
       "      <th>3</th>\n",
       "      <td>6</td>\n",
       "      <td>1</td>\n",
       "      <td>0</td>\n",
       "      <td>2</td>\n",
       "      <td>1</td>\n",
       "      <td>4</td>\n",
       "      <td>6</td>\n",
       "      <td>1</td>\n",
       "      <td>5</td>\n",
       "      <td>0</td>\n",
       "      <td>...</td>\n",
       "      <td>Pedestrian</td>\n",
       "      <td>Female</td>\n",
       "      <td>18-30</td>\n",
       "      <td>3</td>\n",
       "      <td>Driver</td>\n",
       "      <td>Normal</td>\n",
       "      <td>Not a Pedestrian</td>\n",
       "      <td>Changing lane to the right</td>\n",
       "      <td>Slight Injury</td>\n",
       "      <td>1</td>\n",
       "    </tr>\n",
       "    <tr>\n",
       "      <th>4</th>\n",
       "      <td>6</td>\n",
       "      <td>1</td>\n",
       "      <td>0</td>\n",
       "      <td>2</td>\n",
       "      <td>1</td>\n",
       "      <td>2</td>\n",
       "      <td>8</td>\n",
       "      <td>0</td>\n",
       "      <td>3</td>\n",
       "      <td>0</td>\n",
       "      <td>...</td>\n",
       "      <td>Unknown</td>\n",
       "      <td>Unknown</td>\n",
       "      <td>Unknown</td>\n",
       "      <td>Unknown</td>\n",
       "      <td>Unknown</td>\n",
       "      <td>Normal</td>\n",
       "      <td>Not a Pedestrian</td>\n",
       "      <td>Overtaking</td>\n",
       "      <td>Slight Injury</td>\n",
       "      <td>1</td>\n",
       "    </tr>\n",
       "  </tbody>\n",
       "</table>\n",
       "<p>5 rows × 32 columns</p>\n",
       "</div>"
      ],
      "text/plain": [
       "   Day_of_week  Age_band_of_driver  Sex_of_driver  Educational_level  \\\n",
       "0            0                   1              0                  5   \n",
       "1            0                   2              0                  2   \n",
       "2            0                   1              0                  2   \n",
       "3            6                   1              0                  2   \n",
       "4            6                   1              0                  2   \n",
       "\n",
       "   Vehicle_driver_relation  Driving_experience  Type_of_vehicle  \\\n",
       "0                        1                   2                4   \n",
       "1                        1                   5                6   \n",
       "2                        1                   2                7   \n",
       "3                        1                   4                6   \n",
       "4                        1                   2                8   \n",
       "\n",
       "   Owner_of_vehicle  Service_year_of_vehicle  Defect_of_vehicle  ...  \\\n",
       "0                 0                        4                  0  ...   \n",
       "1                 0                        3                  0  ...   \n",
       "2                 0                        5                  0  ...   \n",
       "3                 1                        5                  0  ...   \n",
       "4                 0                        3                  0  ...   \n",
       "\n",
       "    Casualty_class Sex_of_casualty Age_band_of_casualty  Casualty_severity  \\\n",
       "0          Unknown         Unknown              Unknown            Unknown   \n",
       "1          Unknown         Unknown              Unknown            Unknown   \n",
       "2  Driver or rider            Male                31-50                  3   \n",
       "3       Pedestrian          Female                18-30                  3   \n",
       "4          Unknown         Unknown              Unknown            Unknown   \n",
       "\n",
       "   Work_of_casuality Fitness_of_casuality Pedestrian_movement  \\\n",
       "0            Unknown               Normal    Not a Pedestrian   \n",
       "1            Unknown               Normal    Not a Pedestrian   \n",
       "2             Driver               Normal    Not a Pedestrian   \n",
       "3             Driver               Normal    Not a Pedestrian   \n",
       "4            Unknown               Normal    Not a Pedestrian   \n",
       "\n",
       "            Cause_of_accident Accident_severity  Hour_of_Day  \n",
       "0             Moving Backward     Slight Injury           17  \n",
       "1                  Overtaking     Slight Injury           17  \n",
       "2   Changing lane to the left    Serious Injury           17  \n",
       "3  Changing lane to the right     Slight Injury            1  \n",
       "4                  Overtaking     Slight Injury            1  \n",
       "\n",
       "[5 rows x 32 columns]"
      ]
     },
     "execution_count": 91,
     "metadata": {},
     "output_type": "execute_result"
    }
   ],
   "source": [
    "df.head()"
   ]
  },
  {
   "cell_type": "code",
   "execution_count": 115,
   "id": "6705a8c0",
   "metadata": {},
   "outputs": [
    {
     "name": "stdout",
     "output_type": "stream",
     "text": [
      "<class 'pandas.core.frame.DataFrame'>\n",
      "RangeIndex: 12316 entries, 0 to 12315\n",
      "Data columns (total 32 columns):\n",
      " #   Column                       Non-Null Count  Dtype \n",
      "---  ------                       --------------  ----- \n",
      " 0   Day_of_week                  12316 non-null  int64 \n",
      " 1   Age_band_of_driver           12316 non-null  int64 \n",
      " 2   Sex_of_driver                12316 non-null  int64 \n",
      " 3   Educational_level            12316 non-null  int64 \n",
      " 4   Vehicle_driver_relation      12316 non-null  int64 \n",
      " 5   Driving_experience           12316 non-null  int64 \n",
      " 6   Type_of_vehicle              12316 non-null  int64 \n",
      " 7   Owner_of_vehicle             12316 non-null  int64 \n",
      " 8   Service_year_of_vehicle      12316 non-null  int64 \n",
      " 9   Defect_of_vehicle            12316 non-null  int64 \n",
      " 10  Area_accident_occured        12316 non-null  int64 \n",
      " 11  Lanes_or_Medians             12316 non-null  int64 \n",
      " 12  Road_allignment              12316 non-null  int64 \n",
      " 13  Types_of_Junction            12316 non-null  int64 \n",
      " 14  Road_surface_type            12316 non-null  int64 \n",
      " 15  Road_surface_conditions      12316 non-null  int64 \n",
      " 16  Light_conditions             12316 non-null  int64 \n",
      " 17  Weather_conditions           12316 non-null  int64 \n",
      " 18  Type_of_collision            12316 non-null  object\n",
      " 19  Number_of_vehicles_involved  12316 non-null  int64 \n",
      " 20  Number_of_casualties         12316 non-null  int64 \n",
      " 21  Vehicle_movement             12316 non-null  object\n",
      " 22  Casualty_class               12316 non-null  object\n",
      " 23  Sex_of_casualty              12316 non-null  object\n",
      " 24  Age_band_of_casualty         12316 non-null  object\n",
      " 25  Casualty_severity            12316 non-null  object\n",
      " 26  Work_of_casuality            12316 non-null  object\n",
      " 27  Fitness_of_casuality         12316 non-null  object\n",
      " 28  Pedestrian_movement          12316 non-null  object\n",
      " 29  Cause_of_accident            12316 non-null  object\n",
      " 30  Accident_severity            12316 non-null  object\n",
      " 31  Hour_of_Day                  12316 non-null  int64 \n",
      "dtypes: int64(21), object(11)\n",
      "memory usage: 3.0+ MB\n"
     ]
    }
   ],
   "source": [
    "df.info()"
   ]
  },
  {
   "cell_type": "code",
   "execution_count": 5,
   "id": "faee9460",
   "metadata": {},
   "outputs": [
    {
     "data": {
      "text/plain": [
       "Friday       2041\n",
       "Thursday     1851\n",
       "Wednesday    1840\n",
       "Tuesday      1770\n",
       "Monday       1681\n",
       "Saturday     1666\n",
       "Sunday       1467\n",
       "Name: Day_of_week, dtype: int64"
      ]
     },
     "execution_count": 5,
     "metadata": {},
     "output_type": "execute_result"
    }
   ],
   "source": [
    "df['Day_of_week'].value_counts()"
   ]
  },
  {
   "cell_type": "code",
   "execution_count": 6,
   "id": "4ff42eb2",
   "metadata": {},
   "outputs": [],
   "source": [
    "import pandas as pd\n",
    "\n",
    "\n",
    "# define the label dictionary\n",
    "label = {'Monday': 0, 'Tuesday': 1, 'Wednesday':2, 'Thursday':3,'Friday':4,'Saturday':5, 'Sunday':6}\n",
    "\n",
    "# replace the values in the 'Day_of_week' column using the label dictionary\n",
    "df['Day_of_week'] = df['Day_of_week'].replace(label)\n",
    "\n"
   ]
  },
  {
   "cell_type": "code",
   "execution_count": 7,
   "id": "b40aa5db",
   "metadata": {},
   "outputs": [
    {
     "data": {
      "text/plain": [
       "Male       11437\n",
       "Female       701\n",
       "Unknown      178\n",
       "Name: Sex_of_driver, dtype: int64"
      ]
     },
     "execution_count": 7,
     "metadata": {},
     "output_type": "execute_result"
    }
   ],
   "source": [
    "df['Sex_of_driver'].value_counts()"
   ]
  },
  {
   "cell_type": "code",
   "execution_count": 8,
   "id": "a0634d02",
   "metadata": {},
   "outputs": [],
   "source": [
    "label = {'Male': 0, 'Female': 1, 'Unknown':2}\n",
    "\n",
    "df['Sex_of_driver'] = df['Sex_of_driver'].replace(label)\n"
   ]
  },
  {
   "cell_type": "code",
   "execution_count": 114,
   "id": "3f65fafe",
   "metadata": {},
   "outputs": [
    {
     "data": {
      "text/html": [
       "<div>\n",
       "<style scoped>\n",
       "    .dataframe tbody tr th:only-of-type {\n",
       "        vertical-align: middle;\n",
       "    }\n",
       "\n",
       "    .dataframe tbody tr th {\n",
       "        vertical-align: top;\n",
       "    }\n",
       "\n",
       "    .dataframe thead th {\n",
       "        text-align: right;\n",
       "    }\n",
       "</style>\n",
       "<table border=\"1\" class=\"dataframe\">\n",
       "  <thead>\n",
       "    <tr style=\"text-align: right;\">\n",
       "      <th></th>\n",
       "      <th>Day_of_week</th>\n",
       "      <th>Age_band_of_driver</th>\n",
       "      <th>Sex_of_driver</th>\n",
       "      <th>Educational_level</th>\n",
       "      <th>Vehicle_driver_relation</th>\n",
       "      <th>Driving_experience</th>\n",
       "      <th>Type_of_vehicle</th>\n",
       "      <th>Owner_of_vehicle</th>\n",
       "      <th>Service_year_of_vehicle</th>\n",
       "      <th>Defect_of_vehicle</th>\n",
       "      <th>...</th>\n",
       "      <th>Casualty_class</th>\n",
       "      <th>Sex_of_casualty</th>\n",
       "      <th>Age_band_of_casualty</th>\n",
       "      <th>Casualty_severity</th>\n",
       "      <th>Work_of_casuality</th>\n",
       "      <th>Fitness_of_casuality</th>\n",
       "      <th>Pedestrian_movement</th>\n",
       "      <th>Cause_of_accident</th>\n",
       "      <th>Accident_severity</th>\n",
       "      <th>Hour_of_Day</th>\n",
       "    </tr>\n",
       "  </thead>\n",
       "  <tbody>\n",
       "    <tr>\n",
       "      <th>0</th>\n",
       "      <td>0</td>\n",
       "      <td>1</td>\n",
       "      <td>0</td>\n",
       "      <td>5</td>\n",
       "      <td>1</td>\n",
       "      <td>2</td>\n",
       "      <td>4</td>\n",
       "      <td>0</td>\n",
       "      <td>4</td>\n",
       "      <td>0</td>\n",
       "      <td>...</td>\n",
       "      <td>Unknown</td>\n",
       "      <td>Unknown</td>\n",
       "      <td>Unknown</td>\n",
       "      <td>Unknown</td>\n",
       "      <td>Unknown</td>\n",
       "      <td>Normal</td>\n",
       "      <td>Not a Pedestrian</td>\n",
       "      <td>Moving Backward</td>\n",
       "      <td>Slight Injury</td>\n",
       "      <td>17</td>\n",
       "    </tr>\n",
       "    <tr>\n",
       "      <th>1</th>\n",
       "      <td>0</td>\n",
       "      <td>2</td>\n",
       "      <td>0</td>\n",
       "      <td>2</td>\n",
       "      <td>1</td>\n",
       "      <td>5</td>\n",
       "      <td>6</td>\n",
       "      <td>0</td>\n",
       "      <td>3</td>\n",
       "      <td>0</td>\n",
       "      <td>...</td>\n",
       "      <td>Unknown</td>\n",
       "      <td>Unknown</td>\n",
       "      <td>Unknown</td>\n",
       "      <td>Unknown</td>\n",
       "      <td>Unknown</td>\n",
       "      <td>Normal</td>\n",
       "      <td>Not a Pedestrian</td>\n",
       "      <td>Overtaking</td>\n",
       "      <td>Slight Injury</td>\n",
       "      <td>17</td>\n",
       "    </tr>\n",
       "    <tr>\n",
       "      <th>2</th>\n",
       "      <td>0</td>\n",
       "      <td>1</td>\n",
       "      <td>0</td>\n",
       "      <td>2</td>\n",
       "      <td>1</td>\n",
       "      <td>2</td>\n",
       "      <td>7</td>\n",
       "      <td>0</td>\n",
       "      <td>5</td>\n",
       "      <td>0</td>\n",
       "      <td>...</td>\n",
       "      <td>Driver or rider</td>\n",
       "      <td>Male</td>\n",
       "      <td>31-50</td>\n",
       "      <td>3</td>\n",
       "      <td>Driver</td>\n",
       "      <td>Normal</td>\n",
       "      <td>Not a Pedestrian</td>\n",
       "      <td>Changing lane to the left</td>\n",
       "      <td>Serious Injury</td>\n",
       "      <td>17</td>\n",
       "    </tr>\n",
       "    <tr>\n",
       "      <th>3</th>\n",
       "      <td>6</td>\n",
       "      <td>1</td>\n",
       "      <td>0</td>\n",
       "      <td>2</td>\n",
       "      <td>1</td>\n",
       "      <td>4</td>\n",
       "      <td>6</td>\n",
       "      <td>1</td>\n",
       "      <td>5</td>\n",
       "      <td>0</td>\n",
       "      <td>...</td>\n",
       "      <td>Pedestrian</td>\n",
       "      <td>Female</td>\n",
       "      <td>18-30</td>\n",
       "      <td>3</td>\n",
       "      <td>Driver</td>\n",
       "      <td>Normal</td>\n",
       "      <td>Not a Pedestrian</td>\n",
       "      <td>Changing lane to the right</td>\n",
       "      <td>Slight Injury</td>\n",
       "      <td>1</td>\n",
       "    </tr>\n",
       "    <tr>\n",
       "      <th>4</th>\n",
       "      <td>6</td>\n",
       "      <td>1</td>\n",
       "      <td>0</td>\n",
       "      <td>2</td>\n",
       "      <td>1</td>\n",
       "      <td>2</td>\n",
       "      <td>8</td>\n",
       "      <td>0</td>\n",
       "      <td>3</td>\n",
       "      <td>0</td>\n",
       "      <td>...</td>\n",
       "      <td>Unknown</td>\n",
       "      <td>Unknown</td>\n",
       "      <td>Unknown</td>\n",
       "      <td>Unknown</td>\n",
       "      <td>Unknown</td>\n",
       "      <td>Normal</td>\n",
       "      <td>Not a Pedestrian</td>\n",
       "      <td>Overtaking</td>\n",
       "      <td>Slight Injury</td>\n",
       "      <td>1</td>\n",
       "    </tr>\n",
       "  </tbody>\n",
       "</table>\n",
       "<p>5 rows × 32 columns</p>\n",
       "</div>"
      ],
      "text/plain": [
       "   Day_of_week  Age_band_of_driver  Sex_of_driver  Educational_level  \\\n",
       "0            0                   1              0                  5   \n",
       "1            0                   2              0                  2   \n",
       "2            0                   1              0                  2   \n",
       "3            6                   1              0                  2   \n",
       "4            6                   1              0                  2   \n",
       "\n",
       "   Vehicle_driver_relation  Driving_experience  Type_of_vehicle  \\\n",
       "0                        1                   2                4   \n",
       "1                        1                   5                6   \n",
       "2                        1                   2                7   \n",
       "3                        1                   4                6   \n",
       "4                        1                   2                8   \n",
       "\n",
       "   Owner_of_vehicle  Service_year_of_vehicle  Defect_of_vehicle  ...  \\\n",
       "0                 0                        4                  0  ...   \n",
       "1                 0                        3                  0  ...   \n",
       "2                 0                        5                  0  ...   \n",
       "3                 1                        5                  0  ...   \n",
       "4                 0                        3                  0  ...   \n",
       "\n",
       "    Casualty_class  Sex_of_casualty  Age_band_of_casualty  Casualty_severity  \\\n",
       "0          Unknown          Unknown               Unknown            Unknown   \n",
       "1          Unknown          Unknown               Unknown            Unknown   \n",
       "2  Driver or rider             Male                 31-50                  3   \n",
       "3       Pedestrian           Female                 18-30                  3   \n",
       "4          Unknown          Unknown               Unknown            Unknown   \n",
       "\n",
       "   Work_of_casuality  Fitness_of_casuality  Pedestrian_movement  \\\n",
       "0            Unknown                Normal     Not a Pedestrian   \n",
       "1            Unknown                Normal     Not a Pedestrian   \n",
       "2             Driver                Normal     Not a Pedestrian   \n",
       "3             Driver                Normal     Not a Pedestrian   \n",
       "4            Unknown                Normal     Not a Pedestrian   \n",
       "\n",
       "            Cause_of_accident Accident_severity  Hour_of_Day  \n",
       "0             Moving Backward     Slight Injury           17  \n",
       "1                  Overtaking     Slight Injury           17  \n",
       "2   Changing lane to the left    Serious Injury           17  \n",
       "3  Changing lane to the right     Slight Injury            1  \n",
       "4                  Overtaking     Slight Injury            1  \n",
       "\n",
       "[5 rows x 32 columns]"
      ]
     },
     "execution_count": 114,
     "metadata": {},
     "output_type": "execute_result"
    }
   ],
   "source": [
    "df.head()\n"
   ]
  },
  {
   "cell_type": "code",
   "execution_count": 10,
   "id": "56df1aa1",
   "metadata": {},
   "outputs": [
    {
     "data": {
      "text/plain": [
       "Junior high school    8360\n",
       "Elementary school     2163\n",
       "High school           1110\n",
       "Above high school      362\n",
       "Writing & reading      176\n",
       "Unknown                100\n",
       "Illiterate              45\n",
       "Name: Educational_level, dtype: int64"
      ]
     },
     "execution_count": 10,
     "metadata": {},
     "output_type": "execute_result"
    }
   ],
   "source": [
    "df['Educational_level'].value_counts()"
   ]
  },
  {
   "cell_type": "code",
   "execution_count": 11,
   "id": "d3432a75",
   "metadata": {},
   "outputs": [],
   "source": [
    "label = {'Illiterate':0, 'Writing & reading':1,'Junior high school':2,'Elementary school':3,'High school':4,'Above high school':5,'Unknown':6}\n",
    "df['Educational_level'] = df['Educational_level'].replace(label)"
   ]
  },
  {
   "cell_type": "code",
   "execution_count": 12,
   "id": "8b9c3b85",
   "metadata": {},
   "outputs": [
    {
     "data": {
      "text/plain": [
       "Employee    9627\n",
       "Owner       1973\n",
       "Unknown      593\n",
       "Other        123\n",
       "Name: Vehicle_driver_relation, dtype: int64"
      ]
     },
     "execution_count": 12,
     "metadata": {},
     "output_type": "execute_result"
    }
   ],
   "source": [
    "df['Vehicle_driver_relation'].value_counts()"
   ]
  },
  {
   "cell_type": "code",
   "execution_count": 13,
   "id": "bce80fa9",
   "metadata": {},
   "outputs": [],
   "source": [
    "df['Vehicle_driver_relation'] = df['Vehicle_driver_relation'].replace('Unknown', 'Other')"
   ]
  },
  {
   "cell_type": "code",
   "execution_count": 14,
   "id": "ba68eceb",
   "metadata": {},
   "outputs": [],
   "source": [
    "label = {'Other': 0, 'Employee': 1, 'Owner':2}\n",
    "\n",
    "df['Vehicle_driver_relation'] = df['Vehicle_driver_relation'].replace(label)\n"
   ]
  },
  {
   "cell_type": "code",
   "execution_count": 15,
   "id": "930a1e5b",
   "metadata": {},
   "outputs": [
    {
     "data": {
      "text/plain": [
       "5-10yr        3363\n",
       "2-5yr         2613\n",
       "Above 10yr    2262\n",
       "1-2yr         1756\n",
       "Below 1yr     1342\n",
       "unknown        862\n",
       "No Licence     118\n",
       "Name: Driving_experience, dtype: int64"
      ]
     },
     "execution_count": 15,
     "metadata": {},
     "output_type": "execute_result"
    }
   ],
   "source": [
    "df['Driving_experience'].value_counts()"
   ]
  },
  {
   "cell_type": "code",
   "execution_count": 16,
   "id": "92a15c1c",
   "metadata": {},
   "outputs": [],
   "source": [
    "label = {'No Licence':0, 'Below 1yr':1,'1-2yr':2,'2-5yr':2,'5-10yr':4,'Above 10yr':5,'unknown':6}\n",
    "df['Driving_experience'] = df['Driving_experience'].replace(label)"
   ]
  },
  {
   "cell_type": "code",
   "execution_count": 17,
   "id": "064d42ad",
   "metadata": {},
   "outputs": [
    {
     "data": {
      "text/plain": [
       "18-30       4271\n",
       "31-50       4087\n",
       "Over 51     1585\n",
       "Unknown     1548\n",
       "Under 18     825\n",
       "Name: Age_band_of_driver, dtype: int64"
      ]
     },
     "execution_count": 17,
     "metadata": {},
     "output_type": "execute_result"
    }
   ],
   "source": [
    "df['Age_band_of_driver'].value_counts()"
   ]
  },
  {
   "cell_type": "code",
   "execution_count": 18,
   "id": "858518d5",
   "metadata": {},
   "outputs": [],
   "source": [
    "label = {'Under 18' :0, '18-30':1, '31-50':2,'Over 51': 3, 'Unknown':4}\n",
    "df['Age_band_of_driver'] = df['Age_band_of_driver'].replace(label)"
   ]
  },
  {
   "cell_type": "code",
   "execution_count": 90,
   "id": "6abcdc83",
   "metadata": {},
   "outputs": [
    {
     "data": {
      "text/plain": [
       "4    3938\n",
       "7    3110\n",
       "8    2242\n",
       "6    1647\n",
       "5     811\n",
       "3     265\n",
       "2     206\n",
       "0      76\n",
       "1      21\n",
       "Name: Type_of_vehicle, dtype: int64"
      ]
     },
     "execution_count": 90,
     "metadata": {},
     "output_type": "execute_result"
    }
   ],
   "source": [
    "df['Type_of_vehicle'].value_counts()"
   ]
  },
  {
   "cell_type": "code",
   "execution_count": 88,
   "id": "48f88a33",
   "metadata": {},
   "outputs": [],
   "source": [
    "df['Type_of_vehicle'] = df['Type_of_vehicle'].replace(\"Lorry (41?100Q)\",\"Lorry\")\n",
    "df['Type_of_vehicle'] = df['Type_of_vehicle'].replace(\"Lorry (11?40Q)\",\"Lorry\")\n",
    "df['Type_of_vehicle'] = df['Type_of_vehicle'].replace(\"Long lorry\",\"Lorry\")\n",
    "df['Type_of_vehicle'] = df['Type_of_vehicle'].replace(\"Pick up upto 10Q\",\"Pick Up\")\n",
    "df['Type_of_vehicle'] = df['Type_of_vehicle'].replace(\"Public (12 seats)\",\"Public\")\n",
    "df['Type_of_vehicle'] = df['Type_of_vehicle'].replace(\"Public (13?45 seats)\",\"Public\")\n",
    "df['Type_of_vehicle'] = df['Type_of_vehicle'].replace(\"Public (> 45 seats)\",\"Public\")\n",
    "df['Type_of_vehicle'] = df['Type_of_vehicle'].replace(\"Bajaj\",\"Motorcycle\")\n",
    "df['Type_of_vehicle'] = df['Type_of_vehicle'].replace(\"Stationwagen\",\"Automobile\")\n",
    "df['Type_of_vehicle'] = df['Type_of_vehicle'].replace(\"Special vehicle\",\"Other\")\n",
    "df['Type_of_vehicle'] = df['Type_of_vehicle'].replace(\"Turbo\",\"Automobile\")\n"
   ]
  },
  {
   "cell_type": "code",
   "execution_count": null,
   "id": "f851b5d8",
   "metadata": {},
   "outputs": [],
   "source": []
  },
  {
   "cell_type": "code",
   "execution_count": 89,
   "id": "178c7ac4",
   "metadata": {},
   "outputs": [],
   "source": [
    "label = {'Ridden horse' : 0, 'Bicycle':1, 'Motorcycle':2,'Taxi':3,'Automobile':4,'Pick Up':5,'Public':6,'Lorry':7,'Other':8}\n",
    "df['Type_of_vehicle'] = df['Type_of_vehicle'].replace(label)"
   ]
  },
  {
   "cell_type": "code",
   "execution_count": 22,
   "id": "7aa3d3aa",
   "metadata": {},
   "outputs": [
    {
     "data": {
      "text/plain": [
       "Owner           10941\n",
       "Governmental     1041\n",
       "Organization      312\n",
       "Other              22\n",
       "Name: Owner_of_vehicle, dtype: int64"
      ]
     },
     "execution_count": 22,
     "metadata": {},
     "output_type": "execute_result"
    }
   ],
   "source": [
    "df['Owner_of_vehicle'].value_counts()"
   ]
  },
  {
   "cell_type": "code",
   "execution_count": 23,
   "id": "f99142fa",
   "metadata": {},
   "outputs": [],
   "source": [
    "label = {'Owner': 0, 'Governmental': 1, 'Organization':2,'Other':3}\n",
    "\n",
    "df['Owner_of_vehicle'] = df['Owner_of_vehicle'].replace(label)"
   ]
  },
  {
   "cell_type": "code",
   "execution_count": 24,
   "id": "465627bd",
   "metadata": {},
   "outputs": [
    {
     "data": {
      "text/plain": [
       "Unknown       6811\n",
       "2-5yrs        1792\n",
       "Above 10yr    1324\n",
       "5-10yrs       1280\n",
       "1-2yr          827\n",
       "Below 1yr      282\n",
       "Name: Service_year_of_vehicle, dtype: int64"
      ]
     },
     "execution_count": 24,
     "metadata": {},
     "output_type": "execute_result"
    }
   ],
   "source": [
    "df['Service_year_of_vehicle'].value_counts()"
   ]
  },
  {
   "cell_type": "code",
   "execution_count": 25,
   "id": "484968aa",
   "metadata": {},
   "outputs": [],
   "source": [
    "label = {'Below 1yr':0,'1-2yr':1,'2-5yrs':2,'5-10yrs':3,'Above 10yr':4,'Unknown':5}\n",
    "df['Service_year_of_vehicle'] = df['Service_year_of_vehicle'].replace(label)"
   ]
  },
  {
   "cell_type": "code",
   "execution_count": 58,
   "id": "ca8a4ab9",
   "metadata": {},
   "outputs": [
    {
     "data": {
      "text/plain": [
       "0    12204\n",
       "7       76\n",
       "5       36\n",
       "Name: Defect_of_vehicle, dtype: int64"
      ]
     },
     "execution_count": 58,
     "metadata": {},
     "output_type": "execute_result"
    }
   ],
   "source": [
    "df['Defect_of_vehicle'].value_counts()\n"
   ]
  },
  {
   "cell_type": "code",
   "execution_count": 56,
   "id": "70f701b5",
   "metadata": {},
   "outputs": [],
   "source": [
    "df['Defect_of_vehicle'] = df['Defect_of_vehicle'].replace('No defect',0)"
   ]
  },
  {
   "cell_type": "code",
   "execution_count": 57,
   "id": "e7adfbac",
   "metadata": {},
   "outputs": [],
   "source": [
    "df['Defect_of_vehicle'] = df ['Defect_of_vehicle'].astype('int64')"
   ]
  },
  {
   "cell_type": "markdown",
   "id": "eb875b1b",
   "metadata": {},
   "source": []
  },
  {
   "cell_type": "code",
   "execution_count": 75,
   "id": "91e0f2d8",
   "metadata": {
    "scrolled": true
   },
   "outputs": [
    {
     "data": {
      "text/plain": [
       "10    4080\n",
       "9     3451\n",
       "8     2060\n",
       "7     1060\n",
       "6      456\n",
       "5      415\n",
       "4      328\n",
       "3      218\n",
       "2      121\n",
       "1       64\n",
       "0       63\n",
       "Name: Area_accident_occured, dtype: int64"
      ]
     },
     "execution_count": 75,
     "metadata": {},
     "output_type": "execute_result"
    }
   ],
   "source": [
    "df['Area_accident_occured'].value_counts()"
   ]
  },
  {
   "cell_type": "code",
   "execution_count": 31,
   "id": "d58aeae6",
   "metadata": {},
   "outputs": [],
   "source": [
    "df['Area_accident_occured']= df['Area_accident_occured'].replace(' Industrial areas','Industrail Areas')"
   ]
  },
  {
   "cell_type": "code",
   "execution_count": 32,
   "id": "7cf6f405",
   "metadata": {},
   "outputs": [],
   "source": [
    "df['Area_accident_occured']= df['Area_accident_occured'].replace(' Outside rural areas', 'Outside Rural Areas')"
   ]
  },
  {
   "cell_type": "code",
   "execution_count": 33,
   "id": "bb72bf30",
   "metadata": {},
   "outputs": [],
   "source": [
    "df['Area_accident_occured']= df['Area_accident_occured'].replace('Unknown','Other')`"
   ]
  },
  {
   "cell_type": "code",
   "execution_count": 64,
   "id": "c8f88947",
   "metadata": {},
   "outputs": [],
   "source": [
    "df['Area_accident_occured']= df['Area_accident_occured'].replace('  Recreational areas', 'Recreational Areas')"
   ]
  },
  {
   "cell_type": "code",
   "execution_count": 66,
   "id": "0fd0533b",
   "metadata": {},
   "outputs": [],
   "source": [
    "df['Area_accident_occured']= df['Area_accident_occured'].replace(' Hospital areas', 'Hospital Areas')"
   ]
  },
  {
   "cell_type": "code",
   "execution_count": 71,
   "id": "7e928d24",
   "metadata": {},
   "outputs": [],
   "source": [
    "df['Area_accident_occured']= df['Area_accident_occured'].replace('  Market areas', 'Market Areas')"
   ]
  },
  {
   "cell_type": "code",
   "execution_count": 69,
   "id": "37a255b3",
   "metadata": {},
   "outputs": [],
   "source": [
    "df['Area_accident_occured']= df['Area_accident_occured'].replace('Rural village areasOffice areas', 'Rural village areas')"
   ]
  },
  {
   "cell_type": "code",
   "execution_count": null,
   "id": "c375e047",
   "metadata": {},
   "outputs": [],
   "source": []
  },
  {
   "cell_type": "code",
   "execution_count": 74,
   "id": "d8d059a8",
   "metadata": {},
   "outputs": [],
   "source": [
    "label = {'Market Areas':0,'Rural village areas' : 1, 'Hospital Areas': 2,\n",
    "        'Outside Rural Areas': 3, 'Recreational Areas': 4,\n",
    "        'School areas': 5, 'Industrail Areas': 6,\n",
    "        'Church Areas': 7, 'Residential areas': 8,\n",
    "        'Office areas': 9, 'Other': 10}\n",
    "df['Area_accident_occured']= df['Area_accident_occured'].replace(label)"
   ]
  },
  {
   "cell_type": "code",
   "execution_count": 35,
   "id": "9fd7a102",
   "metadata": {},
   "outputs": [
    {
     "data": {
      "text/plain": [
       "10                                 4080\n",
       "9                                  3451\n",
       "8                                  2060\n",
       " Church areas                      1060\n",
       "6                                   456\n",
       "5                                   415\n",
       "  Recreational areas                327\n",
       "3                                   218\n",
       " Hospital areas                     121\n",
       "  Market areas                       63\n",
       "1                                    44\n",
       "Rural village areasOffice areas      20\n",
       "4                                     1\n",
       "Name: Area_accident_occured, dtype: int64"
      ]
     },
     "execution_count": 35,
     "metadata": {},
     "output_type": "execute_result"
    }
   ],
   "source": [
    "df['Area_accident_occured'].value_counts()"
   ]
  },
  {
   "cell_type": "code",
   "execution_count": 96,
   "id": "09133ae7",
   "metadata": {},
   "outputs": [
    {
     "data": {
      "text/plain": [
       "4    4411\n",
       "3    3796\n",
       "5    2102\n",
       "2    1020\n",
       "1     845\n",
       "0     142\n",
       "Name: Lanes_or_Medians, dtype: int64"
      ]
     },
     "execution_count": 96,
     "metadata": {},
     "output_type": "execute_result"
    }
   ],
   "source": [
    "df['Lanes_or_Medians'].value_counts()"
   ]
  },
  {
   "cell_type": "code",
   "execution_count": 37,
   "id": "d103187b",
   "metadata": {},
   "outputs": [],
   "source": [
    "df['Lanes_or_Medians']= df['Lanes_or_Medians'].replace(\"Two-way (divided with broken lines road marking)\",\"Divided Two way\")"
   ]
  },
  {
   "cell_type": "code",
   "execution_count": 38,
   "id": "9589a505",
   "metadata": {},
   "outputs": [],
   "source": [
    "df['Lanes_or_Medians']= df['Lanes_or_Medians'].replace('Two-way (divided with solid lines road marking)','Solid line Two Way')"
   ]
  },
  {
   "cell_type": "code",
   "execution_count": 94,
   "id": "3442be40",
   "metadata": {},
   "outputs": [],
   "source": [
    "df['Lanes_or_Medians']= df['Lanes_or_Medians'].replace('other','Other')\n",
    "df['Lanes_or_Medians']= df['Lanes_or_Medians'].replace('Unknown','Other')"
   ]
  },
  {
   "cell_type": "code",
   "execution_count": 95,
   "id": "9b3f5cc7",
   "metadata": {},
   "outputs": [],
   "source": [
    "label = {'Solid line Two Way': 0, 'One way': 1, 'Double carriageway (median)' : 2,'Undivided Two way':3,'Divided Two way':4,'Other':5}\n",
    "df['Lanes_or_Medians']= df['Lanes_or_Medians'].replace(label)"
   ]
  },
  {
   "cell_type": "code",
   "execution_count": 41,
   "id": "cc6b008d",
   "metadata": {},
   "outputs": [
    {
     "data": {
      "text/plain": [
       "Tangent road with flat terrain                   10601\n",
       "Tangent road with mild grade and flat terrain      501\n",
       "Steep grade downward with mountainous terrain      429\n",
       "Tangent road with mountainous terrain and          396\n",
       "Gentle horizontal curve                            163\n",
       "Escarpments                                        113\n",
       "Sharp reverse curve                                 57\n",
       "Tangent road with rolling terrain                   37\n",
       "Steep grade upward with mountainous terrain         19\n",
       "Name: Road_allignment, dtype: int64"
      ]
     },
     "execution_count": 41,
     "metadata": {},
     "output_type": "execute_result"
    }
   ],
   "source": [
    "df['Road_allignment'].value_counts()"
   ]
  },
  {
   "cell_type": "code",
   "execution_count": 98,
   "id": "02594754",
   "metadata": {},
   "outputs": [],
   "source": [
    "df['Road_allignment']= df['Road_allignment'].replace(\"Tangent road with flat terrain\",\"Tangent(Flat terrian)\")\n",
    "df['Road_allignment']= df['Road_allignment'].replace(\"Tangent road with mild grade and flat terrain\",\"Tangent(Flat terrain, mild grade)\")\n",
    "df['Road_allignment']= df['Road_allignment'].replace(\"Steep grade downward with mountainous terrain\",\"downward(mountain terrain,Steep grade)\")\n",
    "df['Road_allignment']= df['Road_allignment'].replace(\"Tangent road with mountainous terrain and\",\"Tangent(mountain terrain)\")\n",
    "df['Road_allignment']= df['Road_allignment'].replace(\"Steep grade upward with mountainous terrain\",\"upward(mountain terrain,Steep grade)\")\n",
    "df['Road_allignment']= df['Road_allignment'].replace(\"Tangent road with rolling terrain\",\"Tangent(Rolling terrian)\")\n",
    "\n"
   ]
  },
  {
   "cell_type": "code",
   "execution_count": 99,
   "id": "1f524562",
   "metadata": {},
   "outputs": [],
   "source": [
    "label = {'upward(mountain terrain,Steep grade)': 0,\n",
    "        'Tangent(Rolling terrian)' : 1,\n",
    "        'Sharp reverse curve': 2,\n",
    "        'Escarpments': 3,\n",
    "        'Gentle horizontal curve': 4,\n",
    "        'Tangent(mountain terrain)': 5,\n",
    "         'downward(mountain terrain,Steep grade)':6,\n",
    "         'Tangent(Flat terrain, mild grade)':7,\n",
    "         'Tangent(Flat terrian)':8}"
   ]
  },
  {
   "cell_type": "code",
   "execution_count": 100,
   "id": "a91927cc",
   "metadata": {},
   "outputs": [],
   "source": [
    "df['Road_allignment'] = df['Road_allignment'].replace(label)"
   ]
  },
  {
   "cell_type": "code",
   "execution_count": 101,
   "id": "4d0ccac2",
   "metadata": {},
   "outputs": [
    {
     "data": {
      "text/plain": [
       "8    10601\n",
       "7      501\n",
       "6      429\n",
       "5      396\n",
       "4      163\n",
       "3      113\n",
       "2       57\n",
       "1       37\n",
       "0       19\n",
       "Name: Road_allignment, dtype: int64"
      ]
     },
     "execution_count": 101,
     "metadata": {},
     "output_type": "execute_result"
    }
   ],
   "source": [
    "df['Road_allignment'].value_counts()"
   ]
  },
  {
   "cell_type": "code",
   "execution_count": 47,
   "id": "ac46a8a7",
   "metadata": {},
   "outputs": [
    {
     "data": {
      "text/plain": [
       "Y Shape        4543\n",
       "No junction    3837\n",
       "Crossing       2177\n",
       "Unknown        1078\n",
       "Other           445\n",
       "O Shape         164\n",
       "T Shape          60\n",
       "X Shape          12\n",
       "Name: Types_of_Junction, dtype: int64"
      ]
     },
     "execution_count": 47,
     "metadata": {},
     "output_type": "execute_result"
    }
   ],
   "source": [
    "df['Types_of_Junction'].value_counts()"
   ]
  },
  {
   "cell_type": "code",
   "execution_count": 48,
   "id": "d16349a8",
   "metadata": {},
   "outputs": [],
   "source": [
    "label = {'X Shape':0, 'T Shape':1, 'O Shape': 2,'Crossing':3, 'No junction': 4, 'Y Shape': 5, 'Unknown':6, 'Other':6}\n",
    "df['Types_of_Junction'] = df['Types_of_Junction'].replace(label)"
   ]
  },
  {
   "cell_type": "code",
   "execution_count": 49,
   "id": "bd8de605",
   "metadata": {},
   "outputs": [
    {
     "data": {
      "text/plain": [
       "5    4543\n",
       "4    3837\n",
       "3    2177\n",
       "6    1523\n",
       "2     164\n",
       "1      60\n",
       "0      12\n",
       "Name: Types_of_Junction, dtype: int64"
      ]
     },
     "execution_count": 49,
     "metadata": {},
     "output_type": "execute_result"
    }
   ],
   "source": [
    "df['Types_of_Junction'].value_counts()"
   ]
  },
  {
   "cell_type": "code",
   "execution_count": 53,
   "id": "bc5231a2",
   "metadata": {},
   "outputs": [
    {
     "data": {
      "text/plain": [
       "3    11296\n",
       "2      358\n",
       "4      339\n",
       "1      242\n",
       "0       81\n",
       "Name: Road_surface_type, dtype: int64"
      ]
     },
     "execution_count": 53,
     "metadata": {},
     "output_type": "execute_result"
    }
   ],
   "source": [
    "df['Road_surface_type'].value_counts()"
   ]
  },
  {
   "cell_type": "code",
   "execution_count": 51,
   "id": "08874d0f",
   "metadata": {},
   "outputs": [],
   "source": [
    "label = {'Asphalt roads with some distress':0, 'Gravel roads': 1, 'Earth roads': 2, 'Asphalt roads': 3, 'Unknown': 4, 'Other':4}"
   ]
  },
  {
   "cell_type": "code",
   "execution_count": 52,
   "id": "0a18fa8f",
   "metadata": {},
   "outputs": [],
   "source": [
    "df['Road_surface_type'] = df['Road_surface_type'].replace(label)"
   ]
  },
  {
   "cell_type": "code",
   "execution_count": 103,
   "id": "bc173aff",
   "metadata": {},
   "outputs": [
    {
     "data": {
      "text/plain": [
       "Dry                     9340\n",
       "Wet or damp             2904\n",
       "Snow                      70\n",
       "Flood over 3cm. deep       2\n",
       "Name: Road_surface_conditions, dtype: int64"
      ]
     },
     "execution_count": 103,
     "metadata": {},
     "output_type": "execute_result"
    }
   ],
   "source": [
    "df['Road_surface_conditions'].value_counts()"
   ]
  },
  {
   "cell_type": "code",
   "execution_count": 104,
   "id": "31f8b6ba",
   "metadata": {},
   "outputs": [],
   "source": [
    "label = {'Flood over 3cm. deep': 0, 'Snow':1,'Wet or damp':2, 'Dry':3}\n",
    "df['Road_surface_conditions'] = df['Road_surface_conditions'].replace(label)"
   ]
  },
  {
   "cell_type": "code",
   "execution_count": 105,
   "id": "68f3f3ef",
   "metadata": {},
   "outputs": [
    {
     "data": {
      "text/plain": [
       "3    9340\n",
       "2    2904\n",
       "1      70\n",
       "0       2\n",
       "Name: Road_surface_conditions, dtype: int64"
      ]
     },
     "execution_count": 105,
     "metadata": {},
     "output_type": "execute_result"
    }
   ],
   "source": [
    "df['Road_surface_conditions'].value_counts()"
   ]
  },
  {
   "cell_type": "code",
   "execution_count": 106,
   "id": "2c4d5cec",
   "metadata": {},
   "outputs": [
    {
     "data": {
      "text/plain": [
       "Daylight                   8798\n",
       "Darkness - lights lit      3286\n",
       "Darkness - no lighting      192\n",
       "Darkness - lights unlit      40\n",
       "Name: Light_conditions, dtype: int64"
      ]
     },
     "execution_count": 106,
     "metadata": {},
     "output_type": "execute_result"
    }
   ],
   "source": [
    "df['Light_conditions'].value_counts()"
   ]
  },
  {
   "cell_type": "code",
   "execution_count": 109,
   "id": "25485b14",
   "metadata": {},
   "outputs": [],
   "source": [
    "label = {'Darkness - lights unlit': 0, 'Darkness - no lighting':1,'Darkness - lights lit':2, 'Daylight':3}\n",
    "df['Light_conditions'] = df['Light_conditions'].replace(label)"
   ]
  },
  {
   "cell_type": "code",
   "execution_count": 110,
   "id": "480d225d",
   "metadata": {},
   "outputs": [
    {
     "data": {
      "text/plain": [
       "3    8798\n",
       "2    3286\n",
       "1     192\n",
       "0      40\n",
       "Name: Light_conditions, dtype: int64"
      ]
     },
     "execution_count": 110,
     "metadata": {},
     "output_type": "execute_result"
    }
   ],
   "source": [
    "df['Light_conditions'].value_counts()"
   ]
  },
  {
   "cell_type": "code",
   "execution_count": 111,
   "id": "3cd074b0",
   "metadata": {},
   "outputs": [
    {
     "data": {
      "text/plain": [
       "Normal               10063\n",
       "Raining               1331\n",
       "Other                  296\n",
       "Unknown                292\n",
       "Cloudy                 125\n",
       "Windy                   98\n",
       "Snow                    61\n",
       "Raining and Windy       40\n",
       "Fog or mist             10\n",
       "Name: Weather_conditions, dtype: int64"
      ]
     },
     "execution_count": 111,
     "metadata": {},
     "output_type": "execute_result"
    }
   ],
   "source": [
    "df['Weather_conditions'].value_counts()"
   ]
  },
  {
   "cell_type": "code",
   "execution_count": 112,
   "id": "1d81915e",
   "metadata": {},
   "outputs": [],
   "source": [
    "label = {'Fog or mist':0,'Raining and Windy' : 1, 'Snow': 2,\n",
    "        'Windy': 3, 'Cloudy': 4,\n",
    "        'Raining': 5, 'Normal': 6,\n",
    "        'Other': 7, 'Unknown': 7}\n",
    "df['Weather_conditions']= df['Weather_conditions'].replace(label)"
   ]
  },
  {
   "cell_type": "code",
   "execution_count": 113,
   "id": "1fe04515",
   "metadata": {},
   "outputs": [
    {
     "data": {
      "text/plain": [
       "6    10063\n",
       "5     1331\n",
       "7      588\n",
       "4      125\n",
       "3       98\n",
       "2       61\n",
       "1       40\n",
       "0       10\n",
       "Name: Weather_conditions, dtype: int64"
      ]
     },
     "execution_count": 113,
     "metadata": {},
     "output_type": "execute_result"
    }
   ],
   "source": [
    "df['Weather_conditions'].value_counts()"
   ]
  },
  {
   "cell_type": "code",
   "execution_count": 116,
   "id": "f94fe725",
   "metadata": {},
   "outputs": [
    {
     "data": {
      "text/plain": [
       "Vehicle with vehicle collision             8774\n",
       "Collision with roadside objects            1786\n",
       "Collision with pedestrians                  896\n",
       "Rollover                                    397\n",
       "Collision with animals                      171\n",
       "Unknown                                     169\n",
       "Collision with roadside-parked vehicles      54\n",
       "Fall from vehicles                           34\n",
       "Other                                        26\n",
       "With Train                                    9\n",
       "Name: Type_of_collision, dtype: int64"
      ]
     },
     "execution_count": 116,
     "metadata": {},
     "output_type": "execute_result"
    }
   ],
   "source": [
    "df['Type_of_collision'].value_counts()"
   ]
  },
  {
   "cell_type": "code",
   "execution_count": 118,
   "id": "efa517a4",
   "metadata": {},
   "outputs": [],
   "source": [
    "label = {'With Train':0,'Fall from vehicles' : 1, 'Collision with roadside-parked vehicles': 2,\n",
    "        'Collision with animals': 3, 'Rollover': 4,\n",
    "        'Collision with pedestrians': 5, 'Collision with roadside objects': 6,\n",
    "        'Vehicle with vehicle collision': 7, 'Other': 8,\n",
    "        'Unknown': 8}\n",
    "df['Type_of_collision']= df['Type_of_collision'].replace(label)"
   ]
  },
  {
   "cell_type": "code",
   "execution_count": 119,
   "id": "d467a121",
   "metadata": {},
   "outputs": [
    {
     "data": {
      "text/plain": [
       "7    8774\n",
       "6    1786\n",
       "5     896\n",
       "4     397\n",
       "8     195\n",
       "3     171\n",
       "2      54\n",
       "1      34\n",
       "0       9\n",
       "Name: Type_of_collision, dtype: int64"
      ]
     },
     "execution_count": 119,
     "metadata": {},
     "output_type": "execute_result"
    }
   ],
   "source": [
    "df['Type_of_collision'].value_counts()"
   ]
  },
  {
   "cell_type": "code",
   "execution_count": 122,
   "id": "8ad03ad6",
   "metadata": {},
   "outputs": [
    {
     "data": {
      "text/plain": [
       "Going straight         8158\n",
       "Other                  1245\n",
       "Moving Backward         985\n",
       "Reversing               563\n",
       "Turnover                489\n",
       "Getting off             339\n",
       "Entering a junction     193\n",
       "Overtaking               96\n",
       "Unknown                  88\n",
       "Stopping                 61\n",
       "U-Turn                   50\n",
       "Waiting to go            39\n",
       "Parked                   10\n",
       "Name: Vehicle_movement, dtype: int64"
      ]
     },
     "execution_count": 122,
     "metadata": {},
     "output_type": "execute_result"
    }
   ],
   "source": [
    "df['Vehicle_movement'].value_counts()"
   ]
  },
  {
   "cell_type": "code",
   "execution_count": 123,
   "id": "f21458f5",
   "metadata": {},
   "outputs": [],
   "source": [
    "label = {'Parked':0,'Waiting to go' : 1, 'U-Turn': 2,\n",
    "        'Stopping': 3, 'Overtaking': 4,\n",
    "        'Entering a junction': 5, 'Getting off': 6,\n",
    "        'Turnover': 7, 'Reversing': 8,\n",
    "        'Moving Backward': 9, 'Going straight': 10, 'Other':11,\n",
    "        'Unknown' : 11}\n",
    "df['Vehicle_movement']= df['Vehicle_movement'].replace(label)"
   ]
  },
  {
   "cell_type": "code",
   "execution_count": 127,
   "id": "774a0359",
   "metadata": {},
   "outputs": [
    {
     "data": {
      "text/plain": [
       "10    8158\n",
       "11    1333\n",
       "9      985\n",
       "8      563\n",
       "7      489\n",
       "6      339\n",
       "5      193\n",
       "4       96\n",
       "3       61\n",
       "2       50\n",
       "1       39\n",
       "0       10\n",
       "Name: Vehicle_movement, dtype: int64"
      ]
     },
     "execution_count": 127,
     "metadata": {},
     "output_type": "execute_result"
    }
   ],
   "source": [
    "df['Vehicle_movement'].value_counts()"
   ]
  },
  {
   "cell_type": "code",
   "execution_count": 128,
   "id": "0b8326aa",
   "metadata": {},
   "outputs": [
    {
     "data": {
      "text/plain": [
       "Driver or rider    4944\n",
       "Unknown            4443\n",
       "Pedestrian         1649\n",
       "Passenger          1280\n",
       "Name: Casualty_class, dtype: int64"
      ]
     },
     "execution_count": 128,
     "metadata": {},
     "output_type": "execute_result"
    }
   ],
   "source": [
    "df['Casualty_class'].value_counts()"
   ]
  },
  {
   "cell_type": "code",
   "execution_count": 135,
   "id": "3c6c0064",
   "metadata": {},
   "outputs": [],
   "source": [
    "labels = {'Passenger': 0, 'Pedestrian':1,'Driver or rider': 2,'Unknown':3}\n",
    "df['Casualty_class']=df['Casualty_class'].replace(labels)"
   ]
  },
  {
   "cell_type": "code",
   "execution_count": 136,
   "id": "2b757f51",
   "metadata": {},
   "outputs": [
    {
     "data": {
      "text/plain": [
       "2    4944\n",
       "3    4443\n",
       "1    1649\n",
       "0    1280\n",
       "Name: Casualty_class, dtype: int64"
      ]
     },
     "execution_count": 136,
     "metadata": {},
     "output_type": "execute_result"
    }
   ],
   "source": [
    "df['Casualty_class'].value_counts()"
   ]
  },
  {
   "cell_type": "code",
   "execution_count": 139,
   "id": "30d3217c",
   "metadata": {},
   "outputs": [
    {
     "data": {
      "text/plain": [
       "Male       5253\n",
       "Unknown    4443\n",
       "Female     2620\n",
       "Name: Sex_of_casualty, dtype: int64"
      ]
     },
     "execution_count": 139,
     "metadata": {},
     "output_type": "execute_result"
    }
   ],
   "source": [
    "df['Sex_of_casualty'].value_counts()"
   ]
  },
  {
   "cell_type": "code",
   "execution_count": 140,
   "id": "0384ee97",
   "metadata": {},
   "outputs": [],
   "source": [
    "label = {'Male': 0, 'Female': 1, 'Unknown':2}\n",
    "\n",
    "df['Sex_of_casualty'] = df['Sex_of_casualty'].replace(label)"
   ]
  },
  {
   "cell_type": "code",
   "execution_count": 141,
   "id": "d42bf260",
   "metadata": {},
   "outputs": [
    {
     "data": {
      "text/plain": [
       "0    5253\n",
       "2    4443\n",
       "1    2620\n",
       "Name: Sex_of_casualty, dtype: int64"
      ]
     },
     "execution_count": 141,
     "metadata": {},
     "output_type": "execute_result"
    }
   ],
   "source": [
    "df['Sex_of_casualty'].value_counts()"
   ]
  },
  {
   "cell_type": "code",
   "execution_count": 172,
   "id": "f33d51cb",
   "metadata": {},
   "outputs": [
    {
     "name": "stdout",
     "output_type": "stream",
     "text": [
      "<class 'pandas.core.frame.DataFrame'>\n",
      "RangeIndex: 12316 entries, 0 to 12315\n",
      "Data columns (total 32 columns):\n",
      " #   Column                       Non-Null Count  Dtype \n",
      "---  ------                       --------------  ----- \n",
      " 0   Day_of_week                  12316 non-null  int64 \n",
      " 1   Age_band_of_driver           12316 non-null  int64 \n",
      " 2   Sex_of_driver                12316 non-null  int64 \n",
      " 3   Educational_level            12316 non-null  int64 \n",
      " 4   Vehicle_driver_relation      12316 non-null  int64 \n",
      " 5   Driving_experience           12316 non-null  int64 \n",
      " 6   Type_of_vehicle              12316 non-null  int64 \n",
      " 7   Owner_of_vehicle             12316 non-null  int64 \n",
      " 8   Service_year_of_vehicle      12316 non-null  int64 \n",
      " 9   Defect_of_vehicle            12316 non-null  int64 \n",
      " 10  Area_accident_occured        12316 non-null  int64 \n",
      " 11  Lanes_or_Medians             12316 non-null  int64 \n",
      " 12  Road_allignment              12316 non-null  int64 \n",
      " 13  Types_of_Junction            12316 non-null  int64 \n",
      " 14  Road_surface_type            12316 non-null  int64 \n",
      " 15  Road_surface_conditions      12316 non-null  int64 \n",
      " 16  Light_conditions             12316 non-null  int64 \n",
      " 17  Weather_conditions           12316 non-null  int64 \n",
      " 18  Type_of_collision            12316 non-null  int64 \n",
      " 19  Number_of_vehicles_involved  12316 non-null  int64 \n",
      " 20  Number_of_casualties         12316 non-null  int64 \n",
      " 21  Vehicle_movement             12316 non-null  int64 \n",
      " 22  Casualty_class               12316 non-null  int64 \n",
      " 23  Sex_of_casualty              12316 non-null  int64 \n",
      " 24  Age_band_of_casualty         12316 non-null  int64 \n",
      " 25  Casualty_severity            12316 non-null  int64 \n",
      " 26  Work_of_casuality            12316 non-null  int64 \n",
      " 27  Fitness_of_casuality         12316 non-null  int64 \n",
      " 28  Pedestrian_movement          12316 non-null  object\n",
      " 29  Cause_of_accident            12316 non-null  object\n",
      " 30  Accident_severity            12316 non-null  object\n",
      " 31  Hour_of_Day                  12316 non-null  int64 \n",
      "dtypes: int64(29), object(3)\n",
      "memory usage: 3.0+ MB\n"
     ]
    }
   ],
   "source": [
    "df.info()"
   ]
  },
  {
   "cell_type": "code",
   "execution_count": 144,
   "id": "97931e75",
   "metadata": {},
   "outputs": [
    {
     "data": {
      "text/plain": [
       "Unknown     4443\n",
       "18-30       3145\n",
       "31-50       2455\n",
       "Under 18    1279\n",
       "Over 51      994\n",
       "Name: Age_band_of_casualty, dtype: int64"
      ]
     },
     "execution_count": 144,
     "metadata": {},
     "output_type": "execute_result"
    }
   ],
   "source": [
    "df['Age_band_of_casualty'].value_counts()"
   ]
  },
  {
   "cell_type": "code",
   "execution_count": 145,
   "id": "43e8aadb",
   "metadata": {},
   "outputs": [],
   "source": [
    "label = {'Under 18' :0, '18-30':1, '31-50':2,'Over 51': 3, 'Unknown':4}\n",
    "df['Age_band_of_casualty'] = df['Age_band_of_casualty'].replace(label)"
   ]
  },
  {
   "cell_type": "code",
   "execution_count": 146,
   "id": "d42020be",
   "metadata": {},
   "outputs": [
    {
     "data": {
      "text/plain": [
       "4    4443\n",
       "1    3145\n",
       "2    2455\n",
       "0    1279\n",
       "3     994\n",
       "Name: Age_band_of_casualty, dtype: int64"
      ]
     },
     "execution_count": 146,
     "metadata": {},
     "output_type": "execute_result"
    }
   ],
   "source": [
    "df['Age_band_of_casualty'].value_counts()"
   ]
  },
  {
   "cell_type": "code",
   "execution_count": 148,
   "id": "c73324bc",
   "metadata": {},
   "outputs": [
    {
     "data": {
      "text/plain": [
       "3          7076\n",
       "Unknown    4443\n",
       "2           771\n",
       "1            26\n",
       "Name: Casualty_severity, dtype: int64"
      ]
     },
     "execution_count": 148,
     "metadata": {},
     "output_type": "execute_result"
    }
   ],
   "source": [
    "df['Casualty_severity'].value_counts()"
   ]
  },
  {
   "cell_type": "code",
   "execution_count": 150,
   "id": "922b7e98",
   "metadata": {},
   "outputs": [],
   "source": [
    "df['Casualty_severity'] = df['Casualty_severity'].replace('Unknown',0)"
   ]
  },
  {
   "cell_type": "code",
   "execution_count": 151,
   "id": "397d6522",
   "metadata": {},
   "outputs": [
    {
     "data": {
      "text/plain": [
       "3    7076\n",
       "0    4443\n",
       "2     771\n",
       "1      26\n",
       "Name: Casualty_severity, dtype: int64"
      ]
     },
     "execution_count": 151,
     "metadata": {},
     "output_type": "execute_result"
    }
   ],
   "source": [
    "df['Casualty_severity'].value_counts()"
   ]
  },
  {
   "cell_type": "code",
   "execution_count": 158,
   "id": "327d8dd0",
   "metadata": {},
   "outputs": [],
   "source": [
    "df['Casualty_severity'] = df ['Casualty_severity'].astype('int64')"
   ]
  },
  {
   "cell_type": "code",
   "execution_count": 160,
   "id": "380401db",
   "metadata": {},
   "outputs": [
    {
     "data": {
      "text/plain": [
       "Driver           5903\n",
       "Unknown          3217\n",
       "Self-employed    2044\n",
       "Employee          553\n",
       "Other             463\n",
       "Student           103\n",
       "Unemployed         33\n",
       "Name: Work_of_casuality, dtype: int64"
      ]
     },
     "execution_count": 160,
     "metadata": {},
     "output_type": "execute_result"
    }
   ],
   "source": [
    "df['Work_of_casuality'].value_counts()"
   ]
  },
  {
   "cell_type": "code",
   "execution_count": 165,
   "id": "58715d4d",
   "metadata": {},
   "outputs": [],
   "source": [
    "label = {'Unemployed':0, 'Student':1, 'Employee': 2,'Self-employed':3, 'Driver': 4, 'Unknown': 5, 'Other':5}\n",
    "df['Work_of_casuality'] = df['Work_of_casuality'].replace(label)"
   ]
  },
  {
   "cell_type": "code",
   "execution_count": 166,
   "id": "5cfce18c",
   "metadata": {},
   "outputs": [
    {
     "data": {
      "text/plain": [
       "4    5903\n",
       "5    3680\n",
       "3    2044\n",
       "2     553\n",
       "1     103\n",
       "0      33\n",
       "Name: Work_of_casuality, dtype: int64"
      ]
     },
     "execution_count": 166,
     "metadata": {},
     "output_type": "execute_result"
    }
   ],
   "source": [
    "df['Work_of_casuality'].value_counts()"
   ]
  },
  {
   "cell_type": "code",
   "execution_count": 168,
   "id": "b9357dfd",
   "metadata": {},
   "outputs": [
    {
     "data": {
      "text/plain": [
       "Normal          12243\n",
       "NormalNormal       19\n",
       "Deaf               18\n",
       "Other              18\n",
       "Blind              18\n",
       "Name: Fitness_of_casuality, dtype: int64"
      ]
     },
     "execution_count": 168,
     "metadata": {},
     "output_type": "execute_result"
    }
   ],
   "source": [
    "df['Fitness_of_casuality'].value_counts()"
   ]
  },
  {
   "cell_type": "code",
   "execution_count": 199,
   "id": "3f67a73e",
   "metadata": {},
   "outputs": [],
   "source": [
    "df.to_csv('dataset/prep.csv', index=False)"
   ]
  },
  {
   "cell_type": "code",
   "execution_count": 191,
   "id": "97e120c5",
   "metadata": {},
   "outputs": [],
   "source": [
    "df = pd.read_csv('dataset/prep.csv')"
   ]
  },
  {
   "cell_type": "code",
   "execution_count": 192,
   "id": "97570a8b",
   "metadata": {},
   "outputs": [],
   "source": [
    "label = {'Blind' : 0, 'Deaf': 1, 'Normal' : 2,'NormalNormal':2, 'Other':3}\n",
    "df['Fitness_of_casuality'] = df['Fitness_of_casuality'].replace(label)"
   ]
  },
  {
   "cell_type": "code",
   "execution_count": 193,
   "id": "e8e5ae79",
   "metadata": {},
   "outputs": [
    {
     "data": {
      "text/plain": [
       "2    12262\n",
       "1       18\n",
       "3       18\n",
       "0       18\n",
       "Name: Fitness_of_casuality, dtype: int64"
      ]
     },
     "execution_count": 193,
     "metadata": {},
     "output_type": "execute_result"
    }
   ],
   "source": [
    "df['Fitness_of_casuality'].value_counts()"
   ]
  },
  {
   "cell_type": "code",
   "execution_count": 174,
   "id": "2d970f46",
   "metadata": {},
   "outputs": [
    {
     "data": {
      "text/plain": [
       "Not a Pedestrian                                                                                                                         11390\n",
       "Crossing from nearside - masked by parked or statioNot a Pedestrianry vehicle                                                              337\n",
       "Unknown or other                                                                                                                           293\n",
       "Crossing from driver's nearside                                                                                                            140\n",
       "Crossing from offside - masked by  parked or statioNot a Pedestrianry vehicle                                                               72\n",
       "In carriageway, statioNot a Pedestrianry - not crossing  (standing or playing)                                                              46\n",
       "Walking along in carriageway, back to traffic                                                                                               18\n",
       "In carriageway, statioNot a Pedestrianry - not crossing  (standing or playing) - masked by parked or statioNot a Pedestrianry vehicle       13\n",
       "Walking along in carriageway, facing traffic                                                                                                 7\n",
       "Name: Pedestrian_movement, dtype: int64"
      ]
     },
     "execution_count": 174,
     "metadata": {},
     "output_type": "execute_result"
    }
   ],
   "source": [
    "df['Pedestrian_movement'].value_counts()"
   ]
  },
  {
   "cell_type": "code",
   "execution_count": 177,
   "id": "3173b107",
   "metadata": {},
   "outputs": [],
   "source": [
    "label = {'Walking along in carriageway, facing traffic' : 0,\n",
    "         'In carriageway, statioNot a Pedestrianry - not crossing  (standing or playing) - masked by parked or statioNot a Pedestrianry vehicle':1,\n",
    "         'Walking along in carriageway, back to traffic':2,\n",
    "         'In carriageway, statioNot a Pedestrianry - not crossing  (standing or playing)':3,\n",
    "         'Crossing from offside - masked by  parked or statioNot a Pedestrianry vehicle':4,\n",
    "         \"Crossing from driver's nearside\": 5,\n",
    "         'Crossing from nearside - masked by parked or statioNot a Pedestrianry vehicle':6,\n",
    "         \"Not a Pedestrian\":7,\n",
    "        \"Unknown or other\": 8}\n",
    "\n",
    "df['Pedestrian_movement'] = df['Pedestrian_movement'].replace(label)"
   ]
  },
  {
   "cell_type": "code",
   "execution_count": 179,
   "id": "48c97eb3",
   "metadata": {},
   "outputs": [
    {
     "data": {
      "text/plain": [
       "7    11390\n",
       "6      337\n",
       "8      293\n",
       "5      140\n",
       "4       72\n",
       "3       46\n",
       "2       18\n",
       "1       13\n",
       "0        7\n",
       "Name: Pedestrian_movement, dtype: int64"
      ]
     },
     "execution_count": 179,
     "metadata": {},
     "output_type": "execute_result"
    }
   ],
   "source": [
    "df['Pedestrian_movement'].value_counts()"
   ]
  },
  {
   "cell_type": "code",
   "execution_count": 195,
   "id": "53f34794",
   "metadata": {},
   "outputs": [
    {
     "data": {
      "text/plain": [
       "No distancing                           2263\n",
       "Changing lane to the right              1808\n",
       "Changing lane to the left               1473\n",
       "Driving carelessly                      1402\n",
       "No priority to vehicle                  1207\n",
       "Moving Backward                         1137\n",
       "No priority to pedestrian                721\n",
       "Other                                    456\n",
       "Overtaking                               430\n",
       "Driving under the influence of drugs     340\n",
       "Driving to the left                      284\n",
       "Getting off the vehicle improperly       197\n",
       "Driving at high speed                    174\n",
       "Overturning                              149\n",
       "Turnover                                  78\n",
       "Overspeed                                 61\n",
       "Overloading                               59\n",
       "Drunk driving                             27\n",
       "Unknown                                   25\n",
       "Improper parking                          25\n",
       "Name: Cause_of_accident, dtype: int64"
      ]
     },
     "execution_count": 195,
     "metadata": {},
     "output_type": "execute_result"
    }
   ],
   "source": [
    "df['Cause_of_accident'].value_counts()"
   ]
  },
  {
   "cell_type": "code",
   "execution_count": 196,
   "id": "197a2900",
   "metadata": {},
   "outputs": [],
   "source": [
    "label = {'Improper parking':0,'Drunk driving':1, 'Overloading':2,'Overspeed':3,'Turnover':4,\n",
    "        'Overturning':5, 'Driving at high speed':6,'Getting off the vehicle improperly':7,'Driving to the left':8,\n",
    "        'Driving under the influence of drugs':9, 'Overtaking':10, 'No priority to pedestrian':11,'Moving Backward':12,\n",
    "        'No priority to vehicle':12,'Driving carelessly':13,\n",
    "        'Changing lane to the left':14, 'Changing lane to the right':15, 'No distancing':16, 'Unknown': 17,'Other':17}"
   ]
  },
  {
   "cell_type": "code",
   "execution_count": 197,
   "id": "89e7ba78",
   "metadata": {},
   "outputs": [],
   "source": [
    "df['Cause_of_accident'] = df['Cause_of_accident'].replace(label)"
   ]
  },
  {
   "cell_type": "code",
   "execution_count": 198,
   "id": "d8ec7d86",
   "metadata": {},
   "outputs": [
    {
     "data": {
      "text/plain": [
       "12    2344\n",
       "16    2263\n",
       "15    1808\n",
       "14    1473\n",
       "13    1402\n",
       "11     721\n",
       "17     481\n",
       "10     430\n",
       "9      340\n",
       "8      284\n",
       "7      197\n",
       "6      174\n",
       "5      149\n",
       "4       78\n",
       "3       61\n",
       "2       59\n",
       "1       27\n",
       "0       25\n",
       "Name: Cause_of_accident, dtype: int64"
      ]
     },
     "execution_count": 198,
     "metadata": {},
     "output_type": "execute_result"
    }
   ],
   "source": [
    "df['Cause_of_accident'].value_counts()"
   ]
  },
  {
   "cell_type": "code",
   "execution_count": 200,
   "id": "09986a8e",
   "metadata": {},
   "outputs": [
    {
     "data": {
      "text/html": [
       "<div>\n",
       "<style scoped>\n",
       "    .dataframe tbody tr th:only-of-type {\n",
       "        vertical-align: middle;\n",
       "    }\n",
       "\n",
       "    .dataframe tbody tr th {\n",
       "        vertical-align: top;\n",
       "    }\n",
       "\n",
       "    .dataframe thead th {\n",
       "        text-align: right;\n",
       "    }\n",
       "</style>\n",
       "<table border=\"1\" class=\"dataframe\">\n",
       "  <thead>\n",
       "    <tr style=\"text-align: right;\">\n",
       "      <th></th>\n",
       "      <th>Day_of_week</th>\n",
       "      <th>Age_band_of_driver</th>\n",
       "      <th>Sex_of_driver</th>\n",
       "      <th>Educational_level</th>\n",
       "      <th>Vehicle_driver_relation</th>\n",
       "      <th>Driving_experience</th>\n",
       "      <th>Type_of_vehicle</th>\n",
       "      <th>Owner_of_vehicle</th>\n",
       "      <th>Service_year_of_vehicle</th>\n",
       "      <th>Defect_of_vehicle</th>\n",
       "      <th>...</th>\n",
       "      <th>Casualty_class</th>\n",
       "      <th>Sex_of_casualty</th>\n",
       "      <th>Age_band_of_casualty</th>\n",
       "      <th>Casualty_severity</th>\n",
       "      <th>Work_of_casuality</th>\n",
       "      <th>Fitness_of_casuality</th>\n",
       "      <th>Pedestrian_movement</th>\n",
       "      <th>Cause_of_accident</th>\n",
       "      <th>Accident_severity</th>\n",
       "      <th>Hour_of_Day</th>\n",
       "    </tr>\n",
       "  </thead>\n",
       "  <tbody>\n",
       "    <tr>\n",
       "      <th>0</th>\n",
       "      <td>0</td>\n",
       "      <td>1</td>\n",
       "      <td>0</td>\n",
       "      <td>5</td>\n",
       "      <td>1</td>\n",
       "      <td>2</td>\n",
       "      <td>4</td>\n",
       "      <td>0</td>\n",
       "      <td>4</td>\n",
       "      <td>0</td>\n",
       "      <td>...</td>\n",
       "      <td>3</td>\n",
       "      <td>2</td>\n",
       "      <td>4</td>\n",
       "      <td>0</td>\n",
       "      <td>5</td>\n",
       "      <td>2</td>\n",
       "      <td>7</td>\n",
       "      <td>12</td>\n",
       "      <td>Slight Injury</td>\n",
       "      <td>17</td>\n",
       "    </tr>\n",
       "    <tr>\n",
       "      <th>1</th>\n",
       "      <td>0</td>\n",
       "      <td>2</td>\n",
       "      <td>0</td>\n",
       "      <td>2</td>\n",
       "      <td>1</td>\n",
       "      <td>5</td>\n",
       "      <td>6</td>\n",
       "      <td>0</td>\n",
       "      <td>3</td>\n",
       "      <td>0</td>\n",
       "      <td>...</td>\n",
       "      <td>3</td>\n",
       "      <td>2</td>\n",
       "      <td>4</td>\n",
       "      <td>0</td>\n",
       "      <td>5</td>\n",
       "      <td>2</td>\n",
       "      <td>7</td>\n",
       "      <td>10</td>\n",
       "      <td>Slight Injury</td>\n",
       "      <td>17</td>\n",
       "    </tr>\n",
       "    <tr>\n",
       "      <th>2</th>\n",
       "      <td>0</td>\n",
       "      <td>1</td>\n",
       "      <td>0</td>\n",
       "      <td>2</td>\n",
       "      <td>1</td>\n",
       "      <td>2</td>\n",
       "      <td>7</td>\n",
       "      <td>0</td>\n",
       "      <td>5</td>\n",
       "      <td>0</td>\n",
       "      <td>...</td>\n",
       "      <td>2</td>\n",
       "      <td>0</td>\n",
       "      <td>2</td>\n",
       "      <td>3</td>\n",
       "      <td>4</td>\n",
       "      <td>2</td>\n",
       "      <td>7</td>\n",
       "      <td>14</td>\n",
       "      <td>Serious Injury</td>\n",
       "      <td>17</td>\n",
       "    </tr>\n",
       "    <tr>\n",
       "      <th>3</th>\n",
       "      <td>6</td>\n",
       "      <td>1</td>\n",
       "      <td>0</td>\n",
       "      <td>2</td>\n",
       "      <td>1</td>\n",
       "      <td>4</td>\n",
       "      <td>6</td>\n",
       "      <td>1</td>\n",
       "      <td>5</td>\n",
       "      <td>0</td>\n",
       "      <td>...</td>\n",
       "      <td>1</td>\n",
       "      <td>1</td>\n",
       "      <td>1</td>\n",
       "      <td>3</td>\n",
       "      <td>4</td>\n",
       "      <td>2</td>\n",
       "      <td>7</td>\n",
       "      <td>15</td>\n",
       "      <td>Slight Injury</td>\n",
       "      <td>1</td>\n",
       "    </tr>\n",
       "    <tr>\n",
       "      <th>4</th>\n",
       "      <td>6</td>\n",
       "      <td>1</td>\n",
       "      <td>0</td>\n",
       "      <td>2</td>\n",
       "      <td>1</td>\n",
       "      <td>2</td>\n",
       "      <td>8</td>\n",
       "      <td>0</td>\n",
       "      <td>3</td>\n",
       "      <td>0</td>\n",
       "      <td>...</td>\n",
       "      <td>3</td>\n",
       "      <td>2</td>\n",
       "      <td>4</td>\n",
       "      <td>0</td>\n",
       "      <td>5</td>\n",
       "      <td>2</td>\n",
       "      <td>7</td>\n",
       "      <td>10</td>\n",
       "      <td>Slight Injury</td>\n",
       "      <td>1</td>\n",
       "    </tr>\n",
       "  </tbody>\n",
       "</table>\n",
       "<p>5 rows × 32 columns</p>\n",
       "</div>"
      ],
      "text/plain": [
       "   Day_of_week  Age_band_of_driver  Sex_of_driver  Educational_level  \\\n",
       "0            0                   1              0                  5   \n",
       "1            0                   2              0                  2   \n",
       "2            0                   1              0                  2   \n",
       "3            6                   1              0                  2   \n",
       "4            6                   1              0                  2   \n",
       "\n",
       "   Vehicle_driver_relation  Driving_experience  Type_of_vehicle  \\\n",
       "0                        1                   2                4   \n",
       "1                        1                   5                6   \n",
       "2                        1                   2                7   \n",
       "3                        1                   4                6   \n",
       "4                        1                   2                8   \n",
       "\n",
       "   Owner_of_vehicle  Service_year_of_vehicle  Defect_of_vehicle  ...  \\\n",
       "0                 0                        4                  0  ...   \n",
       "1                 0                        3                  0  ...   \n",
       "2                 0                        5                  0  ...   \n",
       "3                 1                        5                  0  ...   \n",
       "4                 0                        3                  0  ...   \n",
       "\n",
       "   Casualty_class  Sex_of_casualty  Age_band_of_casualty  Casualty_severity  \\\n",
       "0               3                2                     4                  0   \n",
       "1               3                2                     4                  0   \n",
       "2               2                0                     2                  3   \n",
       "3               1                1                     1                  3   \n",
       "4               3                2                     4                  0   \n",
       "\n",
       "   Work_of_casuality  Fitness_of_casuality  Pedestrian_movement  \\\n",
       "0                  5                     2                    7   \n",
       "1                  5                     2                    7   \n",
       "2                  4                     2                    7   \n",
       "3                  4                     2                    7   \n",
       "4                  5                     2                    7   \n",
       "\n",
       "   Cause_of_accident  Accident_severity  Hour_of_Day  \n",
       "0                 12      Slight Injury           17  \n",
       "1                 10      Slight Injury           17  \n",
       "2                 14     Serious Injury           17  \n",
       "3                 15      Slight Injury            1  \n",
       "4                 10      Slight Injury            1  \n",
       "\n",
       "[5 rows x 32 columns]"
      ]
     },
     "execution_count": 200,
     "metadata": {},
     "output_type": "execute_result"
    }
   ],
   "source": [
    "df.head()"
   ]
  },
  {
   "cell_type": "code",
   "execution_count": 201,
   "id": "b5b5cfbf",
   "metadata": {},
   "outputs": [],
   "source": [
    "data = df.drop('Accident_severity', axis = 1)\n",
    "\n",
    "labels = df['Accident_severity']"
   ]
  },
  {
   "cell_type": "code",
   "execution_count": 203,
   "id": "1a5606b5",
   "metadata": {},
   "outputs": [
    {
     "data": {
      "text/plain": [
       "(12316, 31)"
      ]
     },
     "execution_count": 203,
     "metadata": {},
     "output_type": "execute_result"
    }
   ],
   "source": [
    "data.shape"
   ]
  },
  {
   "cell_type": "code",
   "execution_count": 204,
   "id": "31985afc",
   "metadata": {},
   "outputs": [
    {
     "data": {
      "text/plain": [
       "(12316,)"
      ]
     },
     "execution_count": 204,
     "metadata": {},
     "output_type": "execute_result"
    }
   ],
   "source": [
    "labels.shape"
   ]
  },
  {
   "cell_type": "code",
   "execution_count": 206,
   "id": "58e52c4d",
   "metadata": {},
   "outputs": [
    {
     "name": "stdout",
     "output_type": "stream",
     "text": [
      "Encoded labels: ['Fatal injury' 'Serious Injury' 'Slight Injury']\n"
     ]
    }
   ],
   "source": [
    "from sklearn.preprocessing import LabelEncoder\n",
    "lb = LabelEncoder()\n",
    "lb.fit(labels)\n",
    "label_encoded = lb.transform(labels)\n",
    "print(\"Encoded labels:\",lb.classes_)\n",
    "label_en = pd.Series(label_encoded)"
   ]
  },
  {
   "cell_type": "code",
   "execution_count": 208,
   "id": "87f020a6",
   "metadata": {},
   "outputs": [
    {
     "data": {
      "text/plain": [
       "2    10415\n",
       "1     1743\n",
       "0      158\n",
       "dtype: int64"
      ]
     },
     "execution_count": 208,
     "metadata": {},
     "output_type": "execute_result"
    }
   ],
   "source": [
    "label_en.value_counts()"
   ]
  },
  {
   "cell_type": "code",
   "execution_count": 214,
   "id": "4db3ed06",
   "metadata": {},
   "outputs": [
    {
     "data": {
      "text/html": [
       "<div>\n",
       "<style scoped>\n",
       "    .dataframe tbody tr th:only-of-type {\n",
       "        vertical-align: middle;\n",
       "    }\n",
       "\n",
       "    .dataframe tbody tr th {\n",
       "        vertical-align: top;\n",
       "    }\n",
       "\n",
       "    .dataframe thead th {\n",
       "        text-align: right;\n",
       "    }\n",
       "</style>\n",
       "<table border=\"1\" class=\"dataframe\">\n",
       "  <thead>\n",
       "    <tr style=\"text-align: right;\">\n",
       "      <th></th>\n",
       "      <th>Accident_Severity</th>\n",
       "    </tr>\n",
       "  </thead>\n",
       "  <tbody>\n",
       "    <tr>\n",
       "      <th>0</th>\n",
       "      <td>2</td>\n",
       "    </tr>\n",
       "    <tr>\n",
       "      <th>1</th>\n",
       "      <td>2</td>\n",
       "    </tr>\n",
       "    <tr>\n",
       "      <th>2</th>\n",
       "      <td>1</td>\n",
       "    </tr>\n",
       "    <tr>\n",
       "      <th>3</th>\n",
       "      <td>2</td>\n",
       "    </tr>\n",
       "    <tr>\n",
       "      <th>4</th>\n",
       "      <td>2</td>\n",
       "    </tr>\n",
       "  </tbody>\n",
       "</table>\n",
       "</div>"
      ],
      "text/plain": [
       "   Accident_Severity\n",
       "0                  2\n",
       "1                  2\n",
       "2                  1\n",
       "3                  2\n",
       "4                  2"
      ]
     },
     "execution_count": 214,
     "metadata": {},
     "output_type": "execute_result"
    }
   ],
   "source": [
    "label_frame = label_en.to_frame()\n",
    "label_frame.columns =['Accident_Severity']\n",
    "label_frame.head()"
   ]
  },
  {
   "cell_type": "code",
   "execution_count": 215,
   "id": "688ca5ba",
   "metadata": {},
   "outputs": [],
   "source": [
    "final_df = pd.concat([data, label_frame], axis=1)"
   ]
  },
  {
   "cell_type": "code",
   "execution_count": 216,
   "id": "aaceaea7",
   "metadata": {},
   "outputs": [
    {
     "data": {
      "text/html": [
       "<div>\n",
       "<style scoped>\n",
       "    .dataframe tbody tr th:only-of-type {\n",
       "        vertical-align: middle;\n",
       "    }\n",
       "\n",
       "    .dataframe tbody tr th {\n",
       "        vertical-align: top;\n",
       "    }\n",
       "\n",
       "    .dataframe thead th {\n",
       "        text-align: right;\n",
       "    }\n",
       "</style>\n",
       "<table border=\"1\" class=\"dataframe\">\n",
       "  <thead>\n",
       "    <tr style=\"text-align: right;\">\n",
       "      <th></th>\n",
       "      <th>Day_of_week</th>\n",
       "      <th>Age_band_of_driver</th>\n",
       "      <th>Sex_of_driver</th>\n",
       "      <th>Educational_level</th>\n",
       "      <th>Vehicle_driver_relation</th>\n",
       "      <th>Driving_experience</th>\n",
       "      <th>Type_of_vehicle</th>\n",
       "      <th>Owner_of_vehicle</th>\n",
       "      <th>Service_year_of_vehicle</th>\n",
       "      <th>Defect_of_vehicle</th>\n",
       "      <th>...</th>\n",
       "      <th>Casualty_class</th>\n",
       "      <th>Sex_of_casualty</th>\n",
       "      <th>Age_band_of_casualty</th>\n",
       "      <th>Casualty_severity</th>\n",
       "      <th>Work_of_casuality</th>\n",
       "      <th>Fitness_of_casuality</th>\n",
       "      <th>Pedestrian_movement</th>\n",
       "      <th>Cause_of_accident</th>\n",
       "      <th>Hour_of_Day</th>\n",
       "      <th>Accident_Severity</th>\n",
       "    </tr>\n",
       "  </thead>\n",
       "  <tbody>\n",
       "    <tr>\n",
       "      <th>0</th>\n",
       "      <td>0</td>\n",
       "      <td>1</td>\n",
       "      <td>0</td>\n",
       "      <td>5</td>\n",
       "      <td>1</td>\n",
       "      <td>2</td>\n",
       "      <td>4</td>\n",
       "      <td>0</td>\n",
       "      <td>4</td>\n",
       "      <td>0</td>\n",
       "      <td>...</td>\n",
       "      <td>3</td>\n",
       "      <td>2</td>\n",
       "      <td>4</td>\n",
       "      <td>0</td>\n",
       "      <td>5</td>\n",
       "      <td>2</td>\n",
       "      <td>7</td>\n",
       "      <td>12</td>\n",
       "      <td>17</td>\n",
       "      <td>2</td>\n",
       "    </tr>\n",
       "    <tr>\n",
       "      <th>1</th>\n",
       "      <td>0</td>\n",
       "      <td>2</td>\n",
       "      <td>0</td>\n",
       "      <td>2</td>\n",
       "      <td>1</td>\n",
       "      <td>5</td>\n",
       "      <td>6</td>\n",
       "      <td>0</td>\n",
       "      <td>3</td>\n",
       "      <td>0</td>\n",
       "      <td>...</td>\n",
       "      <td>3</td>\n",
       "      <td>2</td>\n",
       "      <td>4</td>\n",
       "      <td>0</td>\n",
       "      <td>5</td>\n",
       "      <td>2</td>\n",
       "      <td>7</td>\n",
       "      <td>10</td>\n",
       "      <td>17</td>\n",
       "      <td>2</td>\n",
       "    </tr>\n",
       "    <tr>\n",
       "      <th>2</th>\n",
       "      <td>0</td>\n",
       "      <td>1</td>\n",
       "      <td>0</td>\n",
       "      <td>2</td>\n",
       "      <td>1</td>\n",
       "      <td>2</td>\n",
       "      <td>7</td>\n",
       "      <td>0</td>\n",
       "      <td>5</td>\n",
       "      <td>0</td>\n",
       "      <td>...</td>\n",
       "      <td>2</td>\n",
       "      <td>0</td>\n",
       "      <td>2</td>\n",
       "      <td>3</td>\n",
       "      <td>4</td>\n",
       "      <td>2</td>\n",
       "      <td>7</td>\n",
       "      <td>14</td>\n",
       "      <td>17</td>\n",
       "      <td>1</td>\n",
       "    </tr>\n",
       "    <tr>\n",
       "      <th>3</th>\n",
       "      <td>6</td>\n",
       "      <td>1</td>\n",
       "      <td>0</td>\n",
       "      <td>2</td>\n",
       "      <td>1</td>\n",
       "      <td>4</td>\n",
       "      <td>6</td>\n",
       "      <td>1</td>\n",
       "      <td>5</td>\n",
       "      <td>0</td>\n",
       "      <td>...</td>\n",
       "      <td>1</td>\n",
       "      <td>1</td>\n",
       "      <td>1</td>\n",
       "      <td>3</td>\n",
       "      <td>4</td>\n",
       "      <td>2</td>\n",
       "      <td>7</td>\n",
       "      <td>15</td>\n",
       "      <td>1</td>\n",
       "      <td>2</td>\n",
       "    </tr>\n",
       "    <tr>\n",
       "      <th>4</th>\n",
       "      <td>6</td>\n",
       "      <td>1</td>\n",
       "      <td>0</td>\n",
       "      <td>2</td>\n",
       "      <td>1</td>\n",
       "      <td>2</td>\n",
       "      <td>8</td>\n",
       "      <td>0</td>\n",
       "      <td>3</td>\n",
       "      <td>0</td>\n",
       "      <td>...</td>\n",
       "      <td>3</td>\n",
       "      <td>2</td>\n",
       "      <td>4</td>\n",
       "      <td>0</td>\n",
       "      <td>5</td>\n",
       "      <td>2</td>\n",
       "      <td>7</td>\n",
       "      <td>10</td>\n",
       "      <td>1</td>\n",
       "      <td>2</td>\n",
       "    </tr>\n",
       "  </tbody>\n",
       "</table>\n",
       "<p>5 rows × 32 columns</p>\n",
       "</div>"
      ],
      "text/plain": [
       "   Day_of_week  Age_band_of_driver  Sex_of_driver  Educational_level  \\\n",
       "0            0                   1              0                  5   \n",
       "1            0                   2              0                  2   \n",
       "2            0                   1              0                  2   \n",
       "3            6                   1              0                  2   \n",
       "4            6                   1              0                  2   \n",
       "\n",
       "   Vehicle_driver_relation  Driving_experience  Type_of_vehicle  \\\n",
       "0                        1                   2                4   \n",
       "1                        1                   5                6   \n",
       "2                        1                   2                7   \n",
       "3                        1                   4                6   \n",
       "4                        1                   2                8   \n",
       "\n",
       "   Owner_of_vehicle  Service_year_of_vehicle  Defect_of_vehicle  ...  \\\n",
       "0                 0                        4                  0  ...   \n",
       "1                 0                        3                  0  ...   \n",
       "2                 0                        5                  0  ...   \n",
       "3                 1                        5                  0  ...   \n",
       "4                 0                        3                  0  ...   \n",
       "\n",
       "   Casualty_class  Sex_of_casualty  Age_band_of_casualty  Casualty_severity  \\\n",
       "0               3                2                     4                  0   \n",
       "1               3                2                     4                  0   \n",
       "2               2                0                     2                  3   \n",
       "3               1                1                     1                  3   \n",
       "4               3                2                     4                  0   \n",
       "\n",
       "   Work_of_casuality  Fitness_of_casuality  Pedestrian_movement  \\\n",
       "0                  5                     2                    7   \n",
       "1                  5                     2                    7   \n",
       "2                  4                     2                    7   \n",
       "3                  4                     2                    7   \n",
       "4                  5                     2                    7   \n",
       "\n",
       "   Cause_of_accident  Hour_of_Day  Accident_Severity  \n",
       "0                 12           17                  2  \n",
       "1                 10           17                  2  \n",
       "2                 14           17                  1  \n",
       "3                 15            1                  2  \n",
       "4                 10            1                  2  \n",
       "\n",
       "[5 rows x 32 columns]"
      ]
     },
     "execution_count": 216,
     "metadata": {},
     "output_type": "execute_result"
    }
   ],
   "source": [
    "final_df.head()"
   ]
  },
  {
   "cell_type": "code",
   "execution_count": 217,
   "id": "d97fad4e",
   "metadata": {},
   "outputs": [
    {
     "name": "stdout",
     "output_type": "stream",
     "text": [
      "<class 'pandas.core.frame.DataFrame'>\n",
      "RangeIndex: 12316 entries, 0 to 12315\n",
      "Data columns (total 32 columns):\n",
      " #   Column                       Non-Null Count  Dtype\n",
      "---  ------                       --------------  -----\n",
      " 0   Day_of_week                  12316 non-null  int64\n",
      " 1   Age_band_of_driver           12316 non-null  int64\n",
      " 2   Sex_of_driver                12316 non-null  int64\n",
      " 3   Educational_level            12316 non-null  int64\n",
      " 4   Vehicle_driver_relation      12316 non-null  int64\n",
      " 5   Driving_experience           12316 non-null  int64\n",
      " 6   Type_of_vehicle              12316 non-null  int64\n",
      " 7   Owner_of_vehicle             12316 non-null  int64\n",
      " 8   Service_year_of_vehicle      12316 non-null  int64\n",
      " 9   Defect_of_vehicle            12316 non-null  int64\n",
      " 10  Area_accident_occured        12316 non-null  int64\n",
      " 11  Lanes_or_Medians             12316 non-null  int64\n",
      " 12  Road_allignment              12316 non-null  int64\n",
      " 13  Types_of_Junction            12316 non-null  int64\n",
      " 14  Road_surface_type            12316 non-null  int64\n",
      " 15  Road_surface_conditions      12316 non-null  int64\n",
      " 16  Light_conditions             12316 non-null  int64\n",
      " 17  Weather_conditions           12316 non-null  int64\n",
      " 18  Type_of_collision            12316 non-null  int64\n",
      " 19  Number_of_vehicles_involved  12316 non-null  int64\n",
      " 20  Number_of_casualties         12316 non-null  int64\n",
      " 21  Vehicle_movement             12316 non-null  int64\n",
      " 22  Casualty_class               12316 non-null  int64\n",
      " 23  Sex_of_casualty              12316 non-null  int64\n",
      " 24  Age_band_of_casualty         12316 non-null  int64\n",
      " 25  Casualty_severity            12316 non-null  int64\n",
      " 26  Work_of_casuality            12316 non-null  int64\n",
      " 27  Fitness_of_casuality         12316 non-null  int64\n",
      " 28  Pedestrian_movement          12316 non-null  int64\n",
      " 29  Cause_of_accident            12316 non-null  int64\n",
      " 30  Hour_of_Day                  12316 non-null  int64\n",
      " 31  Accident_Severity            12316 non-null  int64\n",
      "dtypes: int64(32)\n",
      "memory usage: 3.0 MB\n"
     ]
    }
   ],
   "source": [
    "final_df.info()"
   ]
  },
  {
   "cell_type": "code",
   "execution_count": 218,
   "id": "2319382c",
   "metadata": {},
   "outputs": [],
   "source": [
    "final_df.to_csv('dataset/final_clean_encoded.csv', index=False)"
   ]
  },
  {
   "cell_type": "code",
   "execution_count": null,
   "id": "f4cc365d",
   "metadata": {},
   "outputs": [],
   "source": []
  }
 ],
 "metadata": {
  "kernelspec": {
   "display_name": "Python 3 (ipykernel)",
   "language": "python",
   "name": "python3"
  },
  "language_info": {
   "codemirror_mode": {
    "name": "ipython",
    "version": 3
   },
   "file_extension": ".py",
   "mimetype": "text/x-python",
   "name": "python",
   "nbconvert_exporter": "python",
   "pygments_lexer": "ipython3",
   "version": "3.10.8"
  }
 },
 "nbformat": 4,
 "nbformat_minor": 5
}
