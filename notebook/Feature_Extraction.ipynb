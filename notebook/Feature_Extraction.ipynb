{
 "cells": [
  {
   "cell_type": "code",
   "execution_count": 56,
   "id": "df07d8ae",
   "metadata": {},
   "outputs": [],
   "source": [
    "import pandas as pd\n",
    "import numpy as np"
   ]
  },
  {
   "cell_type": "code",
   "execution_count": 57,
   "id": "942b8068",
   "metadata": {},
   "outputs": [],
   "source": [
    "df = pd.read_csv('dataset/final_clean_encoded.csv')"
   ]
  },
  {
   "cell_type": "code",
   "execution_count": 58,
   "id": "66d210fc",
   "metadata": {},
   "outputs": [
    {
     "data": {
      "text/html": [
       "<div>\n",
       "<style scoped>\n",
       "    .dataframe tbody tr th:only-of-type {\n",
       "        vertical-align: middle;\n",
       "    }\n",
       "\n",
       "    .dataframe tbody tr th {\n",
       "        vertical-align: top;\n",
       "    }\n",
       "\n",
       "    .dataframe thead th {\n",
       "        text-align: right;\n",
       "    }\n",
       "</style>\n",
       "<table border=\"1\" class=\"dataframe\">\n",
       "  <thead>\n",
       "    <tr style=\"text-align: right;\">\n",
       "      <th></th>\n",
       "      <th>Day_of_week</th>\n",
       "      <th>Age_band_of_driver</th>\n",
       "      <th>Sex_of_driver</th>\n",
       "      <th>Educational_level</th>\n",
       "      <th>Vehicle_driver_relation</th>\n",
       "      <th>Driving_experience</th>\n",
       "      <th>Type_of_vehicle</th>\n",
       "      <th>Owner_of_vehicle</th>\n",
       "      <th>Service_year_of_vehicle</th>\n",
       "      <th>Defect_of_vehicle</th>\n",
       "      <th>...</th>\n",
       "      <th>Casualty_class</th>\n",
       "      <th>Sex_of_casualty</th>\n",
       "      <th>Age_band_of_casualty</th>\n",
       "      <th>Casualty_severity</th>\n",
       "      <th>Work_of_casuality</th>\n",
       "      <th>Fitness_of_casuality</th>\n",
       "      <th>Pedestrian_movement</th>\n",
       "      <th>Cause_of_accident</th>\n",
       "      <th>Hour_of_Day</th>\n",
       "      <th>Accident_Severity</th>\n",
       "    </tr>\n",
       "  </thead>\n",
       "  <tbody>\n",
       "    <tr>\n",
       "      <th>0</th>\n",
       "      <td>0</td>\n",
       "      <td>1</td>\n",
       "      <td>0</td>\n",
       "      <td>5</td>\n",
       "      <td>1</td>\n",
       "      <td>2</td>\n",
       "      <td>4</td>\n",
       "      <td>0</td>\n",
       "      <td>4</td>\n",
       "      <td>0</td>\n",
       "      <td>...</td>\n",
       "      <td>3</td>\n",
       "      <td>2</td>\n",
       "      <td>4</td>\n",
       "      <td>0</td>\n",
       "      <td>5</td>\n",
       "      <td>2</td>\n",
       "      <td>7</td>\n",
       "      <td>12</td>\n",
       "      <td>17</td>\n",
       "      <td>2</td>\n",
       "    </tr>\n",
       "    <tr>\n",
       "      <th>1</th>\n",
       "      <td>0</td>\n",
       "      <td>2</td>\n",
       "      <td>0</td>\n",
       "      <td>2</td>\n",
       "      <td>1</td>\n",
       "      <td>5</td>\n",
       "      <td>6</td>\n",
       "      <td>0</td>\n",
       "      <td>3</td>\n",
       "      <td>0</td>\n",
       "      <td>...</td>\n",
       "      <td>3</td>\n",
       "      <td>2</td>\n",
       "      <td>4</td>\n",
       "      <td>0</td>\n",
       "      <td>5</td>\n",
       "      <td>2</td>\n",
       "      <td>7</td>\n",
       "      <td>10</td>\n",
       "      <td>17</td>\n",
       "      <td>2</td>\n",
       "    </tr>\n",
       "    <tr>\n",
       "      <th>2</th>\n",
       "      <td>0</td>\n",
       "      <td>1</td>\n",
       "      <td>0</td>\n",
       "      <td>2</td>\n",
       "      <td>1</td>\n",
       "      <td>2</td>\n",
       "      <td>7</td>\n",
       "      <td>0</td>\n",
       "      <td>5</td>\n",
       "      <td>0</td>\n",
       "      <td>...</td>\n",
       "      <td>2</td>\n",
       "      <td>0</td>\n",
       "      <td>2</td>\n",
       "      <td>3</td>\n",
       "      <td>4</td>\n",
       "      <td>2</td>\n",
       "      <td>7</td>\n",
       "      <td>14</td>\n",
       "      <td>17</td>\n",
       "      <td>1</td>\n",
       "    </tr>\n",
       "    <tr>\n",
       "      <th>3</th>\n",
       "      <td>6</td>\n",
       "      <td>1</td>\n",
       "      <td>0</td>\n",
       "      <td>2</td>\n",
       "      <td>1</td>\n",
       "      <td>4</td>\n",
       "      <td>6</td>\n",
       "      <td>1</td>\n",
       "      <td>5</td>\n",
       "      <td>0</td>\n",
       "      <td>...</td>\n",
       "      <td>1</td>\n",
       "      <td>1</td>\n",
       "      <td>1</td>\n",
       "      <td>3</td>\n",
       "      <td>4</td>\n",
       "      <td>2</td>\n",
       "      <td>7</td>\n",
       "      <td>15</td>\n",
       "      <td>1</td>\n",
       "      <td>2</td>\n",
       "    </tr>\n",
       "    <tr>\n",
       "      <th>4</th>\n",
       "      <td>6</td>\n",
       "      <td>1</td>\n",
       "      <td>0</td>\n",
       "      <td>2</td>\n",
       "      <td>1</td>\n",
       "      <td>2</td>\n",
       "      <td>8</td>\n",
       "      <td>0</td>\n",
       "      <td>3</td>\n",
       "      <td>0</td>\n",
       "      <td>...</td>\n",
       "      <td>3</td>\n",
       "      <td>2</td>\n",
       "      <td>4</td>\n",
       "      <td>0</td>\n",
       "      <td>5</td>\n",
       "      <td>2</td>\n",
       "      <td>7</td>\n",
       "      <td>10</td>\n",
       "      <td>1</td>\n",
       "      <td>2</td>\n",
       "    </tr>\n",
       "  </tbody>\n",
       "</table>\n",
       "<p>5 rows × 32 columns</p>\n",
       "</div>"
      ],
      "text/plain": [
       "   Day_of_week  Age_band_of_driver  Sex_of_driver  Educational_level  \\\n",
       "0            0                   1              0                  5   \n",
       "1            0                   2              0                  2   \n",
       "2            0                   1              0                  2   \n",
       "3            6                   1              0                  2   \n",
       "4            6                   1              0                  2   \n",
       "\n",
       "   Vehicle_driver_relation  Driving_experience  Type_of_vehicle  \\\n",
       "0                        1                   2                4   \n",
       "1                        1                   5                6   \n",
       "2                        1                   2                7   \n",
       "3                        1                   4                6   \n",
       "4                        1                   2                8   \n",
       "\n",
       "   Owner_of_vehicle  Service_year_of_vehicle  Defect_of_vehicle  ...  \\\n",
       "0                 0                        4                  0  ...   \n",
       "1                 0                        3                  0  ...   \n",
       "2                 0                        5                  0  ...   \n",
       "3                 1                        5                  0  ...   \n",
       "4                 0                        3                  0  ...   \n",
       "\n",
       "   Casualty_class  Sex_of_casualty  Age_band_of_casualty  Casualty_severity  \\\n",
       "0               3                2                     4                  0   \n",
       "1               3                2                     4                  0   \n",
       "2               2                0                     2                  3   \n",
       "3               1                1                     1                  3   \n",
       "4               3                2                     4                  0   \n",
       "\n",
       "   Work_of_casuality  Fitness_of_casuality  Pedestrian_movement  \\\n",
       "0                  5                     2                    7   \n",
       "1                  5                     2                    7   \n",
       "2                  4                     2                    7   \n",
       "3                  4                     2                    7   \n",
       "4                  5                     2                    7   \n",
       "\n",
       "   Cause_of_accident  Hour_of_Day  Accident_Severity  \n",
       "0                 12           17                  2  \n",
       "1                 10           17                  2  \n",
       "2                 14           17                  1  \n",
       "3                 15            1                  2  \n",
       "4                 10            1                  2  \n",
       "\n",
       "[5 rows x 32 columns]"
      ]
     },
     "execution_count": 58,
     "metadata": {},
     "output_type": "execute_result"
    }
   ],
   "source": [
    "df.head()"
   ]
  },
  {
   "cell_type": "code",
   "execution_count": 59,
   "id": "a0501d57",
   "metadata": {},
   "outputs": [],
   "source": [
    "data = df.drop('Accident_Severity', axis = 1)\n",
    "\n",
    "labels = df['Accident_Severity']"
   ]
  },
  {
   "cell_type": "code",
   "execution_count": 61,
   "id": "6972cd61",
   "metadata": {},
   "outputs": [
    {
     "name": "stderr",
     "output_type": "stream",
     "text": [
      "/home/rajkumar/anaconda3/envs/pyenv/lib/python3.10/site-packages/imblearn/over_sampling/_smote/base.py:572: FutureWarning: The parameter `n_jobs` has been deprecated in 0.10 and will be removed in 0.12. You can pass an nearest neighbors estimator where `n_jobs` is already set instead.\n",
      "  warnings.warn(\n",
      "/home/rajkumar/anaconda3/envs/pyenv/lib/python3.10/site-packages/imblearn/over_sampling/_smote/base.py:336: FutureWarning: The parameter `n_jobs` has been deprecated in 0.10 and will be removed in 0.12. You can pass an nearest neighbors estimator where `n_jobs` is already set instead.\n",
      "  warnings.warn(\n"
     ]
    },
    {
     "data": {
      "text/plain": [
       "((31245, 31), (31245,))"
      ]
     },
     "execution_count": 61,
     "metadata": {},
     "output_type": "execute_result"
    }
   ],
   "source": [
    "from imblearn.over_sampling import SMOTENC\n",
    "# categorical features for SMOTENC technique for categorical features\n",
    "n_cat_index = np.array(range(30))\n",
    "\n",
    "smote = SMOTENC(categorical_features=n_cat_index, random_state=42, n_jobs=True)\n",
    "X_resampled , y_resampled = smote.fit_resample(data,labels)\n",
    "X_resampled.shape, y_resampled.shape"
   ]
  },
  {
   "cell_type": "code",
   "execution_count": 62,
   "id": "1e039223",
   "metadata": {},
   "outputs": [
    {
     "data": {
      "text/plain": [
       "(31245, 31)"
      ]
     },
     "execution_count": 62,
     "metadata": {},
     "output_type": "execute_result"
    }
   ],
   "source": [
    "X_resampled.shape"
   ]
  },
  {
   "cell_type": "code",
   "execution_count": 63,
   "id": "a45af0f4",
   "metadata": {},
   "outputs": [
    {
     "data": {
      "text/plain": [
       "(31245,)"
      ]
     },
     "execution_count": 63,
     "metadata": {},
     "output_type": "execute_result"
    }
   ],
   "source": [
    "y_resampled.shape"
   ]
  },
  {
   "cell_type": "code",
   "execution_count": 64,
   "id": "4370a098",
   "metadata": {},
   "outputs": [
    {
     "data": {
      "text/html": [
       "<div>\n",
       "<style scoped>\n",
       "    .dataframe tbody tr th:only-of-type {\n",
       "        vertical-align: middle;\n",
       "    }\n",
       "\n",
       "    .dataframe tbody tr th {\n",
       "        vertical-align: top;\n",
       "    }\n",
       "\n",
       "    .dataframe thead th {\n",
       "        text-align: right;\n",
       "    }\n",
       "</style>\n",
       "<table border=\"1\" class=\"dataframe\">\n",
       "  <thead>\n",
       "    <tr style=\"text-align: right;\">\n",
       "      <th></th>\n",
       "      <th>Day_of_week</th>\n",
       "      <th>Age_band_of_driver</th>\n",
       "      <th>Sex_of_driver</th>\n",
       "      <th>Educational_level</th>\n",
       "      <th>Vehicle_driver_relation</th>\n",
       "      <th>Driving_experience</th>\n",
       "      <th>Type_of_vehicle</th>\n",
       "      <th>Owner_of_vehicle</th>\n",
       "      <th>Service_year_of_vehicle</th>\n",
       "      <th>Defect_of_vehicle</th>\n",
       "      <th>...</th>\n",
       "      <th>Vehicle_movement</th>\n",
       "      <th>Casualty_class</th>\n",
       "      <th>Sex_of_casualty</th>\n",
       "      <th>Age_band_of_casualty</th>\n",
       "      <th>Casualty_severity</th>\n",
       "      <th>Work_of_casuality</th>\n",
       "      <th>Fitness_of_casuality</th>\n",
       "      <th>Pedestrian_movement</th>\n",
       "      <th>Cause_of_accident</th>\n",
       "      <th>Hour_of_Day</th>\n",
       "    </tr>\n",
       "  </thead>\n",
       "  <tbody>\n",
       "    <tr>\n",
       "      <th>0</th>\n",
       "      <td>0</td>\n",
       "      <td>1</td>\n",
       "      <td>0</td>\n",
       "      <td>5</td>\n",
       "      <td>1</td>\n",
       "      <td>2</td>\n",
       "      <td>4</td>\n",
       "      <td>0</td>\n",
       "      <td>4</td>\n",
       "      <td>0</td>\n",
       "      <td>...</td>\n",
       "      <td>10</td>\n",
       "      <td>3</td>\n",
       "      <td>2</td>\n",
       "      <td>4</td>\n",
       "      <td>0</td>\n",
       "      <td>5</td>\n",
       "      <td>2</td>\n",
       "      <td>7</td>\n",
       "      <td>12</td>\n",
       "      <td>17</td>\n",
       "    </tr>\n",
       "    <tr>\n",
       "      <th>1</th>\n",
       "      <td>0</td>\n",
       "      <td>2</td>\n",
       "      <td>0</td>\n",
       "      <td>2</td>\n",
       "      <td>1</td>\n",
       "      <td>5</td>\n",
       "      <td>6</td>\n",
       "      <td>0</td>\n",
       "      <td>3</td>\n",
       "      <td>0</td>\n",
       "      <td>...</td>\n",
       "      <td>10</td>\n",
       "      <td>3</td>\n",
       "      <td>2</td>\n",
       "      <td>4</td>\n",
       "      <td>0</td>\n",
       "      <td>5</td>\n",
       "      <td>2</td>\n",
       "      <td>7</td>\n",
       "      <td>10</td>\n",
       "      <td>17</td>\n",
       "    </tr>\n",
       "    <tr>\n",
       "      <th>2</th>\n",
       "      <td>0</td>\n",
       "      <td>1</td>\n",
       "      <td>0</td>\n",
       "      <td>2</td>\n",
       "      <td>1</td>\n",
       "      <td>2</td>\n",
       "      <td>7</td>\n",
       "      <td>0</td>\n",
       "      <td>5</td>\n",
       "      <td>0</td>\n",
       "      <td>...</td>\n",
       "      <td>10</td>\n",
       "      <td>2</td>\n",
       "      <td>0</td>\n",
       "      <td>2</td>\n",
       "      <td>3</td>\n",
       "      <td>4</td>\n",
       "      <td>2</td>\n",
       "      <td>7</td>\n",
       "      <td>14</td>\n",
       "      <td>17</td>\n",
       "    </tr>\n",
       "    <tr>\n",
       "      <th>3</th>\n",
       "      <td>6</td>\n",
       "      <td>1</td>\n",
       "      <td>0</td>\n",
       "      <td>2</td>\n",
       "      <td>1</td>\n",
       "      <td>4</td>\n",
       "      <td>6</td>\n",
       "      <td>1</td>\n",
       "      <td>5</td>\n",
       "      <td>0</td>\n",
       "      <td>...</td>\n",
       "      <td>10</td>\n",
       "      <td>1</td>\n",
       "      <td>1</td>\n",
       "      <td>1</td>\n",
       "      <td>3</td>\n",
       "      <td>4</td>\n",
       "      <td>2</td>\n",
       "      <td>7</td>\n",
       "      <td>15</td>\n",
       "      <td>1</td>\n",
       "    </tr>\n",
       "    <tr>\n",
       "      <th>4</th>\n",
       "      <td>6</td>\n",
       "      <td>1</td>\n",
       "      <td>0</td>\n",
       "      <td>2</td>\n",
       "      <td>1</td>\n",
       "      <td>2</td>\n",
       "      <td>8</td>\n",
       "      <td>0</td>\n",
       "      <td>3</td>\n",
       "      <td>0</td>\n",
       "      <td>...</td>\n",
       "      <td>10</td>\n",
       "      <td>3</td>\n",
       "      <td>2</td>\n",
       "      <td>4</td>\n",
       "      <td>0</td>\n",
       "      <td>5</td>\n",
       "      <td>2</td>\n",
       "      <td>7</td>\n",
       "      <td>10</td>\n",
       "      <td>1</td>\n",
       "    </tr>\n",
       "  </tbody>\n",
       "</table>\n",
       "<p>5 rows × 31 columns</p>\n",
       "</div>"
      ],
      "text/plain": [
       "   Day_of_week  Age_band_of_driver  Sex_of_driver  Educational_level  \\\n",
       "0            0                   1              0                  5   \n",
       "1            0                   2              0                  2   \n",
       "2            0                   1              0                  2   \n",
       "3            6                   1              0                  2   \n",
       "4            6                   1              0                  2   \n",
       "\n",
       "   Vehicle_driver_relation  Driving_experience  Type_of_vehicle  \\\n",
       "0                        1                   2                4   \n",
       "1                        1                   5                6   \n",
       "2                        1                   2                7   \n",
       "3                        1                   4                6   \n",
       "4                        1                   2                8   \n",
       "\n",
       "   Owner_of_vehicle  Service_year_of_vehicle  Defect_of_vehicle  ...  \\\n",
       "0                 0                        4                  0  ...   \n",
       "1                 0                        3                  0  ...   \n",
       "2                 0                        5                  0  ...   \n",
       "3                 1                        5                  0  ...   \n",
       "4                 0                        3                  0  ...   \n",
       "\n",
       "   Vehicle_movement  Casualty_class  Sex_of_casualty  Age_band_of_casualty  \\\n",
       "0                10               3                2                     4   \n",
       "1                10               3                2                     4   \n",
       "2                10               2                0                     2   \n",
       "3                10               1                1                     1   \n",
       "4                10               3                2                     4   \n",
       "\n",
       "   Casualty_severity  Work_of_casuality  Fitness_of_casuality  \\\n",
       "0                  0                  5                     2   \n",
       "1                  0                  5                     2   \n",
       "2                  3                  4                     2   \n",
       "3                  3                  4                     2   \n",
       "4                  0                  5                     2   \n",
       "\n",
       "   Pedestrian_movement  Cause_of_accident  Hour_of_Day  \n",
       "0                    7                 12           17  \n",
       "1                    7                 10           17  \n",
       "2                    7                 14           17  \n",
       "3                    7                 15            1  \n",
       "4                    7                 10            1  \n",
       "\n",
       "[5 rows x 31 columns]"
      ]
     },
     "execution_count": 64,
     "metadata": {},
     "output_type": "execute_result"
    }
   ],
   "source": [
    "X_resampled.head()\n"
   ]
  },
  {
   "cell_type": "code",
   "execution_count": 65,
   "id": "efdb0278",
   "metadata": {},
   "outputs": [],
   "source": [
    "data = X_resampled\n",
    "labels = y_resampled"
   ]
  },
  {
   "cell_type": "code",
   "execution_count": 66,
   "id": "9bead181",
   "metadata": {},
   "outputs": [],
   "source": [
    "from sklearn.model_selection import train_test_split\n",
    "\n",
    "X_train,X_test,y_train,y_test = train_test_split(data,labels,test_size = 0.25, random_state = 42, stratify = labels)"
   ]
  },
  {
   "cell_type": "code",
   "execution_count": 67,
   "id": "b0bf9f3c",
   "metadata": {},
   "outputs": [
    {
     "name": "stdout",
     "output_type": "stream",
     "text": [
      "(23433, 31)\n",
      "(7812, 31)\n",
      "(23433,)\n",
      "(7812,)\n"
     ]
    }
   ],
   "source": [
    "print(X_train.shape)\n",
    "print(X_test.shape)\n",
    "print(y_train.shape)\n",
    "print(y_test.shape)"
   ]
  },
  {
   "cell_type": "code",
   "execution_count": 12,
   "id": "1164883b",
   "metadata": {},
   "outputs": [
    {
     "data": {
      "text/plain": [
       "(31, 2)"
      ]
     },
     "execution_count": 12,
     "metadata": {},
     "output_type": "execute_result"
    }
   ],
   "source": [
    "from sklearn.feature_selection import mutual_info_classif\n",
    "from sklearn.feature_selection import chi2\n",
    "## mutual info classif to check informative features\n",
    "mi_calc = mutual_info_classif(data, labels, random_state=42)\n",
    "\n",
    "mi_df = pd.DataFrame({'Columns':data.columns, 'MI_score':mi_calc})\n",
    "mi_df.sort_values(by='MI_score',ascending=False)\n",
    "mi_df.shape\n"
   ]
  },
  {
   "cell_type": "code",
   "execution_count": 13,
   "id": "ea4ab543",
   "metadata": {},
   "outputs": [
    {
     "data": {
      "text/plain": [
       "(30, 2)"
      ]
     },
     "execution_count": 13,
     "metadata": {},
     "output_type": "execute_result"
    }
   ],
   "source": [
    "df_mi_score_greater = mi_df[mi_df['MI_score'] > 0]\n",
    "df_mi_score_greater.shape"
   ]
  },
  {
   "cell_type": "code",
   "execution_count": 14,
   "id": "08438612",
   "metadata": {},
   "outputs": [],
   "source": [
    "from sklearn.feature_selection import SelectKBest\n",
    "# feature seleciton method using chi2 for categorical output, categorical input\n",
    "fs = SelectKBest(chi2, k=15)\n",
    "X_new = fs.fit_transform(data, labels)\n",
    "X_new.shape\n",
    "cols = fs.get_feature_names_out()\n",
    "\n"
   ]
  },
  {
   "cell_type": "code",
   "execution_count": 15,
   "id": "48c9d8e8",
   "metadata": {},
   "outputs": [
    {
     "data": {
      "text/plain": [
       "array(['Day_of_week', 'Age_band_of_driver', 'Sex_of_driver',\n",
       "       'Educational_level', 'Type_of_vehicle', 'Owner_of_vehicle',\n",
       "       'Defect_of_vehicle', 'Light_conditions',\n",
       "       'Number_of_vehicles_involved', 'Number_of_casualties',\n",
       "       'Casualty_class', 'Sex_of_casualty', 'Age_band_of_casualty',\n",
       "       'Cause_of_accident', 'Hour_of_Day'], dtype=object)"
      ]
     },
     "execution_count": 15,
     "metadata": {},
     "output_type": "execute_result"
    }
   ],
   "source": [
    "cols"
   ]
  },
  {
   "cell_type": "code",
   "execution_count": 16,
   "id": "4012e8a3",
   "metadata": {},
   "outputs": [
    {
     "data": {
      "text/plain": [
       "(31635, 15)"
      ]
     },
     "execution_count": 16,
     "metadata": {},
     "output_type": "execute_result"
    }
   ],
   "source": [
    "X_new.shape"
   ]
  },
  {
   "cell_type": "code",
   "execution_count": 17,
   "id": "632aeab7",
   "metadata": {},
   "outputs": [
    {
     "data": {
      "text/plain": [
       "(31635,)"
      ]
     },
     "execution_count": 17,
     "metadata": {},
     "output_type": "execute_result"
    }
   ],
   "source": [
    "labels.shape"
   ]
  },
  {
   "cell_type": "code",
   "execution_count": 18,
   "id": "ff2cf651",
   "metadata": {},
   "outputs": [],
   "source": [
    "from sklearn.model_selection import train_test_split\n",
    "\n",
    "X_train,X_test,y_train,y_test = train_test_split(X_new,labels,test_size = 0.25, random_state = 42, stratify = labels)"
   ]
  },
  {
   "cell_type": "code",
   "execution_count": 19,
   "id": "1f278bd6",
   "metadata": {},
   "outputs": [
    {
     "name": "stdout",
     "output_type": "stream",
     "text": [
      "(23726, 15)\n",
      "(7909, 15)\n",
      "(23726,)\n",
      "(7909,)\n"
     ]
    }
   ],
   "source": [
    "print(X_train.shape)\n",
    "print(X_test.shape)\n",
    "print(y_train.shape)\n",
    "print(y_test.shape)"
   ]
  },
  {
   "cell_type": "code",
   "execution_count": 20,
   "id": "bf909eaa",
   "metadata": {},
   "outputs": [],
   "source": [
    "from sklearn.ensemble import RandomForestClassifier\n",
    "from sklearn.metrics import confusion_matrix, classification_report, f1_score\n",
    "# Start an MLflow experiment\n",
    "n_estimators = 100\n",
    "max_depth = 20\n",
    " # Train the model\n",
    "clf = RandomForestClassifier(n_estimators=n_estimators, max_depth=max_depth)\n",
    "clf.fit(X_train, y_train)\n",
    "\n",
    "# Predict the test set\n",
    "y_pred = clf.predict(X_test)"
   ]
  },
  {
   "cell_type": "code",
   "execution_count": 21,
   "id": "76919653",
   "metadata": {},
   "outputs": [
    {
     "name": "stdout",
     "output_type": "stream",
     "text": [
      "              precision    recall  f1-score   support\n",
      "\n",
      "           0       0.97      0.99      0.98      2614\n",
      "           1       0.82      0.85      0.83      2691\n",
      "           2       0.85      0.79      0.82      2604\n",
      "\n",
      "    accuracy                           0.88      7909\n",
      "   macro avg       0.88      0.88      0.88      7909\n",
      "weighted avg       0.88      0.88      0.88      7909\n",
      "\n"
     ]
    }
   ],
   "source": [
    "from sklearn.metrics import confusion_matrix, classification_report, f1_score\n",
    "classif_re = classification_report(y_test,y_pred)\n",
    "print(classif_re)\n"
   ]
  },
  {
   "cell_type": "code",
   "execution_count": 22,
   "id": "111afee2",
   "metadata": {},
   "outputs": [
    {
     "data": {
      "image/png": "[encoded data removed]",
      "text/plain": [
       "<Figure size 500x400 with 2 Axes>"
      ]
     },
     "metadata": {},
     "output_type": "display_data"
    }
   ],
   "source": [
    "#Plotting the confusion matrix\n",
    "import matplotlib.pyplot as plt\n",
    "import seaborn as sns\n",
    "\n",
    "conf_matrix = confusion_matrix(y_test, y_pred)\n",
    "\n",
    "\n",
    "# Creating a dataframe for a array-formatted Confusion matrix,so it will be easy for plotting.\n",
    "cm_df = pd.DataFrame(conf_matrix,\n",
    "                     index = ['Fatal','Serious','Slight'], \n",
    "                     columns = ['Fatal','Serious','Slight'])\n",
    "\n",
    "\n",
    "\n",
    "plt.figure(figsize=(5,4))\n",
    "sns.heatmap(cm_df, annot=True,fmt='g')\n",
    "plt.title('Confusion Matrix')\n",
    "plt.ylabel('Actal Values')\n",
    "plt.xlabel('Predicted Values')\n",
    "plt.title(\"Random Forest\")\n",
    "plt.show()"
   ]
  },
  {
   "cell_type": "code",
   "execution_count": 23,
   "id": "55aaf0b6",
   "metadata": {},
   "outputs": [],
   "source": [
    "import xgboost as xgb\n",
    "learning_rate = 0.3\n",
    "max_depth = 10\n",
    "gamma = 0\n",
    "min_samples_split = 10 \n",
    "n_estimators = 500\n",
    "subsample = 0.9\n",
    "colsample_bytree =0.6\n",
    "\n",
    "# Create logistic regression model\n",
    "xgb_model =  xgb.XGBClassifier(learning_rate = learning_rate,\n",
    "                                    max_depth = max_depth,\n",
    "                                    n_estimators = n_estimators,\n",
    "                                    subsample = subsample,\n",
    "                                   gamma = gamma ,\n",
    "                                  colsample_bytree = colsample_bytree)\n",
    "\n",
    "# Fit model on training data\n",
    "xgb_model.fit(X_train, y_train)\n",
    "\n",
    "# Make predictions on test data\n",
    "y_pred = xgb_model.predict(X_test)"
   ]
  },
  {
   "cell_type": "code",
   "execution_count": 24,
   "id": "37fc338c",
   "metadata": {},
   "outputs": [
    {
     "name": "stdout",
     "output_type": "stream",
     "text": [
      "              precision    recall  f1-score   support\n",
      "\n",
      "           0       0.98      0.99      0.98      2614\n",
      "           1       0.82      0.86      0.84      2691\n",
      "           2       0.85      0.80      0.82      2604\n",
      "\n",
      "    accuracy                           0.88      7909\n",
      "   macro avg       0.88      0.88      0.88      7909\n",
      "weighted avg       0.88      0.88      0.88      7909\n",
      "\n"
     ]
    }
   ],
   "source": [
    "from sklearn.metrics import confusion_matrix, classification_report, f1_score\n",
    "classif_re = classification_report(y_test,y_pred)\n",
    "print(classif_re)\n"
   ]
  },
  {
   "cell_type": "code",
   "execution_count": 25,
   "id": "71d2e3e0",
   "metadata": {},
   "outputs": [
    {
     "data": {
      "image/png": "[encoded data removed]",
      "text/plain": [
       "<Figure size 500x400 with 2 Axes>"
      ]
     },
     "metadata": {},
     "output_type": "display_data"
    }
   ],
   "source": [
    "#Plotting the confusion matrix\n",
    "import matplotlib.pyplot as plt\n",
    "import seaborn as sns\n",
    "\n",
    "conf_matrix = confusion_matrix(y_test, y_pred)\n",
    "\n",
    "\n",
    "# Creating a dataframe for a array-formatted Confusion matrix,so it will be easy for plotting.\n",
    "cm_df = pd.DataFrame(conf_matrix,\n",
    "                     index = ['Fatal','Serious','Slight'], \n",
    "                     columns = ['Fatal','Serious','Slight'])\n",
    "\n",
    "\n",
    "\n",
    "plt.figure(figsize=(5,4))\n",
    "sns.heatmap(cm_df, annot=True,fmt='g')\n",
    "plt.title('Confusion Matrix')\n",
    "plt.ylabel('Actal Values')\n",
    "plt.xlabel('Predicted Values')\n",
    "plt.title(\"XGB BOOSTING\")\n",
    "plt.show()"
   ]
  },
  {
   "cell_type": "code",
   "execution_count": 26,
   "id": "d82ac0f0",
   "metadata": {},
   "outputs": [],
   "source": [
    "from sklearn.ensemble import GradientBoostingClassifier \n",
    "learning_rate = 0.07335297107608947\n",
    "max_depth = 7\n",
    "min_samples_split = 10 \n",
    "n_estimators =300, \n",
    "subsample = 0.8\n",
    "# Create logistic regression model\n",
    "gb = GradientBoostingClassifier(learning_rate = learning_rate,\n",
    "                                    max_depth = max_depth,\n",
    "                                    min_samples_split = min_samples_split,\n",
    "                                    n_estimators = 300,\n",
    "                                    subsample = 0.8)\n",
    "\n",
    "# Fit model on training data\n",
    "gb.fit(X_train, y_train)\n",
    "\n",
    "# Make predictions on test data\n",
    "y_pred = gb.predict(X_test)"
   ]
  },
  {
   "cell_type": "code",
   "execution_count": 27,
   "id": "2cec8240",
   "metadata": {},
   "outputs": [
    {
     "name": "stdout",
     "output_type": "stream",
     "text": [
      "              precision    recall  f1-score   support\n",
      "\n",
      "           0       0.97      0.99      0.98      2614\n",
      "           1       0.82      0.85      0.83      2691\n",
      "           2       0.85      0.80      0.82      2604\n",
      "\n",
      "    accuracy                           0.88      7909\n",
      "   macro avg       0.88      0.88      0.88      7909\n",
      "weighted avg       0.88      0.88      0.88      7909\n",
      "\n"
     ]
    }
   ],
   "source": [
    "from sklearn.metrics import confusion_matrix, classification_report, f1_score\n",
    "classif_re = classification_report(y_test,y_pred)\n",
    "print(classif_re)\n"
   ]
  },
  {
   "cell_type": "code",
   "execution_count": 28,
   "id": "495fd02f",
   "metadata": {},
   "outputs": [
    {
     "data": {
      "image/png": "[encoded data removed]",
      "text/plain": [
       "<Figure size 500x400 with 2 Axes>"
      ]
     },
     "metadata": {},
     "output_type": "display_data"
    }
   ],
   "source": [
    "#Plotting the confusion matrix\n",
    "import matplotlib.pyplot as plt\n",
    "import seaborn as sns\n",
    "\n",
    "conf_matrix = confusion_matrix(y_test, y_pred)\n",
    "\n",
    "\n",
    "# Creating a dataframe for a array-formatted Confusion matrix,so it will be easy for plotting.\n",
    "cm_df = pd.DataFrame(conf_matrix,\n",
    "                     index = ['Fatal','Serious','Slight'], \n",
    "                     columns = ['Fatal','Serious','Slight'])\n",
    "\n",
    "\n",
    "\n",
    "plt.figure(figsize=(5,4))\n",
    "sns.heatmap(cm_df, annot=True,fmt='g')\n",
    "plt.title('Confusion Matrix')\n",
    "plt.ylabel('Actal Values')\n",
    "plt.xlabel('Predicted Values')\n",
    "plt.title(\"Gradient BOOSTING\")\n",
    "plt.show()"
   ]
  },
  {
   "cell_type": "code",
   "execution_count": 68,
   "id": "c8292469",
   "metadata": {},
   "outputs": [
    {
     "name": "stderr",
     "output_type": "stream",
     "text": [
      "/home/rajkumar/anaconda3/envs/pyenv/lib/python3.10/site-packages/sklearn/linear_model/_sag.py:350: ConvergenceWarning: The max_iter was reached which means the coef_ did not converge\n",
      "  warnings.warn(\n",
      "/home/rajkumar/anaconda3/envs/pyenv/lib/python3.10/site-packages/sklearn/linear_model/_sag.py:350: ConvergenceWarning: The max_iter was reached which means the coef_ did not converge\n",
      "  warnings.warn(\n",
      "/home/rajkumar/anaconda3/envs/pyenv/lib/python3.10/site-packages/sklearn/linear_model/_sag.py:350: ConvergenceWarning: The max_iter was reached which means the coef_ did not converge\n",
      "  warnings.warn(\n"
     ]
    }
   ],
   "source": [
    "import mlflow\n",
    "\n",
    "from sklearn.ensemble import VotingClassifier\n",
    "\n",
    "mlflow.set_tracking_uri(\"http://localhost:5000\")\n",
    "\n",
    "\n",
    "random_logged_model = 'mlflow-artifacts:/844546817153085467/d3b4ecccbeab4e1080ca5da586f0ac50/artifacts/random_forest_all'\n",
    "gradient_logged_model = 'mlflow-artifacts:/246528904773499517/ef8ba33281b24649ba531c5403cac2b4/artifacts/GradientBoosting'\n",
    "Xg_logged_model = 'mlflow-artifacts:/181329989193874871/6689b28bad584ba1bcf73caf464749a4/artifacts/XGBoosting'\n",
    "\n",
    "\n",
    "# # Load model as a PyFuncModel.\n",
    "# random_model = mlflow.pyfunc.load_model(random_logged_model)\n",
    "# gradient_model = mlflow.pyfunc.load_model(gradient_logged_model)\n",
    "# XGBoost_model = mlflow.pyfunc.load_model(Xg_logged_model)\n",
    "\n",
    "# Load all three models\n",
    "random_model = mlflow.sklearn.load_model(random_logged_model)\n",
    "gradient_model = mlflow.sklearn.load_model(gradient_logged_model)\n",
    "XGBoost_model = mlflow.sklearn.load_model(Xg_logged_model)\n",
    "\n",
    "\n",
    "\n",
    "# Create a list of tuples for the models to be used in the voting classifier\n",
    "estimators = [\n",
    "    ('random', random_model),\n",
    "    ('gradient', gradient_model),\n",
    "    ('xgboost', XGBoost_model)\n",
    "]\n",
    "\n",
    "# Create the voting classifier\n",
    "voting_clf = VotingClassifier(estimators, voting='hard')\n",
    "\n",
    "# Fit the voting classifier on training data\n",
    "voting_clf.fit(X_train, y_train)\n",
    "\n",
    "# Make predictions on test data\n",
    "y_pred = voting_clf.predict(X_test)\n"
   ]
  },
  {
   "cell_type": "code",
   "execution_count": 70,
   "id": "f954d356",
   "metadata": {},
   "outputs": [
    {
     "name": "stdout",
     "output_type": "stream",
     "text": [
      "              precision    recall  f1-score   support\n",
      "\n",
      "           0       0.65      0.64      0.65      2604\n",
      "           1       0.53      0.60      0.57      2604\n",
      "           2       0.68      0.61      0.65      2604\n",
      "\n",
      "    accuracy                           0.62      7812\n",
      "   macro avg       0.62      0.62      0.62      7812\n",
      "weighted avg       0.62      0.62      0.62      7812\n",
      "\n"
     ]
    }
   ],
   "source": [
    "from sklearn.metrics import confusion_matrix, classification_report, f1_score\n",
    "classif_re = classification_report(y_test,y_pred)\n",
    "print(classif_re)"
   ]
  },
  {
   "cell_type": "code",
   "execution_count": 71,
   "id": "53ea64de",
   "metadata": {},
   "outputs": [
    {
     "name": "stdout",
     "output_type": "stream",
     "text": [
      "Accuracy: 0.6182795698924731\n"
     ]
    }
   ],
   "source": [
    "from sklearn.metrics import accuracy_score\n",
    "\n",
    "accuracy = accuracy_score(y_test, y_pred)\n",
    "print(f\"Accuracy: {accuracy}\")\n"
   ]
  },
  {
   "cell_type": "code",
   "execution_count": 72,
   "id": "45d15be3",
   "metadata": {},
   "outputs": [
    {
     "data": {
      "text/plain": [
       "array([1, 1, 1, ..., 2, 0, 2])"
      ]
     },
     "execution_count": 72,
     "metadata": {},
     "output_type": "execute_result"
    }
   ],
   "source": [
    "import mlflow\n",
    "logged_model = 'mlflow-artifacts:/181329989193874871/6689b28bad584ba1bcf73caf464749a4/artifacts/XGBoosting'\n",
    "\n",
    "# Load model as a PyFuncModel.\n",
    "loaded_model =  mlflow.sklearn.load_model(logged_model)\n",
    "\n",
    "# Predict on a Pandas DataFrame.\n",
    "import pandas as pd\n",
    "loaded_model.predict(X_train)"
   ]
  },
  {
   "cell_type": "code",
   "execution_count": 73,
   "id": "c232b2e1",
   "metadata": {},
   "outputs": [
    {
     "name": "stdout",
     "output_type": "stream",
     "text": [
      "Accuracy: 0.6182795698924731\n"
     ]
    }
   ],
   "source": [
    "from sklearn.metrics import accuracy_score\n",
    "\n",
    "accuracy = accuracy_score(y_test, loaded_model.predict(X_test))\n",
    "print(f\"Accuracy: {accuracy}\")\n"
   ]
  },
  {
   "cell_type": "code",
   "execution_count": null,
   "id": "14f56787",
   "metadata": {},
   "outputs": [],
   "source": []
  }
 ],
 "metadata": {
  "kernelspec": {
   "display_name": "Python 3 (ipykernel)",
   "language": "python",
   "name": "python3"
  },
  "language_info": {
   "codemirror_mode": {
    "name": "ipython",
    "version": 3
   },
   "file_extension": ".py",
   "mimetype": "text/x-python",
   "name": "python",
   "nbconvert_exporter": "python",
   "pygments_lexer": "ipython3",
   "version": "3.10.8"
  }
 },
 "nbformat": 4,
 "nbformat_minor": 5
}
