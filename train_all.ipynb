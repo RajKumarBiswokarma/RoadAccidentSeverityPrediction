{
 "cells": [
  {
   "cell_type": "code",
   "execution_count": 1,
   "id": "1bf79f70",
   "metadata": {
    "collapsed": true
   },
   "outputs": [],
   "source": [
    "import numpy as np\n",
    "import pandas as pd\n",
    "import scipy.stats as stats\n",
    "from sklearn.preprocessing import LabelEncoder, OrdinalEncoder\n",
    "from sklearn.feature_selection import SelectKBest\n",
    "from sklearn.feature_selection import mutual_info_classif\n",
    "from sklearn.feature_selection import chi2\n",
    "from imblearn.over_sampling import SMOTENC\n",
    "import mlflow\n",
    "\n",
    "\n",
    "import warnings\n",
    "warnings.simplefilter(action='ignore', category=FutureWarning)"
   ]
  },
  {
   "cell_type": "code",
   "execution_count": 2,
   "id": "88ae9439",
   "metadata": {},
   "outputs": [],
   "source": [
    "df = pd.read_csv('dataset/final_clean_encoded.csv')"
   ]
  },
  {
   "cell_type": "code",
   "execution_count": 4,
   "id": "1fd0aafd",
   "metadata": {},
   "outputs": [
    {
     "data": {
      "text/plain": [
       "Index(['Day_of_week', 'Age_band_of_driver', 'Sex_of_driver',\n",
       "       'Educational_level', 'Vehicle_driver_relation', 'Driving_experience',\n",
       "       'Type_of_vehicle', 'Owner_of_vehicle', 'Service_year_of_vehicle',\n",
       "       'Defect_of_vehicle', 'Area_accident_occured', 'Lanes_or_Medians',\n",
       "       'Road_allignment', 'Types_of_Junction', 'Road_surface_type',\n",
       "       'Road_surface_conditions', 'Light_conditions', 'Weather_conditions',\n",
       "       'Type_of_collision', 'Number_of_vehicles_involved',\n",
       "       'Number_of_casualties', 'Vehicle_movement', 'Casualty_class',\n",
       "       'Sex_of_casualty', 'Age_band_of_casualty', 'Casualty_severity',\n",
       "       'Work_of_casuality', 'Fitness_of_casuality', 'Pedestrian_movement',\n",
       "       'Cause_of_accident', 'Hour_of_Day', 'Accident_Severity'],\n",
       "      dtype='object')"
      ]
     },
     "execution_count": 4,
     "metadata": {},
     "output_type": "execute_result"
    }
   ],
   "source": [
    "df.columns"
   ]
  },
  {
   "cell_type": "markdown",
   "id": "9176514d",
   "metadata": {},
   "source": [
    "#### Feature Encoding"
   ]
  },
  {
   "cell_type": "code",
   "execution_count": 4,
   "id": "e636fcad",
   "metadata": {},
   "outputs": [],
   "source": [
    "data = df.drop('Accident_Severity', axis = 1)\n",
    "\n",
    "labels = df['Accident_Severity']"
   ]
  },
  {
   "cell_type": "markdown",
   "id": "df06985d",
   "metadata": {},
   "source": [
    "#### Spillting Data into training and testing data\n"
   ]
  },
  {
   "cell_type": "code",
   "execution_count": 5,
   "id": "0d66b352",
   "metadata": {},
   "outputs": [],
   "source": [
    "from sklearn.model_selection import train_test_split\n",
    "\n",
    "X_train,X_test,y_train,y_test = train_test_split(data,labels,test_size = 0.25, random_state = 42, stratify = labels)"
   ]
  },
  {
   "cell_type": "code",
   "execution_count": 6,
   "id": "37a24ff5",
   "metadata": {},
   "outputs": [
    {
     "name": "stdout",
     "output_type": "stream",
     "text": [
      "(9237, 31)\n",
      "(3079, 31)\n",
      "(9237,)\n",
      "(3079,)\n"
     ]
    }
   ],
   "source": [
    "print(X_train.shape)\n",
    "print(X_test.shape)\n",
    "print(y_train.shape)\n",
    "print(y_test.shape)"
   ]
  },
  {
   "cell_type": "code",
   "execution_count": 7,
   "id": "5f5f41f0",
   "metadata": {},
   "outputs": [
    {
     "name": "stderr",
     "output_type": "stream",
     "text": [
      "/home/rajkumar/anaconda3/envs/pyenv/lib/python3.10/site-packages/sklearn/linear_model/_logistic.py:458: ConvergenceWarning: lbfgs failed to converge (status=1):\n",
      "STOP: TOTAL NO. of ITERATIONS REACHED LIMIT.\n",
      "\n",
      "Increase the number of iterations (max_iter) or scale the data as shown in:\n",
      "    https://scikit-learn.org/stable/modules/preprocessing.html\n",
      "Please also refer to the documentation for alternative solver options:\n",
      "    https://scikit-learn.org/stable/modules/linear_model.html#logistic-regression\n",
      "  n_iter_i = _check_optimize_result(\n",
      "/home/rajkumar/anaconda3/envs/pyenv/lib/python3.10/site-packages/_distutils_hack/__init__.py:33: UserWarning: Setuptools is replacing distutils.\n",
      "  warnings.warn(\"Setuptools is replacing distutils.\")\n"
     ]
    }
   ],
   "source": [
    "import mlflow\n",
    "import mlflow.sklearn\n",
    "from sklearn.linear_model import LogisticRegression\n",
    "from sklearn.metrics import accuracy_score, precision_score, recall_score, f1_score\n",
    "\n",
    "\n",
    "\n",
    "# Set tracking URI for MLflow\n",
    "mlflow.set_tracking_uri(\"http://localhost:5000\")\n",
    "\n",
    "# Start MLflow experiment\n",
    "mlflow.set_experiment(\"logistic_regression_experiment\")\n",
    "\n",
    "# Define hyperparameters\n",
    "C = 0.1\n",
    "penalty = 'l2'\n",
    "\n",
    "# Train model\n",
    "with mlflow.start_run():\n",
    "    # Create logistic regression model\n",
    "    model = LogisticRegression(C=C, penalty=penalty, random_state=42)\n",
    "\n",
    "    # Fit model on training data\n",
    "    model.fit(X_train, y_train)\n",
    "\n",
    "    # Make predictions on test data\n",
    "    y_pred = model.predict(X_test)\n",
    "\n",
    "    # Calculate evaluation metrics\n",
    "    accuracy = accuracy_score(y_test, y_pred)\n",
    "    precision = precision_score(y_test, y_pred, average = 'micro')\n",
    "    recall = recall_score(y_test, y_pred, average = 'micro')\n",
    "    f1 = f1_score(y_test, y_pred, average = 'micro')\n",
    "\n",
    "    # Log hyperparameters and evaluation metrics to MLflow\n",
    "    mlflow.log_param(\"C\", C)\n",
    "    mlflow.log_param(\"penalty\", penalty)\n",
    "    mlflow.log_metric(\"accuracy\", accuracy)\n",
    "    mlflow.log_metric(\"precision\", precision)\n",
    "    mlflow.log_metric(\"recall\", recall)\n",
    "    mlflow.log_metric(\"f1\", f1)\n",
    "\n",
    "    # Log model to MLflow\n",
    "    mlflow.sklearn.log_model(model, \"model_logistic_regression_all\")\n"
   ]
  },
  {
   "cell_type": "code",
   "execution_count": 8,
   "id": "63643fe6",
   "metadata": {},
   "outputs": [
    {
     "name": "stdout",
     "output_type": "stream",
     "text": [
      "              precision    recall  f1-score   support\n",
      "\n",
      "           0       0.00      0.00      0.00        39\n",
      "           1       0.00      0.00      0.00       436\n",
      "           2       0.85      1.00      0.92      2604\n",
      "\n",
      "    accuracy                           0.85      3079\n",
      "   macro avg       0.28      0.33      0.31      3079\n",
      "weighted avg       0.72      0.85      0.78      3079\n",
      "\n"
     ]
    },
    {
     "name": "stderr",
     "output_type": "stream",
     "text": [
      "/home/rajkumar/anaconda3/envs/pyenv/lib/python3.10/site-packages/sklearn/metrics/_classification.py:1344: UndefinedMetricWarning: Precision and F-score are ill-defined and being set to 0.0 in labels with no predicted samples. Use `zero_division` parameter to control this behavior.\n",
      "  _warn_prf(average, modifier, msg_start, len(result))\n",
      "/home/rajkumar/anaconda3/envs/pyenv/lib/python3.10/site-packages/sklearn/metrics/_classification.py:1344: UndefinedMetricWarning: Precision and F-score are ill-defined and being set to 0.0 in labels with no predicted samples. Use `zero_division` parameter to control this behavior.\n",
      "  _warn_prf(average, modifier, msg_start, len(result))\n",
      "/home/rajkumar/anaconda3/envs/pyenv/lib/python3.10/site-packages/sklearn/metrics/_classification.py:1344: UndefinedMetricWarning: Precision and F-score are ill-defined and being set to 0.0 in labels with no predicted samples. Use `zero_division` parameter to control this behavior.\n",
      "  _warn_prf(average, modifier, msg_start, len(result))\n"
     ]
    }
   ],
   "source": [
    "from sklearn.metrics import confusion_matrix, classification_report, f1_score\n",
    "classif_re = classification_report(y_test,y_pred)\n",
    "print(classif_re)\n"
   ]
  },
  {
   "cell_type": "code",
   "execution_count": 9,
   "id": "659b127f",
   "metadata": {},
   "outputs": [
    {
     "data": {
      "image/png": "[encoded data removed]",
      "text/plain": [
       "<Figure size 500x400 with 2 Axes>"
      ]
     },
     "metadata": {},
     "output_type": "display_data"
    }
   ],
   "source": [
    "#Plotting the confusion matrix\n",
    "import matplotlib.pyplot as plt\n",
    "import seaborn as sns\n",
    "\n",
    "conf_matrix = confusion_matrix(y_test, y_pred)\n",
    "\n",
    "\n",
    "# Creating a dataframe for a array-formatted Confusion matrix,so it will be easy for plotting.\n",
    "cm_df = pd.DataFrame(conf_matrix,\n",
    "                     index = ['Fatal','Serious','Slight'], \n",
    "                     columns = ['Fatal','Serious','Slight'])\n",
    "\n",
    "\n",
    "\n",
    "plt.figure(figsize=(5,4))\n",
    "sns.heatmap(cm_df, annot=True,fmt='g')\n",
    "plt.title('Confusion Matrix')\n",
    "plt.ylabel('Actal Values')\n",
    "plt.xlabel('Predicted Values')\n",
    "plt.title(\"Logistic without SMOTENC\")\n",
    "plt.show()"
   ]
  },
  {
   "cell_type": "code",
   "execution_count": 10,
   "id": "261cb198",
   "metadata": {},
   "outputs": [
    {
     "name": "stdout",
     "output_type": "stream",
     "text": [
      "              precision    recall  f1-score   support\n",
      "\n",
      "           0       0.00      0.00      0.00        39\n",
      "           1       0.00      0.00      0.00       436\n",
      "           2       0.85      1.00      0.92      2604\n",
      "\n",
      "    accuracy                           0.85      3079\n",
      "   macro avg       0.28      0.33      0.31      3079\n",
      "weighted avg       0.72      0.85      0.78      3079\n",
      "\n"
     ]
    },
    {
     "name": "stderr",
     "output_type": "stream",
     "text": [
      "/home/rajkumar/anaconda3/envs/pyenv/lib/python3.10/site-packages/sklearn/metrics/_classification.py:1344: UndefinedMetricWarning: Precision and F-score are ill-defined and being set to 0.0 in labels with no predicted samples. Use `zero_division` parameter to control this behavior.\n",
      "  _warn_prf(average, modifier, msg_start, len(result))\n",
      "/home/rajkumar/anaconda3/envs/pyenv/lib/python3.10/site-packages/sklearn/metrics/_classification.py:1344: UndefinedMetricWarning: Precision and F-score are ill-defined and being set to 0.0 in labels with no predicted samples. Use `zero_division` parameter to control this behavior.\n",
      "  _warn_prf(average, modifier, msg_start, len(result))\n",
      "/home/rajkumar/anaconda3/envs/pyenv/lib/python3.10/site-packages/sklearn/metrics/_classification.py:1344: UndefinedMetricWarning: Precision and F-score are ill-defined and being set to 0.0 in labels with no predicted samples. Use `zero_division` parameter to control this behavior.\n",
      "  _warn_prf(average, modifier, msg_start, len(result))\n"
     ]
    }
   ],
   "source": [
    "from sklearn.metrics import confusion_matrix, classification_report, f1_score\n",
    "classif_re = classification_report(y_test,y_pred)\n",
    "print(classif_re)\n"
   ]
  },
  {
   "cell_type": "code",
   "execution_count": 11,
   "id": "3b56ee8a",
   "metadata": {},
   "outputs": [],
   "source": [
    "from sklearn.ensemble import RandomForestClassifier\n",
    "from sklearn.metrics import confusion_matrix, classification_report, f1_score\n",
    "# Start an MLflow experiment\n",
    "n_estimators = 100\n",
    "max_depth = 20\n",
    "\n",
    "with mlflow.start_run():\n",
    "    \n",
    "    # Set tracking URI for MLflow\n",
    "    mlflow.set_tracking_uri(\"http://localhost:5000\")\n",
    "\n",
    "    # Start MLflow experiment\n",
    "    mlflow.set_experiment(\"random_forest_experiment\")\n",
    "\n",
    "    # Log the hyperparameters\n",
    "    mlflow.log_param(\"n_estimators\", n_estimators)\n",
    "    mlflow.log_param(\"max_depth\", max_depth)\n",
    "\n",
    "    # Train the model\n",
    "    clf = RandomForestClassifier(n_estimators=n_estimators, max_depth=max_depth)\n",
    "    clf.fit(X_train, y_train)\n",
    "\n",
    "    # Predict the test set\n",
    "    y_pred = clf.predict(X_test)\n",
    "\n",
    "   # Calculate evaluation metrics\n",
    "    accuracy = accuracy_score(y_test, y_pred)\n",
    "    precision = precision_score(y_test, y_pred, average = 'micro')\n",
    "    recall = recall_score(y_test, y_pred, average = 'micro')\n",
    "    f1 = f1_score(y_test, y_pred, average = 'micro')\n",
    "\n",
    "    # Log hyperparameters and evaluation metrics to MLflow\n",
    "    \n",
    "    mlflow.log_metric(\"accuracy\", accuracy)\n",
    "    mlflow.log_metric(\"precision\", precision)\n",
    "    mlflow.log_metric(\"recall\", recall)\n",
    "    mlflow.log_metric(\"f1\", f1)\n",
    "    \n",
    "    # Log model to MLflow\n",
    "    mlflow.sklearn.log_model(model, \"model_Random_forest_all\")\n",
    "   \n",
    "    "
   ]
  },
  {
   "cell_type": "code",
   "execution_count": 12,
   "id": "2a333e00",
   "metadata": {},
   "outputs": [
    {
     "name": "stdout",
     "output_type": "stream",
     "text": [
      "              precision    recall  f1-score   support\n",
      "\n",
      "           0       0.00      0.00      0.00        39\n",
      "           1       0.89      0.02      0.04       436\n",
      "           2       0.85      1.00      0.92      2604\n",
      "\n",
      "    accuracy                           0.85      3079\n",
      "   macro avg       0.58      0.34      0.32      3079\n",
      "weighted avg       0.84      0.85      0.78      3079\n",
      "\n"
     ]
    },
    {
     "name": "stderr",
     "output_type": "stream",
     "text": [
      "/home/rajkumar/anaconda3/envs/pyenv/lib/python3.10/site-packages/sklearn/metrics/_classification.py:1344: UndefinedMetricWarning: Precision and F-score are ill-defined and being set to 0.0 in labels with no predicted samples. Use `zero_division` parameter to control this behavior.\n",
      "  _warn_prf(average, modifier, msg_start, len(result))\n",
      "/home/rajkumar/anaconda3/envs/pyenv/lib/python3.10/site-packages/sklearn/metrics/_classification.py:1344: UndefinedMetricWarning: Precision and F-score are ill-defined and being set to 0.0 in labels with no predicted samples. Use `zero_division` parameter to control this behavior.\n",
      "  _warn_prf(average, modifier, msg_start, len(result))\n",
      "/home/rajkumar/anaconda3/envs/pyenv/lib/python3.10/site-packages/sklearn/metrics/_classification.py:1344: UndefinedMetricWarning: Precision and F-score are ill-defined and being set to 0.0 in labels with no predicted samples. Use `zero_division` parameter to control this behavior.\n",
      "  _warn_prf(average, modifier, msg_start, len(result))\n"
     ]
    }
   ],
   "source": [
    "from sklearn.metrics import confusion_matrix, classification_report, f1_score\n",
    "classif_re = classification_report(y_test,y_pred)\n",
    "print(classif_re)\n"
   ]
  },
  {
   "cell_type": "code",
   "execution_count": 13,
   "id": "54d0e6a9",
   "metadata": {},
   "outputs": [
    {
     "data": {
      "image/png": "[encoded data removed]",
      "text/plain": [
       "<Figure size 500x400 with 2 Axes>"
      ]
     },
     "metadata": {},
     "output_type": "display_data"
    }
   ],
   "source": [
    "#Plotting the confusion matrix\n",
    "import matplotlib.pyplot as plt\n",
    "import seaborn as sns\n",
    "\n",
    "conf_matrix = confusion_matrix(y_test, y_pred)\n",
    "\n",
    "\n",
    "# Creating a dataframe for a array-formatted Confusion matrix,so it will be easy for plotting.\n",
    "cm_df = pd.DataFrame(conf_matrix,\n",
    "                     index = ['Fatal','Serious','Slight'], \n",
    "                     columns = ['Fatal','Serious','Slight'])\n",
    "\n",
    "\n",
    "\n",
    "plt.figure(figsize=(5,4))\n",
    "sns.heatmap(cm_df, annot=True,fmt='g')\n",
    "plt.title('Confusion Matrix')\n",
    "plt.ylabel('Actal Values')\n",
    "plt.xlabel('Predicted Values')\n",
    "plt.title(\"Random Forest without SMOTENC\")\n",
    "plt.show()"
   ]
  },
  {
   "cell_type": "markdown",
   "id": "67d2de3d",
   "metadata": {},
   "source": [
    "#### Solving Imbalance Data\n"
   ]
  },
  {
   "cell_type": "code",
   "execution_count": 14,
   "id": "b32e967c",
   "metadata": {},
   "outputs": [
    {
     "data": {
      "text/plain": [
       "((31245, 31), (31245,))"
      ]
     },
     "execution_count": 14,
     "metadata": {},
     "output_type": "execute_result"
    }
   ],
   "source": [
    "# categorical features for SMOTENC technique for categorical features\n",
    "n_cat_index = np.array(range(30))\n",
    "\n",
    "smote = SMOTENC(categorical_features=n_cat_index, random_state=42, n_jobs=True)\n",
    "X_n, y_n = smote.fit_resample(data,labels)\n",
    "X_n.shape, y_n.shape"
   ]
  },
  {
   "cell_type": "code",
   "execution_count": 15,
   "id": "c46f32e9",
   "metadata": {},
   "outputs": [],
   "source": [
    "from sklearn.model_selection import train_test_split\n",
    "\n",
    "data = X_n\n",
    "labels = y_n\n",
    "X_train,X_test,y_train,y_test = train_test_split(data,labels,test_size = 0.25, random_state = 42, stratify = labels)"
   ]
  },
  {
   "cell_type": "code",
   "execution_count": 16,
   "id": "48dc12b2",
   "metadata": {},
   "outputs": [
    {
     "name": "stderr",
     "output_type": "stream",
     "text": [
      "/home/rajkumar/anaconda3/envs/pyenv/lib/python3.10/site-packages/sklearn/linear_model/_sag.py:350: ConvergenceWarning: The max_iter was reached which means the coef_ did not converge\n",
      "  warnings.warn(\n"
     ]
    }
   ],
   "source": [
    "import mlflow\n",
    "import mlflow.sklearn\n",
    "from sklearn.linear_model import LogisticRegression\n",
    "from sklearn.metrics import accuracy_score, precision_score, recall_score, f1_score\n",
    "\n",
    "\n",
    "\n",
    "# Set tracking URI for MLflow\n",
    "mlflow.set_tracking_uri(\"http://localhost:5000\")\n",
    "\n",
    "# Start MLflow experiment\n",
    "mlflow.set_experiment(\"logistic_regression_experiment\")\n",
    "\n",
    "# Define hyperparameters\n",
    "C = 0.2\n",
    "penalty = 'l2'\n",
    "\n",
    "\n",
    "# Train model\n",
    "with mlflow.start_run():\n",
    "    # Create logistic regression model\n",
    "    model = LogisticRegression(C=C, penalty=penalty, random_state=42, solver = 'saga')\n",
    "\n",
    "    # Fit model on training data\n",
    "    model.fit(X_train, y_train)\n",
    "\n",
    "    # Make predictions on test data\n",
    "    y_pred = model.predict(X_test)\n",
    "\n",
    "    # Calculate evaluation metrics\n",
    "    accuracy = accuracy_score(y_test, y_pred)\n",
    "    precision = precision_score(y_test, y_pred, average = 'micro')\n",
    "    recall = recall_score(y_test, y_pred, average = 'micro')\n",
    "    f1 = f1_score(y_test, y_pred, average = 'micro')\n",
    "\n",
    "    # Log hyperparameters and evaluation metrics to MLflow\n",
    "    mlflow.log_param(\"message\", \"After SMOTENC\")\n",
    "    mlflow.log_param(\"C\", C)\n",
    "    mlflow.log_param(\"penalty\", penalty)\n",
    "    mlflow.log_metric(\"accuracy\", accuracy)\n",
    "    mlflow.log_metric(\"precision\", precision)\n",
    "    mlflow.log_metric(\"recall\", recall)\n",
    "    mlflow.log_metric(\"f1\", f1)\n",
    "\n",
    "    # Log model to MLflow\n",
    "    mlflow.sklearn.log_model(model, \"model_logistic_regression_all\")"
   ]
  },
  {
   "cell_type": "code",
   "execution_count": 17,
   "id": "333d0d4b",
   "metadata": {},
   "outputs": [
    {
     "name": "stdout",
     "output_type": "stream",
     "text": [
      "              precision    recall  f1-score   support\n",
      "\n",
      "           0       0.65      0.64      0.65      2604\n",
      "           1       0.53      0.60      0.56      2604\n",
      "           2       0.68      0.61      0.64      2604\n",
      "\n",
      "    accuracy                           0.62      7812\n",
      "   macro avg       0.62      0.62      0.62      7812\n",
      "weighted avg       0.62      0.62      0.62      7812\n",
      "\n"
     ]
    }
   ],
   "source": [
    "classif_re = classification_report(y_test,y_pred)\n",
    "print(classif_re)\n"
   ]
  },
  {
   "cell_type": "code",
   "execution_count": 18,
   "id": "0ca443c2",
   "metadata": {},
   "outputs": [
    {
     "data": {
      "text/plain": [
       "array([[1664,  747,  193],\n",
       "       [ 498, 1564,  542],\n",
       "       [ 391,  624, 1589]])"
      ]
     },
     "execution_count": 18,
     "metadata": {},
     "output_type": "execute_result"
    }
   ],
   "source": [
    "conf_matrix = confusion_matrix(y_test, y_pred)\n",
    "conf_matrix"
   ]
  },
  {
   "cell_type": "code",
   "execution_count": 19,
   "id": "ceb1cdd9",
   "metadata": {},
   "outputs": [],
   "source": [
    "# Creating a dataframe for a array-formatted Confusion matrix,so it will be easy for plotting.\n",
    "cm_df = pd.DataFrame(conf_matrix,\n",
    "                     index = ['Fatal','Serious','Slight'], \n",
    "                     columns = ['Fatal','Serious','Slight'])\n"
   ]
  },
  {
   "cell_type": "code",
   "execution_count": 20,
   "id": "e1ff757b",
   "metadata": {},
   "outputs": [
    {
     "data": {
      "image/png": "[encoded data removed]",
      "text/plain": [
       "<Figure size 500x400 with 2 Axes>"
      ]
     },
     "metadata": {},
     "output_type": "display_data"
    }
   ],
   "source": [
    "#Plotting the confusion matrix\n",
    "import matplotlib.pyplot as plt\n",
    "import seaborn as sns\n",
    "plt.figure(figsize=(5,4))\n",
    "sns.heatmap(cm_df, annot=True,fmt='g')\n",
    "plt.title('Confusion Matrix')\n",
    "plt.ylabel('Actal Values')\n",
    "plt.xlabel('Predicted Values')\n",
    "plt.title(\"Logistic Regression\")\n",
    "plt.show()"
   ]
  },
  {
   "cell_type": "code",
   "execution_count": 21,
   "id": "742a7bb6",
   "metadata": {},
   "outputs": [],
   "source": [
    "from sklearn.ensemble import RandomForestClassifier\n",
    "from sklearn.metrics import confusion_matrix, classification_report, f1_score\n",
    "# Start an MLflow experiment\n",
    "n_estimators = 100\n",
    "max_depth = 25\n",
    "\n",
    "with mlflow.start_run():\n",
    "    \n",
    "    # Set tracking URI for MLflow\n",
    "    mlflow.set_tracking_uri(\"http://localhost:5000\")\n",
    "\n",
    "    # Start MLflow experiment\n",
    "    mlflow.set_experiment(\"random_forest_experiment\")\n",
    "\n",
    "    # Log the hyperparameters\n",
    "    mlflow.log_param(\"n_estimators\", n_estimators)\n",
    "    mlflow.log_param(\"max_depth\", max_depth)\n",
    "    mlflow.log_param(\"Message\",\"After SMotenc\")\n",
    "\n",
    "    # Train the model\n",
    "    clf = RandomForestClassifier(n_estimators=n_estimators, max_depth=max_depth)\n",
    "    clf.fit(X_train, y_train)\n",
    "\n",
    "    # Predict the test set\n",
    "    y_pred = clf.predict(X_test)\n",
    "\n",
    "   # Calculate evaluation metrics\n",
    "    accuracy = accuracy_score(y_test, y_pred)\n",
    "    precision = precision_score(y_test, y_pred, average = 'micro')\n",
    "    recall = recall_score(y_test, y_pred, average = 'micro')\n",
    "    f1 = f1_score(y_test, y_pred, average = 'micro')\n",
    "\n",
    "    # Log hyperparameters and evaluation metrics to MLflow\n",
    "    \n",
    "    mlflow.log_metric(\"accuracy\", accuracy)\n",
    "    mlflow.log_metric(\"precision\", precision)\n",
    "    mlflow.log_metric(\"recall\", recall)\n",
    "    mlflow.log_metric(\"f1\", f1)\n",
    "    \n",
    "    # Log model to MLflow\n",
    "    mlflow.sklearn.log_model(model, \"random_forest_all\")\n",
    "    # End the MLflow experiment\n",
    "    mlflow.end_run()\n",
    "\n",
    "   \n",
    "    "
   ]
  },
  {
   "cell_type": "code",
   "execution_count": 22,
   "id": "5ec16ede",
   "metadata": {},
   "outputs": [
    {
     "name": "stdout",
     "output_type": "stream",
     "text": [
      "              precision    recall  f1-score   support\n",
      "\n",
      "           0       0.99      0.99      0.99      2604\n",
      "           1       0.90      0.86      0.88      2604\n",
      "           2       0.86      0.90      0.88      2604\n",
      "\n",
      "    accuracy                           0.92      7812\n",
      "   macro avg       0.92      0.92      0.92      7812\n",
      "weighted avg       0.92      0.92      0.92      7812\n",
      "\n"
     ]
    }
   ],
   "source": [
    "classif_re = classification_report(y_test,y_pred)\n",
    "print(classif_re)\n"
   ]
  },
  {
   "cell_type": "code",
   "execution_count": 23,
   "id": "fbc02e23",
   "metadata": {},
   "outputs": [
    {
     "data": {
      "text/plain": [
       "array([[2576,    4,   24],\n",
       "       [   5, 2239,  360],\n",
       "       [  10,  255, 2339]])"
      ]
     },
     "execution_count": 23,
     "metadata": {},
     "output_type": "execute_result"
    }
   ],
   "source": [
    "conf_matrix = confusion_matrix(y_test, y_pred)\n",
    "conf_matrix"
   ]
  },
  {
   "cell_type": "code",
   "execution_count": 24,
   "id": "2160ceff",
   "metadata": {},
   "outputs": [
    {
     "data": {
      "image/png": "[encoded data removed]",
      "text/plain": [
       "<Figure size 500x400 with 2 Axes>"
      ]
     },
     "metadata": {},
     "output_type": "display_data"
    }
   ],
   "source": [
    "#Plotting the confusion matrix\n",
    "import matplotlib.pyplot as plt\n",
    "import seaborn as sns\n",
    "\n",
    "conf_matrix = confusion_matrix(y_test, y_pred)\n",
    "\n",
    "\n",
    "# Creating a dataframe for a array-formatted Confusion matrix,so it will be easy for plotting.\n",
    "cm_df = pd.DataFrame(conf_matrix,\n",
    "                     index = ['Fatal','Serious','Slight'], \n",
    "                     columns = ['Fatal','Serious','Slight'])\n",
    "\n",
    "\n",
    "\n",
    "plt.figure(figsize=(5,4))\n",
    "sns.heatmap(cm_df, annot=True,fmt='g')\n",
    "plt.title('Confusion Matrix')\n",
    "plt.ylabel('Actal Values')\n",
    "plt.xlabel('Predicted Values')\n",
    "plt.title(\"Random Forest\")\n",
    "plt.show()"
   ]
  },
  {
   "cell_type": "code",
   "execution_count": 25,
   "id": "81a594c2",
   "metadata": {},
   "outputs": [
    {
     "data": {
      "text/plain": [
       "['random_model.joblib']"
      ]
     },
     "execution_count": 25,
     "metadata": {},
     "output_type": "execute_result"
    }
   ],
   "source": [
    "import joblib\n",
    "\n",
    "# Assuming your model object is named `model`\n",
    "# Save the model to a file using joblib\n",
    "joblib.dump(clf, 'random_model.joblib')\n"
   ]
  },
  {
   "cell_type": "code",
   "execution_count": 26,
   "id": "bb8f399c",
   "metadata": {},
   "outputs": [
    {
     "name": "stderr",
     "output_type": "stream",
     "text": [
      "/home/rajkumar/anaconda3/envs/pyenv/lib/python3.10/site-packages/sklearn/linear_model/_sag.py:350: ConvergenceWarning: The max_iter was reached which means the coef_ did not converge\n",
      "  warnings.warn(\n"
     ]
    }
   ],
   "source": [
    "# Define hyperparameters\n",
    "C = 0.1\n",
    "penalty = 'elasticnet'\n",
    "l1_ratio = 0.9\n",
    "solver = 'saga'\n",
    "\n",
    "# Train model\n",
    "with mlflow.start_run():\n",
    "    # Create logistic regression model\n",
    "    model = LogisticRegression(C=C, penalty=penalty, l1_ratio=l1_ratio, solver=solver, random_state=42)\n",
    "\n",
    "    # Fit model on training data\n",
    "    model.fit(X_train, y_train)\n",
    "\n",
    "    # Make predictions on test data\n",
    "    y_pred = model.predict(X_test)\n",
    "\n",
    "    # Calculate evaluation metrics\n",
    "    accuracy = accuracy_score(y_test, y_pred)\n",
    "    precision = precision_score(y_test, y_pred, average='micro')\n",
    "    recall = recall_score(y_test, y_pred, average='micro')\n",
    "    f1 = f1_score(y_test, y_pred, average='micro')\n",
    "\n",
    "    # Log hyperparameters and evaluation metrics to MLflow\n",
    "    mlflow.log_param(\"message\", \"After SMOTENC\")\n",
    "    mlflow.log_param(\"C\", C)\n",
    "    mlflow.log_param(\"penalty\", penalty)\n",
    "    mlflow.log_param(\"l1_ratio\", l1_ratio)\n",
    "    mlflow.log_param(\"solver\", solver)\n",
    "    mlflow.log_metric(\"accuracy\", accuracy)\n",
    "    mlflow.log_metric(\"precision\", precision)\n",
    "    mlflow.log_metric(\"recall\", recall)\n",
    "    mlflow.log_metric(\"f1\", f1)\n",
    "\n",
    "    # Log model to MLflow\n",
    "    mlflow.sklearn.log_model(model, \"model_logistic_regression_all\")\n"
   ]
  },
  {
   "cell_type": "code",
   "execution_count": 27,
   "id": "e71f7c3b",
   "metadata": {},
   "outputs": [
    {
     "name": "stdout",
     "output_type": "stream",
     "text": [
      "              precision    recall  f1-score   support\n",
      "\n",
      "           0       0.65      0.64      0.65      2604\n",
      "           1       0.53      0.60      0.57      2604\n",
      "           2       0.68      0.61      0.65      2604\n",
      "\n",
      "    accuracy                           0.62      7812\n",
      "   macro avg       0.62      0.62      0.62      7812\n",
      "weighted avg       0.62      0.62      0.62      7812\n",
      "\n"
     ]
    }
   ],
   "source": [
    "classif_re = classification_report(y_test,y_pred)\n",
    "print(classif_re)\n"
   ]
  },
  {
   "cell_type": "code",
   "execution_count": 27,
   "id": "69b20aad",
   "metadata": {},
   "outputs": [
    {
     "data": {
      "image/png": "[encoded data removed]",
      "text/plain": [
       "<Figure size 500x400 with 2 Axes>"
      ]
     },
     "metadata": {},
     "output_type": "display_data"
    }
   ],
   "source": [
    "#Plotting the confusion matrix\n",
    "import matplotlib.pyplot as plt\n",
    "import seaborn as sns\n",
    "\n",
    "conf_matrix = confusion_matrix(y_test, y_pred)\n",
    "\n",
    "\n",
    "# Creating a dataframe for a array-formatted Confusion matrix,so it will be easy for plotting.\n",
    "cm_df = pd.DataFrame(conf_matrix,\n",
    "                     index = ['Fatal','Serious','Slight'], \n",
    "                     columns = ['Fatal','Serious','Slight'])\n",
    "\n",
    "\n",
    "\n",
    "plt.figure(figsize=(5,4))\n",
    "sns.heatmap(cm_df, annot=True,fmt='g')\n",
    "plt.title('Confusion Matrix')\n",
    "plt.ylabel('Actal Values')\n",
    "plt.xlabel('Predicted Values')\n",
    "plt.title(\"Logistica\")\n",
    "plt.show()"
   ]
  },
  {
   "cell_type": "code",
   "execution_count": 28,
   "id": "c5b0372b",
   "metadata": {},
   "outputs": [
    {
     "name": "stdout",
     "output_type": "stream",
     "text": [
      "One-vs-All with RBF kernel and C=1 Accuracy: 0.6931643625192012\n",
      "One-vs-One with linear kernel and C=10 Accuracy: 0.6285202252944189\n"
     ]
    }
   ],
   "source": [
    "from sklearn.svm import SVC\n",
    "from sklearn.multiclass import OneVsOneClassifier, OneVsRestClassifier\n",
    "from sklearn.preprocessing import LabelBinarizer\n",
    "from sklearn.metrics import accuracy_score\n",
    "\n",
    "\n",
    "# One-vs-All approach with RBF kernel and C=1\n",
    "svm_ova_rbf = OneVsRestClassifier(SVC(kernel='rbf', C=1))\n",
    "svm_ova_rbf.fit(X_train, y_train)\n",
    "y_pred_ova_rbf = svm_ova_rbf.predict(X_test)\n",
    "accuracy_ova_rbf = accuracy_score(y_test, y_pred_ova_rbf)\n",
    "print(\"One-vs-All with RBF kernel and C=1 Accuracy:\", accuracy_ova_rbf)\n",
    "\n",
    "# One-vs-One approach with linear kernel and C=10\n",
    "svm_ovo_linear = OneVsOneClassifier(SVC(kernel='linear', C=10))\n",
    "svm_ovo_linear.fit(X_train, y_train)\n",
    "y_pred_ovo_linear = svm_ovo_linear.predict(X_test)\n",
    "accuracy_ovo_linear = accuracy_score(y_test, y_pred_ovo_linear)\n",
    "print(\"One-vs-One with linear kernel and C=10 Accuracy:\", accuracy_ovo_linear)\n",
    "\n"
   ]
  },
  {
   "cell_type": "code",
   "execution_count": 29,
   "id": "1566b628",
   "metadata": {},
   "outputs": [
    {
     "name": "stdout",
     "output_type": "stream",
     "text": [
      "              precision    recall  f1-score   support\n",
      "\n",
      "           0       0.76      0.76      0.76      2604\n",
      "           1       0.61      0.62      0.62      2604\n",
      "           2       0.71      0.70      0.70      2604\n",
      "\n",
      "    accuracy                           0.69      7812\n",
      "   macro avg       0.69      0.69      0.69      7812\n",
      "weighted avg       0.69      0.69      0.69      7812\n",
      "\n"
     ]
    }
   ],
   "source": [
    "classif_re = classification_report(y_test,y_pred_ova_rbf)\n",
    "print(classif_re)\n"
   ]
  },
  {
   "cell_type": "code",
   "execution_count": 31,
   "id": "2195f8f5",
   "metadata": {},
   "outputs": [
    {
     "data": {
      "image/png": "[encoded data removed]",
      "text/plain": [
       "<Figure size 500x400 with 2 Axes>"
      ]
     },
     "metadata": {},
     "output_type": "display_data"
    }
   ],
   "source": [
    "#Plotting the confusion matrix\n",
    "import matplotlib.pyplot as plt\n",
    "import seaborn as sns\n",
    "\n",
    "conf_matrix = confusion_matrix(y_test, y_pred_ova_rbf)\n",
    "\n",
    "\n",
    "# Creating a dataframe for a array-formatted Confusion matrix,so it will be easy for plotting.\n",
    "cm_df = pd.DataFrame(conf_matrix,\n",
    "                     index = ['Fatal','Serious','Slight'], \n",
    "                     columns = ['Fatal','Serious','Slight'])\n",
    "\n",
    "\n",
    "\n",
    "plt.figure(figsize=(5,4))\n",
    "sns.heatmap(cm_df, annot=True,fmt='g')\n",
    "plt.title('Confusion Matrix')\n",
    "plt.ylabel('Actal Values')\n",
    "plt.xlabel('Predicted Values')\n",
    "plt.title(\"SVM One-vs-All with RBF kernel \")\n",
    "plt.show()"
   ]
  },
  {
   "cell_type": "code",
   "execution_count": 30,
   "id": "17e62938",
   "metadata": {},
   "outputs": [
    {
     "name": "stdout",
     "output_type": "stream",
     "text": [
      "              precision    recall  f1-score   support\n",
      "\n",
      "           0       0.66      0.64      0.65      2604\n",
      "           1       0.54      0.63      0.58      2604\n",
      "           2       0.71      0.62      0.66      2604\n",
      "\n",
      "    accuracy                           0.63      7812\n",
      "   macro avg       0.64      0.63      0.63      7812\n",
      "weighted avg       0.64      0.63      0.63      7812\n",
      "\n"
     ]
    }
   ],
   "source": [
    "classif_re = classification_report(y_test,y_pred_ovo_linear)\n",
    "print(classif_re)\n"
   ]
  },
  {
   "cell_type": "code",
   "execution_count": 32,
   "id": "6cf8db86",
   "metadata": {},
   "outputs": [
    {
     "data": {
      "image/png": "[encoded data removed]",
      "text/plain": [
       "<Figure size 500x400 with 2 Axes>"
      ]
     },
     "metadata": {},
     "output_type": "display_data"
    }
   ],
   "source": [
    "#Plotting the confusion matrix\n",
    "import matplotlib.pyplot as plt\n",
    "import seaborn as sns\n",
    "\n",
    "conf_matrix = confusion_matrix(y_test, y_pred_ova_rbf)\n",
    "\n",
    "\n",
    "# Creating a dataframe for a array-formatted Confusion matrix,so it will be easy for plotting.\n",
    "cm_df = pd.DataFrame(conf_matrix,\n",
    "                     index = ['Fatal','Serious','Slight'], \n",
    "                     columns = ['Fatal','Serious','Slight'])\n",
    "\n",
    "\n",
    "\n",
    "plt.figure(figsize=(5,4))\n",
    "sns.heatmap(cm_df, annot=True,fmt='g')\n",
    "plt.title('Confusion Matrix')\n",
    "plt.ylabel('Actal Values')\n",
    "plt.xlabel('Predicted Values')\n",
    "plt.title(\"SVM One-vs-One with linear kernel \")\n",
    "plt.show()"
   ]
  },
  {
   "cell_type": "code",
   "execution_count": 33,
   "id": "f5eead3a",
   "metadata": {},
   "outputs": [
    {
     "name": "stdout",
     "output_type": "stream",
     "text": [
      "Best parameters: {'C': 10, 'degree': 4, 'kernel': 'poly'}\n",
      "Best accuracy: 0.805231686229772\n",
      "Test accuracy: 0.8063236047107015\n"
     ]
    }
   ],
   "source": [
    "from sklearn.model_selection import GridSearchCV\n",
    "from sklearn.svm import SVC\n",
    "from sklearn.metrics import accuracy_score\n",
    "\n",
    "# define SVM model\n",
    "svm = SVC()\n",
    "\n",
    "# define parameter grid for grid search\n",
    "param_grid = {'C': [0.1, 1, 10], 'kernel': ['linear', 'poly', 'rbf'], 'degree': [2, 3, 4]}\n",
    "\n",
    "# define cross-validation object\n",
    "cv = 5  # number of folds\n",
    "scoring = 'accuracy'  # evaluation metric for model selection\n",
    "grid_search = GridSearchCV(svm, param_grid, cv=cv, scoring=scoring)\n",
    "\n",
    "# fit grid search to training data\n",
    "grid_search.fit(X_train, y_train)\n",
    "\n",
    "# get best model and its accuracy on test data\n",
    "best_model = grid_search.best_estimator_\n",
    "y_pred = best_model.predict(X_test)\n",
    "accuracy = accuracy_score(y_test, y_pred)\n",
    "\n",
    "# print results\n",
    "print('Best parameters:', grid_search.best_params_)\n",
    "print('Best accuracy:', grid_search.best_score_)\n",
    "print('Test accuracy:', accuracy)\n"
   ]
  },
  {
   "cell_type": "code",
   "execution_count": 40,
   "id": "ce43b06e",
   "metadata": {},
   "outputs": [
    {
     "data": {
      "text/plain": [
       "0.8063236047107015"
      ]
     },
     "execution_count": 40,
     "metadata": {},
     "output_type": "execute_result"
    }
   ],
   "source": [
    "y_pred = best_model.predict(X_test)\n",
    "accuracy = accuracy_score(y_test, y_pred)\n",
    "accuracy"
   ]
  },
  {
   "cell_type": "code",
   "execution_count": 55,
   "id": "79b71b95",
   "metadata": {},
   "outputs": [
    {
     "name": "stdout",
     "output_type": "stream",
     "text": [
      "Model saved in run bdc6301151494706947f8eee90ed1b30\n"
     ]
    }
   ],
   "source": [
    "# Start an MLflow experiment\n",
    "C = 10\n",
    "degree = 4\n",
    "kernel = 'poly'\n",
    "\n",
    "with mlflow.start_run():\n",
    "    \n",
    "     # Start MLflow experiment\n",
    "    mlflow.set_experiment(\"svm_experiment\")\n",
    "\n",
    "    # Log the hyperparameters\n",
    "    mlflow.log_param(\"C\", C)\n",
    "    mlflow.log_param(\"degree\", degree)\n",
    "    mlflow.log_param(\"kernel\",kernel)\n",
    "\n",
    "    # Train the model\n",
    "    svm = best_model\n",
    "    \n",
    "\n",
    "    # Predict the test set\n",
    "    y_pred = svm.predict(X_test)\n",
    "\n",
    "    \n",
    "\n",
    "    # Calculate evaluation metrics\n",
    "    accuracy = accuracy_score(y_test, y_pred)\n",
    "    precision = precision_score(y_test, y_pred, average='micro')\n",
    "    recall = recall_score(y_test, y_pred, average='micro')\n",
    "    f1 = f1_score(y_test, y_pred, average='micro')\n",
    "\n",
    "    # Log hyperparameters and evaluation metrics to MLflow\n",
    "    mlflow.log_param(\"message\", \"After SMOTENC\")\n",
    "    mlflow.log_param(\"C\", C)\n",
    "    mlflow.log_param(\"degree\", degree)\n",
    "    mlflow.log_param(\"kernel\", kernel)\n",
    "    \n",
    "    mlflow.log_metric(\"accuracy\", accuracy)\n",
    "    mlflow.log_metric(\"precision\", precision)\n",
    "    mlflow.log_metric(\"recall\", recall)\n",
    "    mlflow.log_metric(\"f1\", f1)\n",
    "\n",
    "    \n",
    "\n",
    "    # Log the model\n",
    "    mlflow.sklearn.log_model(svm, \"svm_model\")\n",
    "    print(\"Model saved in run %s\" % mlflow.active_run().info.run_uuid)\n",
    "    # End the MLflow experiment\n",
    "    mlflow.end_run()\n",
    "\n"
   ]
  },
  {
   "cell_type": "code",
   "execution_count": 56,
   "id": "bf4e56b1",
   "metadata": {},
   "outputs": [
    {
     "name": "stdout",
     "output_type": "stream",
     "text": [
      "              precision    recall  f1-score   support\n",
      "\n",
      "           0       0.65      0.65      0.65      2604\n",
      "           1       0.54      0.59      0.56      2604\n",
      "           2       0.68      0.63      0.66      2604\n",
      "\n",
      "    accuracy                           0.62      7812\n",
      "   macro avg       0.63      0.62      0.62      7812\n",
      "weighted avg       0.63      0.62      0.62      7812\n",
      "\n"
     ]
    }
   ],
   "source": [
    "classif_re = classification_report(y_test,y_pred)\n",
    "print(classif_re)\n"
   ]
  },
  {
   "cell_type": "code",
   "execution_count": 46,
   "id": "b9653f99",
   "metadata": {},
   "outputs": [
    {
     "data": {
      "text/plain": [
       "array([[2438,  138,   28],\n",
       "       [ 195, 1963,  446],\n",
       "       [ 155,  551, 1898]])"
      ]
     },
     "execution_count": 46,
     "metadata": {},
     "output_type": "execute_result"
    }
   ],
   "source": [
    "conf_matrix = confusion_matrix(y_test, y_pred)\n",
    "conf_matrix"
   ]
  },
  {
   "cell_type": "code",
   "execution_count": 45,
   "id": "a937a6fb",
   "metadata": {},
   "outputs": [
    {
     "data": {
      "image/png": "[encoded data removed]",
      "text/plain": [
       "<Figure size 500x400 with 2 Axes>"
      ]
     },
     "metadata": {},
     "output_type": "display_data"
    }
   ],
   "source": [
    "#Plotting the confusion matrix\n",
    "import matplotlib.pyplot as plt\n",
    "import seaborn as sns\n",
    "\n",
    "conf_matrix = confusion_matrix(y_test, y_pred)\n",
    "\n",
    "\n",
    "# Creating a dataframe for a array-formatted Confusion matrix,so it will be easy for plotting.\n",
    "cm_df = pd.DataFrame(conf_matrix,\n",
    "                     index = ['Fatal','Serious','Slight'], \n",
    "                     columns = ['Fatal','Serious','Slight'])\n",
    "\n",
    "\n",
    "\n",
    "plt.figure(figsize=(5,4))\n",
    "sns.heatmap(cm_df, annot=True,fmt='g')\n",
    "plt.title('Confusion Matrix')\n",
    "plt.ylabel('Actal Values')\n",
    "plt.xlabel('Predicted Values')\n",
    "plt.title(\"Support Vector Machines\")\n",
    "plt.show()"
   ]
  },
  {
   "cell_type": "code",
   "execution_count": 49,
   "id": "1db24d61",
   "metadata": {},
   "outputs": [
    {
     "name": "stderr",
     "output_type": "stream",
     "text": [
      "/home/rajkumar/anaconda3/envs/pyenv/lib/python3.10/site-packages/sklearn/linear_model/_sag.py:350: ConvergenceWarning: The max_iter was reached which means the coef_ did not converge\n",
      "  warnings.warn(\n",
      "/home/rajkumar/anaconda3/envs/pyenv/lib/python3.10/site-packages/sklearn/linear_model/_sag.py:350: ConvergenceWarning: The max_iter was reached which means the coef_ did not converge\n",
      "  warnings.warn(\n",
      "/home/rajkumar/anaconda3/envs/pyenv/lib/python3.10/site-packages/sklearn/linear_model/_sag.py:350: ConvergenceWarning: The max_iter was reached which means the coef_ did not converge\n",
      "  warnings.warn(\n",
      "/home/rajkumar/anaconda3/envs/pyenv/lib/python3.10/site-packages/sklearn/linear_model/_sag.py:350: ConvergenceWarning: The max_iter was reached which means the coef_ did not converge\n",
      "  warnings.warn(\n",
      "/home/rajkumar/anaconda3/envs/pyenv/lib/python3.10/site-packages/sklearn/linear_model/_sag.py:350: ConvergenceWarning: The max_iter was reached which means the coef_ did not converge\n",
      "  warnings.warn(\n",
      "/home/rajkumar/anaconda3/envs/pyenv/lib/python3.10/site-packages/sklearn/linear_model/_sag.py:350: ConvergenceWarning: The max_iter was reached which means the coef_ did not converge\n",
      "  warnings.warn(\n",
      "/home/rajkumar/anaconda3/envs/pyenv/lib/python3.10/site-packages/sklearn/linear_model/_sag.py:350: ConvergenceWarning: The max_iter was reached which means the coef_ did not converge\n",
      "  warnings.warn(\n",
      "/home/rajkumar/anaconda3/envs/pyenv/lib/python3.10/site-packages/sklearn/linear_model/_sag.py:350: ConvergenceWarning: The max_iter was reached which means the coef_ did not converge\n",
      "  warnings.warn(\n",
      "/home/rajkumar/anaconda3/envs/pyenv/lib/python3.10/site-packages/sklearn/linear_model/_sag.py:350: ConvergenceWarning: The max_iter was reached which means the coef_ did not converge\n",
      "  warnings.warn(\n",
      "/home/rajkumar/anaconda3/envs/pyenv/lib/python3.10/site-packages/sklearn/linear_model/_sag.py:350: ConvergenceWarning: The max_iter was reached which means the coef_ did not converge\n",
      "  warnings.warn(\n",
      "/home/rajkumar/anaconda3/envs/pyenv/lib/python3.10/site-packages/sklearn/linear_model/_sag.py:350: ConvergenceWarning: The max_iter was reached which means the coef_ did not converge\n",
      "  warnings.warn(\n",
      "/home/rajkumar/anaconda3/envs/pyenv/lib/python3.10/site-packages/sklearn/linear_model/_sag.py:350: ConvergenceWarning: The max_iter was reached which means the coef_ did not converge\n",
      "  warnings.warn(\n",
      "/home/rajkumar/anaconda3/envs/pyenv/lib/python3.10/site-packages/sklearn/linear_model/_sag.py:350: ConvergenceWarning: The max_iter was reached which means the coef_ did not converge\n",
      "  warnings.warn(\n",
      "/home/rajkumar/anaconda3/envs/pyenv/lib/python3.10/site-packages/sklearn/linear_model/_sag.py:350: ConvergenceWarning: The max_iter was reached which means the coef_ did not converge\n",
      "  warnings.warn(\n",
      "/home/rajkumar/anaconda3/envs/pyenv/lib/python3.10/site-packages/sklearn/linear_model/_sag.py:350: ConvergenceWarning: The max_iter was reached which means the coef_ did not converge\n",
      "  warnings.warn(\n",
      "/home/rajkumar/anaconda3/envs/pyenv/lib/python3.10/site-packages/sklearn/linear_model/_sag.py:350: ConvergenceWarning: The max_iter was reached which means the coef_ did not converge\n",
      "  warnings.warn(\n",
      "/home/rajkumar/anaconda3/envs/pyenv/lib/python3.10/site-packages/sklearn/linear_model/_sag.py:350: ConvergenceWarning: The max_iter was reached which means the coef_ did not converge\n",
      "  warnings.warn(\n",
      "/home/rajkumar/anaconda3/envs/pyenv/lib/python3.10/site-packages/sklearn/linear_model/_sag.py:350: ConvergenceWarning: The max_iter was reached which means the coef_ did not converge\n",
      "  warnings.warn(\n",
      "/home/rajkumar/anaconda3/envs/pyenv/lib/python3.10/site-packages/sklearn/linear_model/_sag.py:350: ConvergenceWarning: The max_iter was reached which means the coef_ did not converge\n",
      "  warnings.warn(\n",
      "/home/rajkumar/anaconda3/envs/pyenv/lib/python3.10/site-packages/sklearn/linear_model/_sag.py:350: ConvergenceWarning: The max_iter was reached which means the coef_ did not converge\n",
      "  warnings.warn(\n",
      "/home/rajkumar/anaconda3/envs/pyenv/lib/python3.10/site-packages/sklearn/svm/_base.py:1244: ConvergenceWarning: Liblinear failed to converge, increase the number of iterations.\n",
      "  warnings.warn(\n",
      "/home/rajkumar/anaconda3/envs/pyenv/lib/python3.10/site-packages/sklearn/linear_model/_sag.py:350: ConvergenceWarning: The max_iter was reached which means the coef_ did not converge\n",
      "  warnings.warn(\n",
      "/home/rajkumar/anaconda3/envs/pyenv/lib/python3.10/site-packages/sklearn/linear_model/_sag.py:350: ConvergenceWarning: The max_iter was reached which means the coef_ did not converge\n",
      "  warnings.warn(\n",
      "/home/rajkumar/anaconda3/envs/pyenv/lib/python3.10/site-packages/sklearn/linear_model/_sag.py:350: ConvergenceWarning: The max_iter was reached which means the coef_ did not converge\n",
      "  warnings.warn(\n",
      "/home/rajkumar/anaconda3/envs/pyenv/lib/python3.10/site-packages/sklearn/linear_model/_sag.py:350: ConvergenceWarning: The max_iter was reached which means the coef_ did not converge\n",
      "  warnings.warn(\n",
      "/home/rajkumar/anaconda3/envs/pyenv/lib/python3.10/site-packages/sklearn/linear_model/_sag.py:350: ConvergenceWarning: The max_iter was reached which means the coef_ did not converge\n",
      "  warnings.warn(\n",
      "/home/rajkumar/anaconda3/envs/pyenv/lib/python3.10/site-packages/sklearn/linear_model/_sag.py:350: ConvergenceWarning: The max_iter was reached which means the coef_ did not converge\n",
      "  warnings.warn(\n",
      "/home/rajkumar/anaconda3/envs/pyenv/lib/python3.10/site-packages/sklearn/linear_model/_sag.py:350: ConvergenceWarning: The max_iter was reached which means the coef_ did not converge\n",
      "  warnings.warn(\n",
      "/home/rajkumar/anaconda3/envs/pyenv/lib/python3.10/site-packages/sklearn/linear_model/_sag.py:350: ConvergenceWarning: The max_iter was reached which means the coef_ did not converge\n",
      "  warnings.warn(\n",
      "/home/rajkumar/anaconda3/envs/pyenv/lib/python3.10/site-packages/sklearn/linear_model/_sag.py:350: ConvergenceWarning: The max_iter was reached which means the coef_ did not converge\n",
      "  warnings.warn(\n",
      "/home/rajkumar/anaconda3/envs/pyenv/lib/python3.10/site-packages/sklearn/linear_model/_sag.py:350: ConvergenceWarning: The max_iter was reached which means the coef_ did not converge\n",
      "  warnings.warn(\n"
     ]
    },
    {
     "name": "stdout",
     "output_type": "stream",
     "text": [
      "Best parameters: {'C': 1, 'penalty': 'l1', 'solver': 'liblinear'}\n",
      "Best accuracy: 0.6315022590886007\n",
      "Test accuracy: 0.6223758320532514\n"
     ]
    }
   ],
   "source": [
    "from sklearn.linear_model import LogisticRegression\n",
    "from sklearn.model_selection import GridSearchCV\n",
    "from sklearn.metrics import accuracy_score\n",
    "\n",
    "# Define the logistic regression model\n",
    "logistic = LogisticRegression()\n",
    "\n",
    "# Define the hyperparameters to search\n",
    "hyperparameters = {'C': [0.1, 1, 10], 'penalty': ['l1', 'l2'], 'solver': ['liblinear', 'saga']}\n",
    "\n",
    "# Perform GridSearchCV to find the best hyperparameters\n",
    "grid_search = GridSearchCV(logistic, hyperparameters, cv=5)\n",
    "grid_search.fit(X_train, y_train)\n",
    "\n",
    "# get best model and its accuracy on test data\n",
    "best_model = grid_search.best_estimator_\n",
    "y_pred = best_model.predict(X_test)\n",
    "accuracy = accuracy_score(y_test, y_pred)\n",
    "\n",
    "# print results\n",
    "print('Best parameters:', grid_search.best_params_)\n",
    "print('Best accuracy:', grid_search.best_score_)\n",
    "print('Test accuracy:', accuracy)\n"
   ]
  },
  {
   "cell_type": "code",
   "execution_count": 48,
   "id": "f7c6ad9c",
   "metadata": {},
   "outputs": [
    {
     "name": "stderr",
     "output_type": "stream",
     "text": [
      "/home/rajkumar/anaconda3/envs/pyenv/lib/python3.10/site-packages/sklearn/linear_model/_sag.py:350: ConvergenceWarning: The max_iter was reached which means the coef_ did not converge\n",
      "  warnings.warn(\n",
      "/home/rajkumar/anaconda3/envs/pyenv/lib/python3.10/site-packages/sklearn/linear_model/_sag.py:350: ConvergenceWarning: The max_iter was reached which means the coef_ did not converge\n",
      "  warnings.warn(\n",
      "/home/rajkumar/anaconda3/envs/pyenv/lib/python3.10/site-packages/sklearn/linear_model/_sag.py:350: ConvergenceWarning: The max_iter was reached which means the coef_ did not converge\n",
      "  warnings.warn(\n",
      "/home/rajkumar/anaconda3/envs/pyenv/lib/python3.10/site-packages/sklearn/linear_model/_sag.py:350: ConvergenceWarning: The max_iter was reached which means the coef_ did not converge\n",
      "  warnings.warn(\n",
      "/home/rajkumar/anaconda3/envs/pyenv/lib/python3.10/site-packages/sklearn/linear_model/_sag.py:350: ConvergenceWarning: The max_iter was reached which means the coef_ did not converge\n",
      "  warnings.warn(\n",
      "/home/rajkumar/anaconda3/envs/pyenv/lib/python3.10/site-packages/sklearn/linear_model/_sag.py:350: ConvergenceWarning: The max_iter was reached which means the coef_ did not converge\n",
      "  warnings.warn(\n",
      "/home/rajkumar/anaconda3/envs/pyenv/lib/python3.10/site-packages/sklearn/linear_model/_sag.py:350: ConvergenceWarning: The max_iter was reached which means the coef_ did not converge\n",
      "  warnings.warn(\n",
      "/home/rajkumar/anaconda3/envs/pyenv/lib/python3.10/site-packages/sklearn/linear_model/_sag.py:350: ConvergenceWarning: The max_iter was reached which means the coef_ did not converge\n",
      "  warnings.warn(\n",
      "/home/rajkumar/anaconda3/envs/pyenv/lib/python3.10/site-packages/sklearn/linear_model/_sag.py:350: ConvergenceWarning: The max_iter was reached which means the coef_ did not converge\n",
      "  warnings.warn(\n",
      "/home/rajkumar/anaconda3/envs/pyenv/lib/python3.10/site-packages/sklearn/linear_model/_sag.py:350: ConvergenceWarning: The max_iter was reached which means the coef_ did not converge\n",
      "  warnings.warn(\n",
      "/home/rajkumar/anaconda3/envs/pyenv/lib/python3.10/site-packages/sklearn/linear_model/_sag.py:350: ConvergenceWarning: The max_iter was reached which means the coef_ did not converge\n",
      "  warnings.warn(\n",
      "/home/rajkumar/anaconda3/envs/pyenv/lib/python3.10/site-packages/sklearn/linear_model/_sag.py:350: ConvergenceWarning: The max_iter was reached which means the coef_ did not converge\n",
      "  warnings.warn(\n",
      "/home/rajkumar/anaconda3/envs/pyenv/lib/python3.10/site-packages/sklearn/linear_model/_sag.py:350: ConvergenceWarning: The max_iter was reached which means the coef_ did not converge\n",
      "  warnings.warn(\n",
      "/home/rajkumar/anaconda3/envs/pyenv/lib/python3.10/site-packages/sklearn/linear_model/_sag.py:350: ConvergenceWarning: The max_iter was reached which means the coef_ did not converge\n",
      "  warnings.warn(\n",
      "/home/rajkumar/anaconda3/envs/pyenv/lib/python3.10/site-packages/sklearn/linear_model/_sag.py:350: ConvergenceWarning: The max_iter was reached which means the coef_ did not converge\n",
      "  warnings.warn(\n",
      "/home/rajkumar/anaconda3/envs/pyenv/lib/python3.10/site-packages/sklearn/linear_model/_sag.py:350: ConvergenceWarning: The max_iter was reached which means the coef_ did not converge\n",
      "  warnings.warn(\n",
      "/home/rajkumar/anaconda3/envs/pyenv/lib/python3.10/site-packages/sklearn/linear_model/_sag.py:350: ConvergenceWarning: The max_iter was reached which means the coef_ did not converge\n",
      "  warnings.warn(\n",
      "/home/rajkumar/anaconda3/envs/pyenv/lib/python3.10/site-packages/sklearn/linear_model/_sag.py:350: ConvergenceWarning: The max_iter was reached which means the coef_ did not converge\n",
      "  warnings.warn(\n",
      "/home/rajkumar/anaconda3/envs/pyenv/lib/python3.10/site-packages/sklearn/linear_model/_sag.py:350: ConvergenceWarning: The max_iter was reached which means the coef_ did not converge\n",
      "  warnings.warn(\n",
      "/home/rajkumar/anaconda3/envs/pyenv/lib/python3.10/site-packages/sklearn/linear_model/_sag.py:350: ConvergenceWarning: The max_iter was reached which means the coef_ did not converge\n",
      "  warnings.warn(\n",
      "/home/rajkumar/anaconda3/envs/pyenv/lib/python3.10/site-packages/sklearn/linear_model/_sag.py:350: ConvergenceWarning: The max_iter was reached which means the coef_ did not converge\n",
      "  warnings.warn(\n",
      "/home/rajkumar/anaconda3/envs/pyenv/lib/python3.10/site-packages/sklearn/linear_model/_sag.py:350: ConvergenceWarning: The max_iter was reached which means the coef_ did not converge\n",
      "  warnings.warn(\n",
      "/home/rajkumar/anaconda3/envs/pyenv/lib/python3.10/site-packages/sklearn/linear_model/_sag.py:350: ConvergenceWarning: The max_iter was reached which means the coef_ did not converge\n",
      "  warnings.warn(\n",
      "/home/rajkumar/anaconda3/envs/pyenv/lib/python3.10/site-packages/sklearn/linear_model/_sag.py:350: ConvergenceWarning: The max_iter was reached which means the coef_ did not converge\n",
      "  warnings.warn(\n",
      "/home/rajkumar/anaconda3/envs/pyenv/lib/python3.10/site-packages/sklearn/linear_model/_sag.py:350: ConvergenceWarning: The max_iter was reached which means the coef_ did not converge\n",
      "  warnings.warn(\n",
      "/home/rajkumar/anaconda3/envs/pyenv/lib/python3.10/site-packages/sklearn/linear_model/_sag.py:350: ConvergenceWarning: The max_iter was reached which means the coef_ did not converge\n",
      "  warnings.warn(\n",
      "/home/rajkumar/anaconda3/envs/pyenv/lib/python3.10/site-packages/sklearn/linear_model/_sag.py:350: ConvergenceWarning: The max_iter was reached which means the coef_ did not converge\n",
      "  warnings.warn(\n",
      "/home/rajkumar/anaconda3/envs/pyenv/lib/python3.10/site-packages/sklearn/linear_model/_sag.py:350: ConvergenceWarning: The max_iter was reached which means the coef_ did not converge\n",
      "  warnings.warn(\n",
      "/home/rajkumar/anaconda3/envs/pyenv/lib/python3.10/site-packages/sklearn/linear_model/_sag.py:350: ConvergenceWarning: The max_iter was reached which means the coef_ did not converge\n",
      "  warnings.warn(\n",
      "/home/rajkumar/anaconda3/envs/pyenv/lib/python3.10/site-packages/sklearn/linear_model/_sag.py:350: ConvergenceWarning: The max_iter was reached which means the coef_ did not converge\n",
      "  warnings.warn(\n"
     ]
    },
    {
     "name": "stdout",
     "output_type": "stream",
     "text": [
      "Best parameters: {'C': 10, 'degree': 4, 'kernel': 'poly'}\n",
      "Best accuracy: 0.805231686229772\n",
      "Test accuracy: 0.8063236047107015\n"
     ]
    }
   ],
   "source": [
    "from sklearn.linear_model import LogisticRegression\n",
    "from sklearn.model_selection import GridSearchCV\n",
    "\n",
    "\n",
    "\n",
    "# Define the logistic regression model\n",
    "logistic = LogisticRegression()\n",
    "\n",
    "# Define the hyperparameters to search\n",
    "hyperparameters = {'C': [0.1, 1, 10], 'penalty': ['l1', 'l2'], 'solver': ['liblinear', 'saga']}\n",
    "\n",
    "# Perform GridSearchCV to find the best hyperparameters\n",
    "gridsearch = GridSearchCV(logistic, hyperparameters, cv=5)\n",
    "gridsearch.fit(X_train, y_train)\n",
    "\n",
    "\n",
    "# get best model and its accuracy on test data\n",
    "best_model = grid_search.best_estimator_\n",
    "y_pred = best_model.predict(X_test)\n",
    "accuracy = accuracy_score(y_test, y_pred)\n",
    "\n",
    "# print results\n",
    "print('Best parameters:', grid_search.best_params_)\n",
    "print('Best accuracy:', grid_search.best_score_)\n",
    "print('Test accuracy:', accuracy)\n"
   ]
  },
  {
   "cell_type": "code",
   "execution_count": 61,
   "id": "d60fe811",
   "metadata": {},
   "outputs": [
    {
     "name": "stdout",
     "output_type": "stream",
     "text": [
      "Accuracy: 0.7991551459293394\n"
     ]
    }
   ],
   "source": [
    "from sklearn.ensemble import GradientBoostingClassifier\n",
    "from sklearn.metrics import accuracy_score\n",
    "from sklearn.model_selection import train_test_split\n",
    "\n",
    "\n",
    "# Initialize the Gradient Boosting Classifier\n",
    "gb = GradientBoostingClassifier()\n",
    "\n",
    "# Set hyperparameters for the Gradient Boosting Classifier\n",
    "params = {'n_estimators': 300,\n",
    "          'max_depth': 7,\n",
    "          'learning_rate': 0.1,\n",
    "          'subsample': 0.8}\n",
    "\n",
    "# Fit the Gradient Boosting Classifier with the training data\n",
    "gb.fit(X_train, y_train)\n",
    "\n",
    "# Predict on the testing set\n",
    "y_pred = gb.predict(X_test)\n",
    "\n",
    "# Calculate accuracy score\n",
    "accuracy = accuracy_score(y_test, y_pred)\n",
    "\n",
    "# Print the accuracy score\n",
    "print('Accuracy:', accuracy)\n"
   ]
  },
  {
   "cell_type": "code",
   "execution_count": 62,
   "id": "dfae81e4",
   "metadata": {},
   "outputs": [
    {
     "name": "stdout",
     "output_type": "stream",
     "text": [
      "Best Hyperparameters: {'learning_rate': 0.07335297107608947, 'max_depth': 7, 'min_samples_split': 10, 'n_estimators': 300, 'subsample': 0.8}\n",
      "Accuracy: 0.9145650545305569\n"
     ]
    }
   ],
   "source": [
    "from sklearn.ensemble import GradientBoostingClassifier\n",
    "from sklearn.model_selection import RandomizedSearchCV\n",
    "from scipy.stats import uniform\n",
    "\n",
    "# Define the Gradient Boosting Classifier\n",
    "gb = GradientBoostingClassifier()\n",
    "\n",
    "# Set the hyperparameters and their possible values\n",
    "params = {\n",
    "    'n_estimators': [50, 100, 200, 300],\n",
    "    'max_depth': [3, 5, 7],\n",
    "    'learning_rate': uniform(loc=0.01, scale=0.1),\n",
    "    'subsample': [0.8, 0.9, 1.0],\n",
    "    'min_samples_split': [2, 5, 10]\n",
    "}\n",
    "\n",
    "# Define the Randomized Search Cross-Validation with 5-fold cross validation\n",
    "random_search = RandomizedSearchCV(gb, params, n_iter=50, cv=5, random_state=42, n_jobs=-1)\n",
    "\n",
    "# Fit the random search to the data\n",
    "random_search.fit(X_train, y_train)\n",
    "\n",
    "# Print the best hyperparameters and the corresponding accuracy score\n",
    "print('Best Hyperparameters:', random_search.best_params_)\n",
    "print('Accuracy:', random_search.best_score_)\n"
   ]
  },
  {
   "cell_type": "code",
   "execution_count": 29,
   "id": "bfc14b07",
   "metadata": {},
   "outputs": [],
   "source": [
    "from sklearn.ensemble import GradientBoostingClassifier\n",
    "# Define hyperparameters\n",
    " \n",
    "learning_rate = 0.07335297107608947\n",
    "max_depth = 7\n",
    "min_samples_split = 10 \n",
    "n_estimators =300, \n",
    "subsample = 0.8\n",
    "mlflow.set_experiment(\"gradient_boosting_experiment\")\n",
    "\n",
    "# Train model\n",
    "with mlflow.start_run():\n",
    "    # Create logistic regression model\n",
    "    gb = GradientBoostingClassifier(learning_rate = learning_rate,\n",
    "                                    max_depth = max_depth,\n",
    "                                    min_samples_split = min_samples_split,\n",
    "                                    n_estimators = 300,\n",
    "                                    subsample = 0.8)\n",
    "\n",
    "    # Fit model on training data\n",
    "    gb.fit(X_train, y_train)\n",
    "\n",
    "    # Make predictions on test data\n",
    "    y_pred = gb.predict(X_test)\n",
    "\n",
    "    # Calculate evaluation metrics\n",
    "    accuracy = accuracy_score(y_test, y_pred)\n",
    "    precision = precision_score(y_test, y_pred, average='micro')\n",
    "    recall = recall_score(y_test, y_pred, average='micro')\n",
    "    f1 = f1_score(y_test, y_pred, average='micro')\n",
    "\n",
    "    # Log hyperparameters and evaluation metrics to MLflow\n",
    "   \n",
    "    mlflow.log_param(\"learning_rate\" , learning_rate)\n",
    "    mlflow.log_param(\"max_depth\", max_depth)\n",
    "    mlflow.log_param(\"min_samples_split\", min_samples_split)\n",
    "    mlflow.log_param(\"n_estimators\", n_estimators)\n",
    "    mlflow.log_param('subsasmple', subsample)\n",
    "    mlflow.log_metric(\"accuracy\", accuracy)\n",
    "    mlflow.log_metric(\"precision\", precision)\n",
    "    mlflow.log_metric(\"recall\", recall)\n",
    "    mlflow.log_metric(\"f1\", f1)\n",
    "\n",
    "    # Log model to MLflow\n",
    "    mlflow.sklearn.log_model(model, \"GradientBoosting\")\n",
    "    mlflow.end_run()\n"
   ]
  },
  {
   "cell_type": "code",
   "execution_count": 30,
   "id": "905ff443",
   "metadata": {},
   "outputs": [
    {
     "name": "stdout",
     "output_type": "stream",
     "text": [
      "              precision    recall  f1-score   support\n",
      "\n",
      "           0       0.99      0.99      0.99      2604\n",
      "           1       0.89      0.86      0.88      2604\n",
      "           2       0.86      0.89      0.87      2604\n",
      "\n",
      "    accuracy                           0.91      7812\n",
      "   macro avg       0.91      0.91      0.91      7812\n",
      "weighted avg       0.91      0.91      0.91      7812\n",
      "\n"
     ]
    }
   ],
   "source": [
    "classif_re = classification_report(y_test,y_pred)\n",
    "print(classif_re)\n"
   ]
  },
  {
   "cell_type": "code",
   "execution_count": 31,
   "id": "688f25d6",
   "metadata": {},
   "outputs": [
    {
     "data": {
      "image/png": "[encoded data removed]",
      "text/plain": [
       "<Figure size 500x400 with 2 Axes>"
      ]
     },
     "metadata": {},
     "output_type": "display_data"
    }
   ],
   "source": [
    "#Plotting the confusion matrix\n",
    "import matplotlib.pyplot as plt\n",
    "import seaborn as sns\n",
    "\n",
    "conf_matrix = confusion_matrix(y_test, y_pred)\n",
    "\n",
    "\n",
    "# Creating a dataframe for a array-formatted Confusion matrix,so it will be easy for plotting.\n",
    "cm_df = pd.DataFrame(conf_matrix,\n",
    "                     index = ['Fatal','Serious','Slight'], \n",
    "                     columns = ['Fatal','Serious','Slight'])\n",
    "\n",
    "\n",
    "\n",
    "plt.figure(figsize=(5,4))\n",
    "sns.heatmap(cm_df, annot=True,fmt='g')\n",
    "plt.title('Confusion Matrix')\n",
    "plt.ylabel('Actal Values')\n",
    "plt.xlabel('Predicted Values')\n",
    "plt.title(\"Gradient Boosting\")\n",
    "plt.show()"
   ]
  },
  {
   "cell_type": "code",
   "execution_count": 32,
   "id": "3961c0eb",
   "metadata": {},
   "outputs": [
    {
     "data": {
      "text/plain": [
       "['gradientBoosting.joblib']"
      ]
     },
     "execution_count": 32,
     "metadata": {},
     "output_type": "execute_result"
    }
   ],
   "source": [
    "import joblib\n",
    "\n",
    "# Assuming your model object is named `model`\n",
    "# Save the model to a file using joblib\n",
    "joblib.dump(gb, 'gradientBoosting.joblib')\n"
   ]
  },
  {
   "cell_type": "code",
   "execution_count": 33,
   "id": "1fd41191",
   "metadata": {},
   "outputs": [
    {
     "name": "stdout",
     "output_type": "stream",
     "text": [
      "[0]\tvalidation_0-mlogloss:0.97395\n"
     ]
    },
    {
     "name": "stderr",
     "output_type": "stream",
     "text": [
      "/home/rajkumar/anaconda3/envs/pyenv/lib/python3.10/site-packages/xgboost/sklearn.py:835: UserWarning: `eval_metric` in `fit` method is deprecated for better compatibility with scikit-learn, use `eval_metric` in constructor or`set_params` instead.\n",
      "  warnings.warn(\n"
     ]
    },
    {
     "name": "stdout",
     "output_type": "stream",
     "text": [
      "[1]\tvalidation_0-mlogloss:0.88815\n",
      "[2]\tvalidation_0-mlogloss:0.83053\n",
      "[3]\tvalidation_0-mlogloss:0.77675\n",
      "[4]\tvalidation_0-mlogloss:0.73357\n",
      "[5]\tvalidation_0-mlogloss:0.70325\n",
      "[6]\tvalidation_0-mlogloss:0.66968\n",
      "[7]\tvalidation_0-mlogloss:0.64554\n",
      "[8]\tvalidation_0-mlogloss:0.62523\n",
      "[9]\tvalidation_0-mlogloss:0.60576\n",
      "[10]\tvalidation_0-mlogloss:0.59192\n",
      "[11]\tvalidation_0-mlogloss:0.57399\n",
      "[12]\tvalidation_0-mlogloss:0.55655\n",
      "[13]\tvalidation_0-mlogloss:0.54807\n",
      "[14]\tvalidation_0-mlogloss:0.53534\n",
      "[15]\tvalidation_0-mlogloss:0.52768\n",
      "[16]\tvalidation_0-mlogloss:0.51906\n",
      "[17]\tvalidation_0-mlogloss:0.51242\n",
      "[18]\tvalidation_0-mlogloss:0.49670\n",
      "[19]\tvalidation_0-mlogloss:0.48671\n",
      "[20]\tvalidation_0-mlogloss:0.47792\n",
      "[21]\tvalidation_0-mlogloss:0.47263\n",
      "[22]\tvalidation_0-mlogloss:0.46732\n",
      "[23]\tvalidation_0-mlogloss:0.46232\n",
      "[24]\tvalidation_0-mlogloss:0.45625\n",
      "[25]\tvalidation_0-mlogloss:0.44998\n",
      "[26]\tvalidation_0-mlogloss:0.44760\n",
      "[27]\tvalidation_0-mlogloss:0.44222\n",
      "[28]\tvalidation_0-mlogloss:0.43981\n",
      "[29]\tvalidation_0-mlogloss:0.43576\n",
      "[30]\tvalidation_0-mlogloss:0.43159\n",
      "[31]\tvalidation_0-mlogloss:0.42435\n",
      "[32]\tvalidation_0-mlogloss:0.42223\n",
      "[33]\tvalidation_0-mlogloss:0.42122\n",
      "[34]\tvalidation_0-mlogloss:0.41481\n",
      "[35]\tvalidation_0-mlogloss:0.40912\n",
      "[36]\tvalidation_0-mlogloss:0.40469\n",
      "[37]\tvalidation_0-mlogloss:0.39836\n",
      "[38]\tvalidation_0-mlogloss:0.39694\n",
      "[39]\tvalidation_0-mlogloss:0.39529\n",
      "[40]\tvalidation_0-mlogloss:0.39281\n",
      "[41]\tvalidation_0-mlogloss:0.39164\n",
      "[42]\tvalidation_0-mlogloss:0.38696\n",
      "[43]\tvalidation_0-mlogloss:0.38516\n",
      "[44]\tvalidation_0-mlogloss:0.38387\n",
      "[45]\tvalidation_0-mlogloss:0.38228\n",
      "[46]\tvalidation_0-mlogloss:0.38034\n",
      "[47]\tvalidation_0-mlogloss:0.37817\n",
      "[48]\tvalidation_0-mlogloss:0.37385\n",
      "[49]\tvalidation_0-mlogloss:0.37223\n",
      "[50]\tvalidation_0-mlogloss:0.37040\n",
      "[51]\tvalidation_0-mlogloss:0.36765\n",
      "[52]\tvalidation_0-mlogloss:0.36666\n",
      "[53]\tvalidation_0-mlogloss:0.36392\n",
      "[54]\tvalidation_0-mlogloss:0.36307\n",
      "[55]\tvalidation_0-mlogloss:0.35963\n",
      "[56]\tvalidation_0-mlogloss:0.35870\n",
      "[57]\tvalidation_0-mlogloss:0.35750\n",
      "[58]\tvalidation_0-mlogloss:0.35322\n",
      "[59]\tvalidation_0-mlogloss:0.35222\n",
      "[60]\tvalidation_0-mlogloss:0.35078\n",
      "[61]\tvalidation_0-mlogloss:0.34884\n",
      "[62]\tvalidation_0-mlogloss:0.34570\n",
      "[63]\tvalidation_0-mlogloss:0.34467\n",
      "[64]\tvalidation_0-mlogloss:0.34290\n",
      "[65]\tvalidation_0-mlogloss:0.34064\n",
      "[66]\tvalidation_0-mlogloss:0.33959\n",
      "[67]\tvalidation_0-mlogloss:0.33824\n",
      "[68]\tvalidation_0-mlogloss:0.33726\n",
      "[69]\tvalidation_0-mlogloss:0.33545\n",
      "[70]\tvalidation_0-mlogloss:0.33403\n",
      "[71]\tvalidation_0-mlogloss:0.33289\n",
      "[72]\tvalidation_0-mlogloss:0.33218\n",
      "[73]\tvalidation_0-mlogloss:0.33113\n",
      "[74]\tvalidation_0-mlogloss:0.32931\n",
      "[75]\tvalidation_0-mlogloss:0.32781\n",
      "[76]\tvalidation_0-mlogloss:0.32484\n",
      "[77]\tvalidation_0-mlogloss:0.32288\n",
      "[78]\tvalidation_0-mlogloss:0.32108\n",
      "[79]\tvalidation_0-mlogloss:0.32045\n",
      "[80]\tvalidation_0-mlogloss:0.31999\n",
      "[81]\tvalidation_0-mlogloss:0.31772\n",
      "[82]\tvalidation_0-mlogloss:0.31611\n",
      "[83]\tvalidation_0-mlogloss:0.31534\n",
      "[84]\tvalidation_0-mlogloss:0.31429\n",
      "[85]\tvalidation_0-mlogloss:0.31195\n",
      "[86]\tvalidation_0-mlogloss:0.31120\n",
      "[87]\tvalidation_0-mlogloss:0.30905\n",
      "[88]\tvalidation_0-mlogloss:0.30825\n",
      "[89]\tvalidation_0-mlogloss:0.30712\n",
      "[90]\tvalidation_0-mlogloss:0.30599\n",
      "[91]\tvalidation_0-mlogloss:0.30546\n",
      "[92]\tvalidation_0-mlogloss:0.30495\n",
      "[93]\tvalidation_0-mlogloss:0.30430\n",
      "[94]\tvalidation_0-mlogloss:0.30337\n",
      "[95]\tvalidation_0-mlogloss:0.30292\n",
      "[96]\tvalidation_0-mlogloss:0.30173\n",
      "[97]\tvalidation_0-mlogloss:0.30114\n",
      "[98]\tvalidation_0-mlogloss:0.30046\n",
      "[99]\tvalidation_0-mlogloss:0.29961\n",
      "Accuracy: 0.8964413722478238\n"
     ]
    }
   ],
   "source": [
    "import xgboost as xgb\n",
    "from sklearn.metrics import accuracy_score\n",
    "\n",
    "\n",
    "\n",
    "# Initialize the XGBoost classifier\n",
    "xgb_clf = xgb.XGBClassifier()\n",
    "\n",
    "# Set hyperparameters for the XGBoost classifier\n",
    "params = {'max_depth': 3,\n",
    "          'learning_rate': 0.1,\n",
    "          'n_estimators': 100,\n",
    "          'verbosity': 0,\n",
    "          'objective': 'multi:softmax',\n",
    "          'num_class': 3}\n",
    "\n",
    "# Train the XGBoost classifier with the training data\n",
    "xgb_clf.fit(X_train, y_train, eval_metric='mlogloss', verbose=True, eval_set=[(X_test, y_test)])\n",
    "\n",
    "# Predict on the testing set\n",
    "y_pred = xgb_clf.predict(X_test)\n",
    "\n",
    "# Calculate accuracy score\n",
    "accuracy = accuracy_score(y_test, y_pred)\n",
    "\n",
    "# Print the accuracy score\n",
    "print('Accuracy:', accuracy)\n"
   ]
  },
  {
   "cell_type": "code",
   "execution_count": 70,
   "id": "0d8b09e9",
   "metadata": {},
   "outputs": [
    {
     "name": "stdout",
     "output_type": "stream",
     "text": [
      "Fitting 5 folds for each of 100 candidates, totalling 500 fits\n",
      "[CV 3/5] END colsample_bytree=0.6, gamma=0.5, learning_rate=0.01, max_depth=3, n_estimators=50, subsample=0.9;, score=0.667 total time=   3.2s\n",
      "[CV 3/5] END colsample_bytree=0.7, gamma=0.3, learning_rate=0.01, max_depth=4, n_estimators=500, subsample=0.6;, score=0.784 total time=  40.0s\n",
      "[CV 2/5] END colsample_bytree=0.9, gamma=0.1, learning_rate=0.05, max_depth=8, n_estimators=400, subsample=0.9;, score=0.905 total time= 1.2min\n",
      "[CV 5/5] END colsample_bytree=0.9, gamma=0.1, learning_rate=0.05, max_depth=8, n_estimators=400, subsample=0.9;, score=0.912 total time= 1.2min\n",
      "[CV 4/5] END colsample_bytree=0.6, gamma=0, learning_rate=0.3, max_depth=10, n_estimators=500, subsample=0.9;, score=0.918 total time= 1.3min\n",
      "[CV 4/5] END colsample_bytree=1, gamma=0.4, learning_rate=0.3, max_depth=6, n_estimators=400, subsample=0.5;, score=0.913 total time= 1.1min\n",
      "[CV 4/5] END colsample_bytree=0.6, gamma=0.3, learning_rate=0.05, max_depth=3, n_estimators=500, subsample=0.5;, score=0.825 total time=  27.0s\n",
      "[CV 3/5] END colsample_bytree=0.5, gamma=0.3, learning_rate=0.3, max_depth=9, n_estimators=100, subsample=0.5;, score=0.916 total time=  15.3s\n",
      "[CV 2/5] END colsample_bytree=0.5, gamma=0.2, learning_rate=0.1, max_depth=10, n_estimators=200, subsample=0.9;, score=0.917 total time=  32.4s\n",
      "[CV 1/5] END colsample_bytree=0.9, gamma=0.3, learning_rate=0.05, max_depth=6, n_estimators=500, subsample=0.5;, score=0.901 total time= 1.2min\n",
      "[CV 5/5] END colsample_bytree=0.9, gamma=0.3, learning_rate=0.05, max_depth=6, n_estimators=500, subsample=0.5;, score=0.900 total time= 1.2min\n",
      "[CV 4/5] END colsample_bytree=1, gamma=0.5, learning_rate=0.1, max_depth=6, n_estimators=500, subsample=0.5;, score=0.909 total time= 1.4min\n",
      "[CV 3/5] END colsample_bytree=1, gamma=0.4, learning_rate=0.2, max_depth=4, n_estimators=300, subsample=0.6;, score=0.885 total time=  31.7s\n",
      "[CV 2/5] END colsample_bytree=0.5, gamma=0, learning_rate=0.05, max_depth=5, n_estimators=200, subsample=0.5;, score=0.839 total time=  15.9s\n",
      "[CV 5/5] END colsample_bytree=0.5, gamma=0, learning_rate=0.05, max_depth=5, n_estimators=200, subsample=0.5;, score=0.847 total time=  15.8s\n",
      "[CV 4/5] END colsample_bytree=0.8, gamma=0.2, learning_rate=0.2, max_depth=3, n_estimators=400, subsample=0.9;, score=0.866 total time=  23.5s\n",
      "[CV 3/5] END colsample_bytree=1, gamma=0.4, learning_rate=0.1, max_depth=4, n_estimators=100, subsample=0.9;, score=0.821 total time=   9.5s\n",
      "[CV 1/5] END colsample_bytree=0.7, gamma=0.5, learning_rate=0.05, max_depth=8, n_estimators=500, subsample=0.6;, score=0.914 total time= 1.4min\n",
      "[CV 5/5] END colsample_bytree=0.7, gamma=0.5, learning_rate=0.05, max_depth=8, n_estimators=500, subsample=0.6;, score=0.914 total time= 1.4min\n",
      "[CV 5/5] END colsample_bytree=0.5, gamma=0, learning_rate=0.01, max_depth=8, n_estimators=200, subsample=0.9;, score=0.866 total time=  26.6s\n",
      "[CV 5/5] END colsample_bytree=0.9, gamma=0.2, learning_rate=0.05, max_depth=6, n_estimators=100, subsample=1;, score=0.831 total time=  13.1s\n",
      "[CV 4/5] END colsample_bytree=0.9, gamma=0.2, learning_rate=0.2, max_depth=9, n_estimators=300, subsample=0.5;, score=0.914 total time= 1.1min\n",
      "[CV 2/5] END colsample_bytree=0.9, gamma=0.4, learning_rate=0.05, max_depth=9, n_estimators=300, subsample=0.8;, score=0.906 total time= 1.1min\n",
      "[CV 1/5] END colsample_bytree=0.8, gamma=0.2, learning_rate=0.3, max_depth=7, n_estimators=200, subsample=0.7;, score=0.915 total time=  31.2s\n",
      "[CV 3/5] END colsample_bytree=0.8, gamma=0.2, learning_rate=0.3, max_depth=7, n_estimators=200, subsample=0.7;, score=0.916 total time=  31.1s\n",
      "[CV 5/5] END colsample_bytree=0.8, gamma=0.2, learning_rate=0.3, max_depth=7, n_estimators=200, subsample=0.7;, score=0.916 total time=  31.4s\n",
      "[CV 4/5] END colsample_bytree=0.9, gamma=0.5, learning_rate=0.01, max_depth=7, n_estimators=300, subsample=0.5;, score=0.840 total time=  53.9s\n",
      "[CV 3/5] END colsample_bytree=0.7, gamma=0.4, learning_rate=0.01, max_depth=8, n_estimators=500, subsample=0.5;, score=0.878 total time= 1.4min\n",
      "[CV 2/5] END colsample_bytree=0.8, gamma=0.5, learning_rate=0.05, max_depth=10, n_estimators=300, subsample=1;, score=0.910 total time= 1.1min\n",
      "[CV 1/5] END colsample_bytree=0.7, gamma=0.3, learning_rate=0.01, max_depth=7, n_estimators=300, subsample=0.9;, score=0.850 total time=  42.8s\n",
      "[CV 4/5] END colsample_bytree=0.7, gamma=0.3, learning_rate=0.01, max_depth=7, n_estimators=300, subsample=0.9;, score=0.844 total time=  41.9s\n",
      "[CV 5/5] END colsample_bytree=0.7, gamma=0, learning_rate=0.01, max_depth=7, n_estimators=50, subsample=1;, score=0.816 total time=   6.8s\n",
      "[CV 3/5] END colsample_bytree=0.8, gamma=0.2, learning_rate=0.1, max_depth=9, n_estimators=500, subsample=0.8;, score=0.925 total time= 1.7min\n",
      "[CV 2/5] END colsample_bytree=0.8, gamma=0.3, learning_rate=0.05, max_depth=4, n_estimators=300, subsample=0.5;, score=0.829 total time=  26.1s\n",
      "[CV 5/5] END colsample_bytree=0.8, gamma=0.3, learning_rate=0.05, max_depth=4, n_estimators=300, subsample=0.5;, score=0.838 total time=  26.1s\n",
      "[CV 3/5] END colsample_bytree=0.8, gamma=0.1, learning_rate=0.1, max_depth=2, n_estimators=300, subsample=0.9;, score=0.786 total time=  12.6s\n",
      "[CV 1/5] END colsample_bytree=0.7, gamma=0.4, learning_rate=0.01, max_depth=6, n_estimators=200, subsample=0.9;, score=0.811 total time=  23.2s\n",
      "[CV 5/5] END colsample_bytree=0.7, gamma=0.4, learning_rate=0.01, max_depth=6, n_estimators=200, subsample=0.9;, score=0.817 total time=  23.2s\n",
      "[CV 4/5] END colsample_bytree=1, gamma=0.2, learning_rate=0.2, max_depth=8, n_estimators=500, subsample=0.9;, score=0.919 total time= 1.7min\n",
      "[CV 5/5] END colsample_bytree=0.5, gamma=0.3, learning_rate=0.3, max_depth=6, n_estimators=50, subsample=0.9;, score=0.876 total time=   4.5s\n",
      "[CV 3/5] END colsample_bytree=0.9, gamma=0, learning_rate=0.2, max_depth=5, n_estimators=100, subsample=0.8;, score=0.869 total time=  11.1s\n",
      "[CV 1/5] END colsample_bytree=0.9, gamma=0.3, learning_rate=0.05, max_depth=2, n_estimators=500, subsample=0.9;, score=0.790 total time=  22.3s\n",
      "[CV 4/5] END colsample_bytree=0.9, gamma=0.3, learning_rate=0.05, max_depth=2, n_estimators=500, subsample=0.9;, score=0.779 total time=  22.2s\n",
      "[CV 2/5] END colsample_bytree=0.9, gamma=0.2, learning_rate=0.2, max_depth=7, n_estimators=100, subsample=1;, score=0.894 total time=  14.9s\n",
      "[CV 5/5] END colsample_bytree=0.9, gamma=0.2, learning_rate=0.2, max_depth=7, n_estimators=100, subsample=1;, score=0.898 total time=  15.0s\n",
      "[CV 4/5] END colsample_bytree=0.8, gamma=0, learning_rate=0.3, max_depth=7, n_estimators=100, subsample=0.7;, score=0.907 total time=  15.5s\n",
      "[CV 3/5] END colsample_bytree=1, gamma=0, learning_rate=0.05, max_depth=9, n_estimators=300, subsample=1;, score=0.913 total time= 1.1min\n",
      "[CV 2/5] END colsample_bytree=0.6, gamma=0, learning_rate=0.05, max_depth=6, n_estimators=50, subsample=0.8;, score=0.810 total time=   5.4s\n",
      "[CV 5/5] END colsample_bytree=0.6, gamma=0, learning_rate=0.05, max_depth=6, n_estimators=50, subsample=0.8;, score=0.818 total time=   5.4s\n",
      "[CV 3/5] END colsample_bytree=1, gamma=0.1, learning_rate=0.2, max_depth=10, n_estimators=300, subsample=0.5;, score=0.922 total time= 1.4min\n",
      "[CV 2/5] END colsample_bytree=0.7, gamma=0.3, learning_rate=0.3, max_depth=7, n_estimators=300, subsample=0.8;, score=0.913 total time=  41.4s\n",
      "[CV 4/5] END colsample_bytree=0.7, gamma=0.3, learning_rate=0.3, max_depth=7, n_estimators=300, subsample=0.8;, score=0.917 total time=  40.7s\n",
      "[CV 2/5] END colsample_bytree=0.8, gamma=0.2, learning_rate=0.2, max_depth=5, n_estimators=200, subsample=1;, score=0.885 total time=  18.3s\n",
      "[CV 1/5] END colsample_bytree=0.8, gamma=0.3, learning_rate=0.05, max_depth=5, n_estimators=200, subsample=1;, score=0.840 total time=  18.6s\n",
      "[CV 5/5] END colsample_bytree=0.8, gamma=0.3, learning_rate=0.05, max_depth=5, n_estimators=200, subsample=1;, score=0.842 total time=  18.6s\n",
      "[CV 4/5] END colsample_bytree=1, gamma=0.1, learning_rate=0.3, max_depth=4, n_estimators=400, subsample=0.9;, score=0.899 total time=  37.4s\n",
      "[CV 3/5] END colsample_bytree=1, gamma=0.1, learning_rate=0.1, max_depth=3, n_estimators=200, subsample=0.5;, score=0.817 total time=  15.8s\n",
      "[CV 2/5] END colsample_bytree=0.6, gamma=0.5, learning_rate=0.01, max_depth=3, n_estimators=50, subsample=0.9;, score=0.645 total time=   2.7s\n",
      "[CV 5/5] END colsample_bytree=0.6, gamma=0.5, learning_rate=0.01, max_depth=3, n_estimators=50, subsample=0.9;, score=0.643 total time=   2.9s\n",
      "[CV 4/5] END colsample_bytree=0.7, gamma=0.3, learning_rate=0.01, max_depth=4, n_estimators=500, subsample=0.6;, score=0.786 total time=  40.0s\n",
      "[CV 3/5] END colsample_bytree=0.9, gamma=0.1, learning_rate=0.05, max_depth=8, n_estimators=400, subsample=0.9;, score=0.913 total time= 1.2min\n",
      "[CV 2/5] END colsample_bytree=0.6, gamma=0, learning_rate=0.3, max_depth=10, n_estimators=500, subsample=0.9;, score=0.919 total time= 1.3min\n",
      "[CV 1/5] END colsample_bytree=1, gamma=0.4, learning_rate=0.3, max_depth=6, n_estimators=400, subsample=0.5;, score=0.909 total time= 1.1min\n",
      "[CV 3/5] END colsample_bytree=1, gamma=0.4, learning_rate=0.3, max_depth=6, n_estimators=400, subsample=0.5;, score=0.913 total time= 1.1min\n",
      "[CV 3/5] END colsample_bytree=0.6, gamma=0.3, learning_rate=0.05, max_depth=3, n_estimators=500, subsample=0.5;, score=0.821 total time=  27.6s\n",
      "[CV 2/5] END colsample_bytree=0.5, gamma=0.3, learning_rate=0.3, max_depth=9, n_estimators=100, subsample=0.5;, score=0.912 total time=  15.2s\n",
      "[CV 1/5] END colsample_bytree=0.5, gamma=0.2, learning_rate=0.1, max_depth=10, n_estimators=200, subsample=0.9;, score=0.922 total time=  32.8s\n",
      "[CV 5/5] END colsample_bytree=0.5, gamma=0.2, learning_rate=0.1, max_depth=10, n_estimators=200, subsample=0.9;, score=0.924 total time=  32.7s\n",
      "[CV 4/5] END colsample_bytree=0.9, gamma=0.3, learning_rate=0.05, max_depth=6, n_estimators=500, subsample=0.5;, score=0.897 total time= 1.2min\n",
      "[CV 3/5] END colsample_bytree=1, gamma=0.5, learning_rate=0.1, max_depth=6, n_estimators=500, subsample=0.5;, score=0.909 total time= 1.3min\n",
      "[CV 3/5] END colsample_bytree=0.6, gamma=0.2, learning_rate=0.05, max_depth=4, n_estimators=300, subsample=0.5;, score=0.838 total time=  21.1s\n",
      "[CV 5/5] END colsample_bytree=0.6, gamma=0.2, learning_rate=0.05, max_depth=4, n_estimators=300, subsample=0.5;, score=0.841 total time=  21.2s\n",
      "[CV 1/5] END colsample_bytree=1, gamma=0.4, learning_rate=0.2, max_depth=4, n_estimators=300, subsample=0.6;, score=0.892 total time=  31.6s\n",
      "[CV 5/5] END colsample_bytree=1, gamma=0.4, learning_rate=0.2, max_depth=4, n_estimators=300, subsample=0.6;, score=0.891 total time=  31.7s\n",
      "[CV 3/5] END colsample_bytree=0.8, gamma=0.2, learning_rate=0.2, max_depth=3, n_estimators=400, subsample=0.9;, score=0.869 total time=  23.3s\n",
      "[CV 1/5] END colsample_bytree=1, gamma=0.4, learning_rate=0.1, max_depth=4, n_estimators=100, subsample=0.9;, score=0.825 total time=   9.5s\n",
      "[CV 4/5] END colsample_bytree=1, gamma=0.4, learning_rate=0.1, max_depth=4, n_estimators=100, subsample=0.9;, score=0.817 total time=   9.5s\n",
      "[CV 2/5] END colsample_bytree=0.7, gamma=0.5, learning_rate=0.05, max_depth=8, n_estimators=500, subsample=0.6;, score=0.908 total time= 1.4min\n",
      "[CV 1/5] END colsample_bytree=0.7, gamma=0, learning_rate=0.3, max_depth=9, n_estimators=200, subsample=0.6;, score=0.920 total time=  38.1s\n",
      "[CV 4/5] END colsample_bytree=0.7, gamma=0, learning_rate=0.3, max_depth=9, n_estimators=200, subsample=0.6;, score=0.917 total time=  38.1s\n",
      "[CV 3/5] END colsample_bytree=0.5, gamma=0, learning_rate=0.01, max_depth=8, n_estimators=200, subsample=0.9;, score=0.867 total time=  26.9s\n",
      "[CV 2/5] END colsample_bytree=0.9, gamma=0.2, learning_rate=0.05, max_depth=6, n_estimators=100, subsample=1;, score=0.827 total time=  14.3s\n",
      "[CV 2/5] END colsample_bytree=0.9, gamma=0.2, learning_rate=0.2, max_depth=9, n_estimators=300, subsample=0.5;, score=0.916 total time= 1.1min\n",
      "[CV 1/5] END colsample_bytree=0.9, gamma=0.4, learning_rate=0.05, max_depth=9, n_estimators=300, subsample=0.8;, score=0.914 total time= 1.1min\n",
      "[CV 5/5] END colsample_bytree=0.9, gamma=0.4, learning_rate=0.05, max_depth=9, n_estimators=300, subsample=0.8;, score=0.914 total time= 1.1min\n",
      "[CV 3/5] END colsample_bytree=0.7, gamma=0.2, learning_rate=0.1, max_depth=2, n_estimators=100, subsample=0.9;, score=0.727 total time=   3.9s\n",
      "[CV 1/5] END colsample_bytree=0.9, gamma=0.5, learning_rate=0.01, max_depth=7, n_estimators=300, subsample=0.5;, score=0.840 total time=  53.8s\n",
      "[CV 5/5] END colsample_bytree=0.9, gamma=0.5, learning_rate=0.01, max_depth=7, n_estimators=300, subsample=0.5;, score=0.846 total time=  54.0s\n",
      "[CV 4/5] END colsample_bytree=0.7, gamma=0.4, learning_rate=0.01, max_depth=8, n_estimators=500, subsample=0.5;, score=0.879 total time= 1.4min\n",
      "[CV 3/5] END colsample_bytree=0.8, gamma=0.5, learning_rate=0.05, max_depth=10, n_estimators=300, subsample=1;, score=0.915 total time= 1.1min\n",
      "[CV 2/5] END colsample_bytree=0.7, gamma=0.3, learning_rate=0.01, max_depth=7, n_estimators=300, subsample=0.9;, score=0.835 total time=  42.0s\n",
      "[CV 1/5] END colsample_bytree=0.7, gamma=0, learning_rate=0.01, max_depth=7, n_estimators=50, subsample=1;, score=0.811 total time=   6.7s\n",
      "[CV 2/5] END colsample_bytree=0.7, gamma=0, learning_rate=0.01, max_depth=7, n_estimators=50, subsample=1;, score=0.799 total time=   6.7s\n",
      "[CV 3/5] END colsample_bytree=0.7, gamma=0, learning_rate=0.01, max_depth=7, n_estimators=50, subsample=1;, score=0.807 total time=   6.7s\n",
      "[CV 1/5] END colsample_bytree=0.8, gamma=0.2, learning_rate=0.1, max_depth=9, n_estimators=500, subsample=0.8;, score=0.922 total time= 1.7min\n",
      "[CV 5/5] END colsample_bytree=0.8, gamma=0.2, learning_rate=0.1, max_depth=9, n_estimators=500, subsample=0.8;, score=0.922 total time= 1.7min\n",
      "[CV 2/5] END colsample_bytree=1, gamma=0.2, learning_rate=0.2, max_depth=8, n_estimators=500, subsample=0.9;, score=0.917 total time= 1.7min\n",
      "[CV 1/5] END colsample_bytree=0.5, gamma=0.3, learning_rate=0.3, max_depth=6, n_estimators=50, subsample=0.9;, score=0.873 total time=   4.5s\n",
      "[CV 2/5] END colsample_bytree=0.5, gamma=0.3, learning_rate=0.3, max_depth=6, n_estimators=50, subsample=0.9;, score=0.873 total time=   4.5s\n",
      "[CV 3/5] END colsample_bytree=0.5, gamma=0.3, learning_rate=0.3, max_depth=6, n_estimators=50, subsample=0.9;, score=0.880 total time=   4.5s\n",
      "[CV 1/5] END colsample_bytree=0.9, gamma=0, learning_rate=0.2, max_depth=5, n_estimators=100, subsample=0.8;, score=0.875 total time=  11.2s\n",
      "[CV 4/5] END colsample_bytree=0.9, gamma=0, learning_rate=0.2, max_depth=5, n_estimators=100, subsample=0.8;, score=0.867 total time=  11.2s\n",
      "[CV 2/5] END colsample_bytree=0.9, gamma=0.3, learning_rate=0.05, max_depth=2, n_estimators=500, subsample=0.9;, score=0.773 total time=  22.2s\n",
      "[CV 5/5] END colsample_bytree=0.9, gamma=0.3, learning_rate=0.05, max_depth=2, n_estimators=500, subsample=0.9;, score=0.777 total time=  22.4s\n",
      "[CV 4/5] END colsample_bytree=0.9, gamma=0.2, learning_rate=0.2, max_depth=7, n_estimators=100, subsample=1;, score=0.897 total time=  15.0s\n",
      "[CV 2/5] END colsample_bytree=0.8, gamma=0, learning_rate=0.3, max_depth=7, n_estimators=100, subsample=0.7;, score=0.899 total time=  15.7s\n",
      "[CV 1/5] END colsample_bytree=1, gamma=0, learning_rate=0.05, max_depth=9, n_estimators=300, subsample=1;, score=0.913 total time= 1.2min\n",
      "[CV 5/5] END colsample_bytree=1, gamma=0, learning_rate=0.05, max_depth=9, n_estimators=300, subsample=1;, score=0.908 total time= 1.1min\n",
      "[CV 4/5] END colsample_bytree=1, gamma=0.1, learning_rate=0.2, max_depth=10, n_estimators=300, subsample=0.5;, score=0.919 total time= 1.4min\n",
      "[CV 5/5] END colsample_bytree=0.7, gamma=0.3, learning_rate=0.3, max_depth=7, n_estimators=300, subsample=0.8;, score=0.917 total time=  41.0s\n",
      "[CV 4/5] END colsample_bytree=0.8, gamma=0.2, learning_rate=0.2, max_depth=5, n_estimators=200, subsample=1;, score=0.885 total time=  18.5s\n",
      "[CV 3/5] END colsample_bytree=0.8, gamma=0.3, learning_rate=0.05, max_depth=5, n_estimators=200, subsample=1;, score=0.838 total time=  18.8s\n",
      "[CV 2/5] END colsample_bytree=1, gamma=0.1, learning_rate=0.3, max_depth=4, n_estimators=400, subsample=0.9;, score=0.897 total time=  37.9s\n",
      "[CV 1/5] END colsample_bytree=1, gamma=0.1, learning_rate=0.1, max_depth=3, n_estimators=200, subsample=0.5;, score=0.824 total time=  16.0s\n"
     ]
    },
    {
     "name": "stdout",
     "output_type": "stream",
     "text": [
      "[CV 4/5] END colsample_bytree=0.6, gamma=0.5, learning_rate=0.01, max_depth=3, n_estimators=50, subsample=0.9;, score=0.661 total time=   3.2s\n",
      "[CV 2/5] END colsample_bytree=0.7, gamma=0.3, learning_rate=0.01, max_depth=4, n_estimators=500, subsample=0.6;, score=0.775 total time=  39.8s\n",
      "[CV 5/5] END colsample_bytree=0.7, gamma=0.3, learning_rate=0.01, max_depth=4, n_estimators=500, subsample=0.6;, score=0.780 total time=  39.4s\n",
      "[CV 4/5] END colsample_bytree=0.9, gamma=0.1, learning_rate=0.05, max_depth=8, n_estimators=400, subsample=0.9;, score=0.909 total time= 1.2min\n",
      "[CV 3/5] END colsample_bytree=0.6, gamma=0, learning_rate=0.3, max_depth=10, n_estimators=500, subsample=0.9;, score=0.928 total time= 1.3min\n",
      "[CV 2/5] END colsample_bytree=1, gamma=0.4, learning_rate=0.3, max_depth=6, n_estimators=400, subsample=0.5;, score=0.904 total time= 1.1min\n",
      "[CV 1/5] END colsample_bytree=0.6, gamma=0.3, learning_rate=0.05, max_depth=3, n_estimators=500, subsample=0.5;, score=0.824 total time=  26.8s\n",
      "[CV 2/5] END colsample_bytree=0.6, gamma=0.3, learning_rate=0.05, max_depth=3, n_estimators=500, subsample=0.5;, score=0.815 total time=  27.1s\n",
      "[CV 1/5] END colsample_bytree=0.5, gamma=0.3, learning_rate=0.3, max_depth=9, n_estimators=100, subsample=0.5;, score=0.908 total time=  15.1s\n",
      "[CV 5/5] END colsample_bytree=0.5, gamma=0.3, learning_rate=0.3, max_depth=9, n_estimators=100, subsample=0.5;, score=0.910 total time=  15.1s\n",
      "[CV 4/5] END colsample_bytree=0.5, gamma=0.2, learning_rate=0.1, max_depth=10, n_estimators=200, subsample=0.9;, score=0.920 total time=  31.9s\n",
      "[CV 3/5] END colsample_bytree=0.9, gamma=0.3, learning_rate=0.05, max_depth=6, n_estimators=500, subsample=0.5;, score=0.898 total time= 1.2min\n",
      "[CV 2/5] END colsample_bytree=1, gamma=0.5, learning_rate=0.1, max_depth=6, n_estimators=500, subsample=0.5;, score=0.904 total time= 1.3min\n",
      "[CV 1/5] END colsample_bytree=0.6, gamma=0.2, learning_rate=0.05, max_depth=4, n_estimators=300, subsample=0.5;, score=0.837 total time=  21.2s\n",
      "[CV 2/5] END colsample_bytree=0.6, gamma=0.2, learning_rate=0.05, max_depth=4, n_estimators=300, subsample=0.5;, score=0.828 total time=  21.2s\n",
      "[CV 4/5] END colsample_bytree=0.6, gamma=0.2, learning_rate=0.05, max_depth=4, n_estimators=300, subsample=0.5;, score=0.833 total time=  21.5s\n",
      "[CV 2/5] END colsample_bytree=1, gamma=0.4, learning_rate=0.2, max_depth=4, n_estimators=300, subsample=0.6;, score=0.883 total time=  31.6s\n",
      "[CV 1/5] END colsample_bytree=0.5, gamma=0, learning_rate=0.05, max_depth=5, n_estimators=200, subsample=0.5;, score=0.848 total time=  15.7s\n",
      "[CV 4/5] END colsample_bytree=0.5, gamma=0, learning_rate=0.05, max_depth=5, n_estimators=200, subsample=0.5;, score=0.844 total time=  15.8s\n",
      "[CV 2/5] END colsample_bytree=0.8, gamma=0.2, learning_rate=0.2, max_depth=3, n_estimators=400, subsample=0.9;, score=0.868 total time=  23.4s\n",
      "[CV 2/5] END colsample_bytree=1, gamma=0.4, learning_rate=0.1, max_depth=4, n_estimators=100, subsample=0.9;, score=0.808 total time=   9.5s\n",
      "[CV 5/5] END colsample_bytree=1, gamma=0.4, learning_rate=0.1, max_depth=4, n_estimators=100, subsample=0.9;, score=0.818 total time=   9.6s\n",
      "[CV 3/5] END colsample_bytree=0.7, gamma=0.5, learning_rate=0.05, max_depth=8, n_estimators=500, subsample=0.6;, score=0.915 total time= 1.4min\n",
      "[CV 2/5] END colsample_bytree=0.7, gamma=0, learning_rate=0.3, max_depth=9, n_estimators=200, subsample=0.6;, score=0.917 total time=  38.3s\n",
      "[CV 5/5] END colsample_bytree=0.7, gamma=0, learning_rate=0.3, max_depth=9, n_estimators=200, subsample=0.6;, score=0.922 total time=  38.0s\n",
      "[CV 4/5] END colsample_bytree=0.5, gamma=0, learning_rate=0.01, max_depth=8, n_estimators=200, subsample=0.9;, score=0.856 total time=  26.7s\n",
      "[CV 3/5] END colsample_bytree=0.9, gamma=0.2, learning_rate=0.05, max_depth=6, n_estimators=100, subsample=1;, score=0.832 total time=  13.1s\n",
      "[CV 1/5] END colsample_bytree=0.9, gamma=0.2, learning_rate=0.2, max_depth=9, n_estimators=300, subsample=0.5;, score=0.916 total time= 1.1min\n",
      "[CV 5/5] END colsample_bytree=0.9, gamma=0.2, learning_rate=0.2, max_depth=9, n_estimators=300, subsample=0.5;, score=0.918 total time= 1.1min\n",
      "[CV 4/5] END colsample_bytree=0.9, gamma=0.4, learning_rate=0.05, max_depth=9, n_estimators=300, subsample=0.8;, score=0.911 total time= 1.1min\n",
      "[CV 1/5] END colsample_bytree=0.7, gamma=0.2, learning_rate=0.1, max_depth=2, n_estimators=100, subsample=0.9;, score=0.729 total time=   3.8s\n",
      "[CV 4/5] END colsample_bytree=0.7, gamma=0.2, learning_rate=0.1, max_depth=2, n_estimators=100, subsample=0.9;, score=0.728 total time=   3.9s\n",
      "[CV 2/5] END colsample_bytree=0.9, gamma=0.5, learning_rate=0.01, max_depth=7, n_estimators=300, subsample=0.5;, score=0.831 total time=  53.9s\n",
      "[CV 2/5] END colsample_bytree=0.7, gamma=0.4, learning_rate=0.01, max_depth=8, n_estimators=500, subsample=0.5;, score=0.868 total time= 1.4min\n",
      "[CV 1/5] END colsample_bytree=0.8, gamma=0.5, learning_rate=0.05, max_depth=10, n_estimators=300, subsample=1;, score=0.918 total time= 1.1min\n",
      "[CV 4/5] END colsample_bytree=0.8, gamma=0.5, learning_rate=0.05, max_depth=10, n_estimators=300, subsample=1;, score=0.911 total time= 1.1min\n",
      "[CV 3/5] END colsample_bytree=0.7, gamma=0.3, learning_rate=0.01, max_depth=7, n_estimators=300, subsample=0.9;, score=0.846 total time=  41.6s\n",
      "[CV 4/5] END colsample_bytree=0.7, gamma=0, learning_rate=0.01, max_depth=7, n_estimators=50, subsample=1;, score=0.806 total time=   6.8s\n",
      "[CV 2/5] END colsample_bytree=0.8, gamma=0.2, learning_rate=0.1, max_depth=9, n_estimators=500, subsample=0.8;, score=0.917 total time= 1.7min\n",
      "[CV 1/5] END colsample_bytree=0.8, gamma=0.3, learning_rate=0.05, max_depth=4, n_estimators=300, subsample=0.5;, score=0.840 total time=  25.9s\n",
      "[CV 4/5] END colsample_bytree=0.8, gamma=0.3, learning_rate=0.05, max_depth=4, n_estimators=300, subsample=0.5;, score=0.837 total time=  25.8s\n",
      "[CV 2/5] END colsample_bytree=0.8, gamma=0.1, learning_rate=0.1, max_depth=2, n_estimators=300, subsample=0.9;, score=0.779 total time=  12.4s\n",
      "[CV 5/5] END colsample_bytree=0.8, gamma=0.1, learning_rate=0.1, max_depth=2, n_estimators=300, subsample=0.9;, score=0.781 total time=  12.4s\n",
      "[CV 3/5] END colsample_bytree=0.7, gamma=0.4, learning_rate=0.01, max_depth=6, n_estimators=200, subsample=0.9;, score=0.809 total time=  22.8s\n",
      "[CV 1/5] END colsample_bytree=1, gamma=0.2, learning_rate=0.2, max_depth=8, n_estimators=500, subsample=0.9;, score=0.920 total time= 1.7min\n",
      "[CV 5/5] END colsample_bytree=1, gamma=0.2, learning_rate=0.2, max_depth=8, n_estimators=500, subsample=0.9;, score=0.921 total time= 1.7min\n",
      "[CV 3/5] END colsample_bytree=0.8, gamma=0, learning_rate=0.3, max_depth=7, n_estimators=100, subsample=0.7;, score=0.908 total time=  15.5s\n",
      "[CV 2/5] END colsample_bytree=1, gamma=0, learning_rate=0.05, max_depth=9, n_estimators=300, subsample=1;, score=0.903 total time= 1.1min\n",
      "[CV 1/5] END colsample_bytree=0.6, gamma=0, learning_rate=0.05, max_depth=6, n_estimators=50, subsample=0.8;, score=0.821 total time=   5.4s\n",
      "[CV 3/5] END colsample_bytree=0.6, gamma=0, learning_rate=0.05, max_depth=6, n_estimators=50, subsample=0.8;, score=0.824 total time=   5.4s\n",
      "[CV 1/5] END colsample_bytree=1, gamma=0.1, learning_rate=0.2, max_depth=10, n_estimators=300, subsample=0.5;, score=0.918 total time= 1.4min\n",
      "[CV 5/5] END colsample_bytree=1, gamma=0.1, learning_rate=0.2, max_depth=10, n_estimators=300, subsample=0.5;, score=0.919 total time= 1.4min\n",
      "[CV 1/5] END colsample_bytree=0.8, gamma=0.2, learning_rate=0.2, max_depth=5, n_estimators=200, subsample=1;, score=0.891 total time=  18.4s\n",
      "[CV 5/5] END colsample_bytree=0.8, gamma=0.2, learning_rate=0.2, max_depth=5, n_estimators=200, subsample=1;, score=0.890 total time=  18.5s\n",
      "[CV 4/5] END colsample_bytree=0.8, gamma=0.3, learning_rate=0.05, max_depth=5, n_estimators=200, subsample=1;, score=0.843 total time=  18.8s\n",
      "[CV 3/5] END colsample_bytree=1, gamma=0.1, learning_rate=0.3, max_depth=4, n_estimators=400, subsample=0.9;, score=0.900 total time=  37.6s\n",
      "[CV 2/5] END colsample_bytree=1, gamma=0.1, learning_rate=0.1, max_depth=3, n_estimators=200, subsample=0.5;, score=0.809 total time=  15.9s\n",
      "[CV 1/5] END colsample_bytree=0.6, gamma=0.5, learning_rate=0.01, max_depth=3, n_estimators=50, subsample=0.9;, score=0.670 total time=   2.9s\n",
      "[CV 1/5] END colsample_bytree=0.7, gamma=0.3, learning_rate=0.01, max_depth=4, n_estimators=500, subsample=0.6;, score=0.786 total time=  40.3s\n",
      "[CV 1/5] END colsample_bytree=0.9, gamma=0.1, learning_rate=0.05, max_depth=8, n_estimators=400, subsample=0.9;, score=0.913 total time= 1.2min\n",
      "[CV 1/5] END colsample_bytree=0.6, gamma=0, learning_rate=0.3, max_depth=10, n_estimators=500, subsample=0.9;, score=0.922 total time= 1.3min\n",
      "[CV 5/5] END colsample_bytree=0.6, gamma=0, learning_rate=0.3, max_depth=10, n_estimators=500, subsample=0.9;, score=0.924 total time= 1.3min\n",
      "[CV 5/5] END colsample_bytree=1, gamma=0.4, learning_rate=0.3, max_depth=6, n_estimators=400, subsample=0.5;, score=0.911 total time= 1.1min\n",
      "[CV 5/5] END colsample_bytree=0.6, gamma=0.3, learning_rate=0.05, max_depth=3, n_estimators=500, subsample=0.5;, score=0.823 total time=  26.5s\n",
      "[CV 4/5] END colsample_bytree=0.5, gamma=0.3, learning_rate=0.3, max_depth=9, n_estimators=100, subsample=0.5;, score=0.910 total time=  15.0s\n",
      "[CV 3/5] END colsample_bytree=0.5, gamma=0.2, learning_rate=0.1, max_depth=10, n_estimators=200, subsample=0.9;, score=0.923 total time=  32.4s\n",
      "[CV 2/5] END colsample_bytree=0.9, gamma=0.3, learning_rate=0.05, max_depth=6, n_estimators=500, subsample=0.5;, score=0.893 total time= 1.2min\n",
      "[CV 1/5] END colsample_bytree=1, gamma=0.5, learning_rate=0.1, max_depth=6, n_estimators=500, subsample=0.5;, score=0.913 total time= 1.4min\n",
      "[CV 5/5] END colsample_bytree=1, gamma=0.5, learning_rate=0.1, max_depth=6, n_estimators=500, subsample=0.5;, score=0.910 total time= 1.3min\n",
      "[CV 4/5] END colsample_bytree=1, gamma=0.4, learning_rate=0.2, max_depth=4, n_estimators=300, subsample=0.6;, score=0.886 total time=  31.5s\n",
      "[CV 3/5] END colsample_bytree=0.5, gamma=0, learning_rate=0.05, max_depth=5, n_estimators=200, subsample=0.5;, score=0.847 total time=  15.7s\n",
      "[CV 1/5] END colsample_bytree=0.8, gamma=0.2, learning_rate=0.2, max_depth=3, n_estimators=400, subsample=0.9;, score=0.874 total time=  23.3s\n",
      "[CV 5/5] END colsample_bytree=0.8, gamma=0.2, learning_rate=0.2, max_depth=3, n_estimators=400, subsample=0.9;, score=0.869 total time=  23.3s\n",
      "[CV 4/5] END colsample_bytree=0.7, gamma=0.5, learning_rate=0.05, max_depth=8, n_estimators=500, subsample=0.6;, score=0.910 total time= 1.4min\n",
      "[CV 3/5] END colsample_bytree=0.7, gamma=0, learning_rate=0.3, max_depth=9, n_estimators=200, subsample=0.6;, score=0.921 total time=  38.4s\n",
      "[CV 1/5] END colsample_bytree=0.5, gamma=0, learning_rate=0.01, max_depth=8, n_estimators=200, subsample=0.9;, score=0.865 total time=  26.9s\n",
      "[CV 2/5] END colsample_bytree=0.5, gamma=0, learning_rate=0.01, max_depth=8, n_estimators=200, subsample=0.9;, score=0.853 total time=  26.7s\n",
      "[CV 1/5] END colsample_bytree=0.9, gamma=0.2, learning_rate=0.05, max_depth=6, n_estimators=100, subsample=1;, score=0.833 total time=  13.2s\n",
      "[CV 4/5] END colsample_bytree=0.9, gamma=0.2, learning_rate=0.05, max_depth=6, n_estimators=100, subsample=1;, score=0.830 total time=  13.7s\n",
      "[CV 3/5] END colsample_bytree=0.9, gamma=0.2, learning_rate=0.2, max_depth=9, n_estimators=300, subsample=0.5;, score=0.921 total time= 1.1min\n",
      "[CV 3/5] END colsample_bytree=0.9, gamma=0.4, learning_rate=0.05, max_depth=9, n_estimators=300, subsample=0.8;, score=0.916 total time= 1.1min\n",
      "[CV 2/5] END colsample_bytree=0.8, gamma=0.2, learning_rate=0.3, max_depth=7, n_estimators=200, subsample=0.7;, score=0.908 total time=  30.9s\n",
      "[CV 4/5] END colsample_bytree=0.8, gamma=0.2, learning_rate=0.3, max_depth=7, n_estimators=200, subsample=0.7;, score=0.910 total time=  30.9s\n",
      "[CV 2/5] END colsample_bytree=0.7, gamma=0.2, learning_rate=0.1, max_depth=2, n_estimators=100, subsample=0.9;, score=0.723 total time=   3.8s\n",
      "[CV 5/5] END colsample_bytree=0.7, gamma=0.2, learning_rate=0.1, max_depth=2, n_estimators=100, subsample=0.9;, score=0.718 total time=   3.8s\n",
      "[CV 3/5] END colsample_bytree=0.9, gamma=0.5, learning_rate=0.01, max_depth=7, n_estimators=300, subsample=0.5;, score=0.841 total time=  53.6s\n",
      "[CV 1/5] END colsample_bytree=0.7, gamma=0.4, learning_rate=0.01, max_depth=8, n_estimators=500, subsample=0.5;, score=0.879 total time= 1.4min\n",
      "[CV 5/5] END colsample_bytree=0.7, gamma=0.4, learning_rate=0.01, max_depth=8, n_estimators=500, subsample=0.5;, score=0.882 total time= 1.4min\n",
      "[CV 5/5] END colsample_bytree=0.8, gamma=0.5, learning_rate=0.05, max_depth=10, n_estimators=300, subsample=1;, score=0.915 total time= 1.1min\n",
      "[CV 5/5] END colsample_bytree=0.7, gamma=0.3, learning_rate=0.01, max_depth=7, n_estimators=300, subsample=0.9;, score=0.850 total time=  41.6s\n",
      "[CV 4/5] END colsample_bytree=0.8, gamma=0.2, learning_rate=0.1, max_depth=9, n_estimators=500, subsample=0.8;, score=0.917 total time= 1.7min\n",
      "[CV 3/5] END colsample_bytree=0.8, gamma=0.3, learning_rate=0.05, max_depth=4, n_estimators=300, subsample=0.5;, score=0.838 total time=  25.8s\n",
      "[CV 1/5] END colsample_bytree=0.8, gamma=0.1, learning_rate=0.1, max_depth=2, n_estimators=300, subsample=0.9;, score=0.797 total time=  12.4s\n",
      "[CV 4/5] END colsample_bytree=0.8, gamma=0.1, learning_rate=0.1, max_depth=2, n_estimators=300, subsample=0.9;, score=0.786 total time=  12.5s\n",
      "[CV 2/5] END colsample_bytree=0.7, gamma=0.4, learning_rate=0.01, max_depth=6, n_estimators=200, subsample=0.9;, score=0.803 total time=  23.0s\n",
      "[CV 4/5] END colsample_bytree=0.7, gamma=0.4, learning_rate=0.01, max_depth=6, n_estimators=200, subsample=0.9;, score=0.805 total time=  23.0s\n",
      "[CV 3/5] END colsample_bytree=1, gamma=0.2, learning_rate=0.2, max_depth=8, n_estimators=500, subsample=0.9;, score=0.923 total time= 1.7min\n",
      "[CV 4/5] END colsample_bytree=0.5, gamma=0.3, learning_rate=0.3, max_depth=6, n_estimators=50, subsample=0.9;, score=0.867 total time=   4.4s\n",
      "[CV 2/5] END colsample_bytree=0.9, gamma=0, learning_rate=0.2, max_depth=5, n_estimators=100, subsample=0.8;, score=0.860 total time=  11.1s\n",
      "[CV 5/5] END colsample_bytree=0.9, gamma=0, learning_rate=0.2, max_depth=5, n_estimators=100, subsample=0.8;, score=0.874 total time=  11.3s\n",
      "[CV 3/5] END colsample_bytree=0.9, gamma=0.3, learning_rate=0.05, max_depth=2, n_estimators=500, subsample=0.9;, score=0.777 total time=  22.5s\n",
      "[CV 1/5] END colsample_bytree=0.9, gamma=0.2, learning_rate=0.2, max_depth=7, n_estimators=100, subsample=1;, score=0.901 total time=  15.0s\n",
      "[CV 3/5] END colsample_bytree=0.9, gamma=0.2, learning_rate=0.2, max_depth=7, n_estimators=100, subsample=1;, score=0.897 total time=  14.9s\n",
      "[CV 1/5] END colsample_bytree=0.8, gamma=0, learning_rate=0.3, max_depth=7, n_estimators=100, subsample=0.7;, score=0.906 total time=  15.5s\n",
      "[CV 5/5] END colsample_bytree=0.8, gamma=0, learning_rate=0.3, max_depth=7, n_estimators=100, subsample=0.7;, score=0.906 total time=  15.6s\n",
      "[CV 4/5] END colsample_bytree=1, gamma=0, learning_rate=0.05, max_depth=9, n_estimators=300, subsample=1;, score=0.907 total time= 1.1min\n",
      "[CV 4/5] END colsample_bytree=0.6, gamma=0, learning_rate=0.05, max_depth=6, n_estimators=50, subsample=0.8;, score=0.815 total time=   5.4s\n",
      "[CV 2/5] END colsample_bytree=1, gamma=0.1, learning_rate=0.2, max_depth=10, n_estimators=300, subsample=0.5;, score=0.916 total time= 1.4min\n",
      "[CV 1/5] END colsample_bytree=0.7, gamma=0.3, learning_rate=0.3, max_depth=7, n_estimators=300, subsample=0.8;, score=0.916 total time=  41.6s\n",
      "[CV 3/5] END colsample_bytree=0.7, gamma=0.3, learning_rate=0.3, max_depth=7, n_estimators=300, subsample=0.8;, score=0.917 total time=  41.1s\n",
      "[CV 3/5] END colsample_bytree=0.8, gamma=0.2, learning_rate=0.2, max_depth=5, n_estimators=200, subsample=1;, score=0.888 total time=  18.4s\n",
      "[CV 2/5] END colsample_bytree=0.8, gamma=0.3, learning_rate=0.05, max_depth=5, n_estimators=200, subsample=1;, score=0.830 total time=  18.7s\n",
      "[CV 1/5] END colsample_bytree=1, gamma=0.1, learning_rate=0.3, max_depth=4, n_estimators=400, subsample=0.9;, score=0.897 total time=  37.7s\n",
      "[CV 5/5] END colsample_bytree=1, gamma=0.1, learning_rate=0.3, max_depth=4, n_estimators=400, subsample=0.9;, score=0.898 total time=  38.1s\n"
     ]
    },
    {
     "name": "stdout",
     "output_type": "stream",
     "text": [
      "[CV 1/5] END colsample_bytree=0.9, gamma=0.4, learning_rate=0.05, max_depth=2, n_estimators=200, subsample=0.6;, score=0.729 total time=  10.4s\n",
      "[CV 3/5] END colsample_bytree=0.9, gamma=0.4, learning_rate=0.05, max_depth=2, n_estimators=200, subsample=0.6;, score=0.738 total time=  10.6s\n",
      "[CV 2/5] END colsample_bytree=0.7, gamma=0.1, learning_rate=0.05, max_depth=6, n_estimators=400, subsample=0.5;, score=0.889 total time=  49.3s\n",
      "[CV 1/5] END colsample_bytree=0.9, gamma=0.5, learning_rate=0.05, max_depth=9, n_estimators=100, subsample=0.5;, score=0.887 total time=  24.6s\n",
      "[CV 4/5] END colsample_bytree=0.9, gamma=0.5, learning_rate=0.05, max_depth=9, n_estimators=100, subsample=0.5;, score=0.885 total time=  24.1s\n",
      "[CV 3/5] END colsample_bytree=0.6, gamma=0.5, learning_rate=0.3, max_depth=6, n_estimators=500, subsample=0.8;, score=0.917 total time=  50.7s\n",
      "[CV 2/5] END colsample_bytree=0.7, gamma=0.3, learning_rate=0.2, max_depth=4, n_estimators=200, subsample=0.9;, score=0.864 total time=  14.0s\n",
      "[CV 5/5] END colsample_bytree=0.7, gamma=0.3, learning_rate=0.2, max_depth=4, n_estimators=200, subsample=0.9;, score=0.875 total time=  14.0s\n",
      "[CV 3/5] END colsample_bytree=0.9, gamma=0.2, learning_rate=0.05, max_depth=9, n_estimators=300, subsample=0.7;, score=0.916 total time= 1.2min\n",
      "[CV 2/5] END colsample_bytree=0.9, gamma=0, learning_rate=0.1, max_depth=6, n_estimators=50, subsample=0.5;, score=0.832 total time=   7.4s\n",
      "[CV 5/5] END colsample_bytree=0.9, gamma=0, learning_rate=0.1, max_depth=6, n_estimators=50, subsample=0.5;, score=0.836 total time=   7.4s\n",
      "[CV 3/5] END colsample_bytree=0.8, gamma=0.1, learning_rate=0.3, max_depth=7, n_estimators=100, subsample=0.7;, score=0.909 total time=  15.6s\n",
      "[CV 1/5] END colsample_bytree=0.5, gamma=0.2, learning_rate=0.3, max_depth=8, n_estimators=200, subsample=0.9;, score=0.920 total time=  24.4s\n",
      "[CV 4/5] END colsample_bytree=0.5, gamma=0.2, learning_rate=0.3, max_depth=8, n_estimators=200, subsample=0.9;, score=0.919 total time=  24.2s\n",
      "[CV 3/5] END colsample_bytree=0.9, gamma=0.3, learning_rate=0.01, max_depth=2, n_estimators=500, subsample=0.6;, score=0.691 total time=  25.8s\n",
      "[CV 2/5] END colsample_bytree=1, gamma=0.5, learning_rate=0.1, max_depth=7, n_estimators=500, subsample=0.5;, score=0.911 total time= 1.7min\n",
      "[CV 1/5] END colsample_bytree=0.9, gamma=0.1, learning_rate=0.01, max_depth=2, n_estimators=50, subsample=0.9;, score=0.593 total time=   2.3s\n",
      "[CV 2/5] END colsample_bytree=0.9, gamma=0.1, learning_rate=0.01, max_depth=2, n_estimators=50, subsample=0.9;, score=0.566 total time=   2.3s\n",
      "[CV 4/5] END colsample_bytree=0.9, gamma=0.1, learning_rate=0.01, max_depth=2, n_estimators=50, subsample=0.9;, score=0.582 total time=   2.3s\n",
      "[CV 1/5] END colsample_bytree=0.7, gamma=0.3, learning_rate=0.3, max_depth=8, n_estimators=100, subsample=1;, score=0.916 total time=  14.6s\n",
      "[CV 4/5] END colsample_bytree=0.7, gamma=0.3, learning_rate=0.3, max_depth=8, n_estimators=100, subsample=1;, score=0.911 total time=  14.6s\n",
      "[CV 2/5] END colsample_bytree=0.8, gamma=0.4, learning_rate=0.3, max_depth=9, n_estimators=500, subsample=0.5;, score=0.908 total time= 1.7min\n",
      "[CV 2/5] END colsample_bytree=0.9, gamma=0, learning_rate=0.2, max_depth=9, n_estimators=100, subsample=0.9;, score=0.914 total time=  21.7s\n",
      "[CV 4/5] END colsample_bytree=0.9, gamma=0, learning_rate=0.2, max_depth=9, n_estimators=100, subsample=0.9;, score=0.912 total time=  21.9s\n",
      "[CV 1/5] END colsample_bytree=0.7, gamma=0.4, learning_rate=0.01, max_depth=2, n_estimators=400, subsample=0.9;, score=0.677 total time=  15.3s\n",
      "[CV 3/5] END colsample_bytree=0.7, gamma=0.4, learning_rate=0.01, max_depth=2, n_estimators=400, subsample=0.9;, score=0.669 total time=  15.2s\n",
      "[CV 1/5] END colsample_bytree=0.8, gamma=0.3, learning_rate=0.3, max_depth=5, n_estimators=50, subsample=0.7;, score=0.862 total time=   5.5s\n",
      "[CV 2/5] END colsample_bytree=0.8, gamma=0.3, learning_rate=0.3, max_depth=5, n_estimators=50, subsample=0.7;, score=0.853 total time=   5.5s\n",
      "[CV 5/5] END colsample_bytree=0.8, gamma=0.3, learning_rate=0.3, max_depth=5, n_estimators=50, subsample=0.7;, score=0.858 total time=   5.5s\n",
      "[CV 4/5] END colsample_bytree=0.6, gamma=0.5, learning_rate=0.3, max_depth=8, n_estimators=500, subsample=0.6;, score=0.914 total time= 1.2min\n",
      "[CV 3/5] END colsample_bytree=1, gamma=0.5, learning_rate=0.1, max_depth=4, n_estimators=200, subsample=0.6;, score=0.850 total time=  21.2s\n",
      "[CV 1/5] END colsample_bytree=0.8, gamma=0.3, learning_rate=0.3, max_depth=3, n_estimators=400, subsample=1;, score=0.876 total time=  21.7s\n",
      "[CV 4/5] END colsample_bytree=0.8, gamma=0.3, learning_rate=0.3, max_depth=3, n_estimators=400, subsample=1;, score=0.876 total time=  21.9s\n",
      "[CV 2/5] END colsample_bytree=0.7, gamma=0.2, learning_rate=0.01, max_depth=3, n_estimators=500, subsample=0.6;, score=0.740 total time=  31.0s\n",
      "[CV 1/5] END colsample_bytree=0.7, gamma=0.5, learning_rate=0.01, max_depth=7, n_estimators=50, subsample=0.5;, score=0.817 total time=   7.8s\n",
      "[CV 3/5] END colsample_bytree=0.7, gamma=0.5, learning_rate=0.01, max_depth=7, n_estimators=50, subsample=0.5;, score=0.821 total time=   7.6s\n",
      "[CV 5/5] END colsample_bytree=0.7, gamma=0.5, learning_rate=0.01, max_depth=7, n_estimators=50, subsample=0.5;, score=0.813 total time=   7.6s\n",
      "[CV 4/5] END colsample_bytree=0.5, gamma=0.1, learning_rate=0.1, max_depth=2, n_estimators=200, subsample=0.9;, score=0.764 total time=   6.2s\n",
      "[CV 2/5] END colsample_bytree=0.8, gamma=0.5, learning_rate=0.01, max_depth=6, n_estimators=400, subsample=1;, score=0.819 total time=  47.3s\n",
      "[CV 1/5] END colsample_bytree=0.8, gamma=0.4, learning_rate=0.3, max_depth=9, n_estimators=200, subsample=0.5;, score=0.914 total time=  41.4s\n",
      "[CV 4/5] END colsample_bytree=0.8, gamma=0.4, learning_rate=0.3, max_depth=9, n_estimators=200, subsample=0.5;, score=0.909 total time=  42.4s\n",
      "[CV 3/5] END colsample_bytree=0.8, gamma=0.4, learning_rate=0.01, max_depth=8, n_estimators=200, subsample=0.6;, score=0.855 total time=  40.8s\n",
      "[CV 3/5] END colsample_bytree=0.5, gamma=0.4, learning_rate=0.05, max_depth=6, n_estimators=200, subsample=0.8;, score=0.867 total time=  18.1s\n",
      "[CV 2/5] END colsample_bytree=0.8, gamma=0.1, learning_rate=0.05, max_depth=5, n_estimators=100, subsample=1;, score=0.797 total time=   9.5s\n",
      "[CV 1/5] END colsample_bytree=0.9, gamma=0.3, learning_rate=0.3, max_depth=4, n_estimators=50, subsample=0.5;, score=0.843 total time=   5.2s\n",
      "[CV 4/5] END colsample_bytree=0.9, gamma=0.3, learning_rate=0.3, max_depth=4, n_estimators=50, subsample=0.5;, score=0.841 total time=   5.1s\n",
      "[CV 3/5] END colsample_bytree=0.8, gamma=0, learning_rate=0.3, max_depth=7, n_estimators=300, subsample=0.6;, score=0.921 total time=  47.5s\n",
      "[CV 1/5] END colsample_bytree=0.6, gamma=0.3, learning_rate=0.3, max_depth=7, n_estimators=300, subsample=0.7;, score=0.914 total time=  37.6s\n",
      "[CV 4/5] END colsample_bytree=0.6, gamma=0.3, learning_rate=0.3, max_depth=7, n_estimators=300, subsample=0.7;, score=0.914 total time=  37.4s\n",
      "[CV 1/5] END colsample_bytree=0.6, gamma=0.4, learning_rate=0.01, max_depth=5, n_estimators=50, subsample=0.8;, score=0.767 total time=   4.3s\n",
      "[CV 3/5] END colsample_bytree=0.6, gamma=0.4, learning_rate=0.01, max_depth=5, n_estimators=50, subsample=0.8;, score=0.770 total time=   4.4s\n",
      "[CV 5/5] END colsample_bytree=0.6, gamma=0.4, learning_rate=0.01, max_depth=5, n_estimators=50, subsample=0.8;, score=0.748 total time=   4.3s\n",
      "[CV 3/5] END colsample_bytree=0.9, gamma=0.4, learning_rate=0.2, max_depth=4, n_estimators=50, subsample=1;, score=0.817 total time=   4.0s\n",
      "[CV 1/5] END colsample_bytree=0.5, gamma=0, learning_rate=0.2, max_depth=6, n_estimators=50, subsample=1;, score=0.867 total time=   4.3s\n",
      "[CV 5/5] END colsample_bytree=0.5, gamma=0, learning_rate=0.2, max_depth=6, n_estimators=50, subsample=1;, score=0.863 total time=   4.3s\n",
      "[CV 4/5] END colsample_bytree=0.6, gamma=0.3, learning_rate=0.05, max_depth=8, n_estimators=50, subsample=1;, score=0.860 total time=   7.2s\n",
      "[CV 3/5] END colsample_bytree=0.9, gamma=0.2, learning_rate=0.2, max_depth=3, n_estimators=500, subsample=1;, score=0.873 total time=  29.6s\n",
      "[CV 4/5] END colsample_bytree=1, gamma=0.1, learning_rate=0.1, max_depth=3, n_estimators=200, subsample=0.5;, score=0.820 total time=  16.2s\n",
      "[CV 4/5] END colsample_bytree=0.9, gamma=0.4, learning_rate=0.05, max_depth=2, n_estimators=200, subsample=0.6;, score=0.734 total time=  10.3s\n",
      "[CV 3/5] END colsample_bytree=0.7, gamma=0.1, learning_rate=0.05, max_depth=6, n_estimators=400, subsample=0.5;, score=0.892 total time=  49.4s\n",
      "[CV 2/5] END colsample_bytree=0.9, gamma=0.5, learning_rate=0.05, max_depth=9, n_estimators=100, subsample=0.5;, score=0.877 total time=  24.9s\n",
      "[CV 5/5] END colsample_bytree=0.9, gamma=0.5, learning_rate=0.05, max_depth=9, n_estimators=100, subsample=0.5;, score=0.890 total time=  24.1s\n",
      "[CV 4/5] END colsample_bytree=0.6, gamma=0.5, learning_rate=0.3, max_depth=6, n_estimators=500, subsample=0.8;, score=0.911 total time=  50.1s\n",
      "[CV 3/5] END colsample_bytree=0.7, gamma=0.3, learning_rate=0.2, max_depth=4, n_estimators=200, subsample=0.9;, score=0.870 total time=  14.0s\n",
      "[CV 1/5] END colsample_bytree=0.9, gamma=0.2, learning_rate=0.05, max_depth=9, n_estimators=300, subsample=0.7;, score=0.916 total time= 1.2min\n",
      "[CV 5/5] END colsample_bytree=0.9, gamma=0.2, learning_rate=0.05, max_depth=9, n_estimators=300, subsample=0.7;, score=0.914 total time= 1.2min\n",
      "[CV 5/5] END colsample_bytree=0.5, gamma=0.2, learning_rate=0.3, max_depth=8, n_estimators=200, subsample=0.9;, score=0.916 total time=  24.5s\n",
      "[CV 4/5] END colsample_bytree=0.9, gamma=0.3, learning_rate=0.01, max_depth=2, n_estimators=500, subsample=0.6;, score=0.695 total time=  26.0s\n",
      "[CV 3/5] END colsample_bytree=1, gamma=0.5, learning_rate=0.1, max_depth=7, n_estimators=500, subsample=0.5;, score=0.914 total time= 1.6min\n",
      "[CV 3/5] END colsample_bytree=0.9, gamma=0.1, learning_rate=0.01, max_depth=2, n_estimators=50, subsample=0.9;, score=0.584 total time=   2.3s\n",
      "[CV 5/5] END colsample_bytree=0.9, gamma=0.1, learning_rate=0.01, max_depth=2, n_estimators=50, subsample=0.9;, score=0.575 total time=   2.4s\n",
      "[CV 2/5] END colsample_bytree=0.7, gamma=0.3, learning_rate=0.3, max_depth=8, n_estimators=100, subsample=1;, score=0.907 total time=  14.4s\n",
      "[CV 5/5] END colsample_bytree=0.7, gamma=0.3, learning_rate=0.3, max_depth=8, n_estimators=100, subsample=1;, score=0.914 total time=  14.7s\n",
      "[CV 3/5] END colsample_bytree=0.8, gamma=0.4, learning_rate=0.3, max_depth=9, n_estimators=500, subsample=0.5;, score=0.914 total time= 1.7min\n",
      "[CV 1/5] END colsample_bytree=0.9, gamma=0, learning_rate=0.2, max_depth=9, n_estimators=100, subsample=0.9;, score=0.914 total time=  21.4s\n",
      "[CV 3/5] END colsample_bytree=0.9, gamma=0, learning_rate=0.2, max_depth=9, n_estimators=100, subsample=0.9;, score=0.917 total time=  21.8s\n",
      "[CV 5/5] END colsample_bytree=0.9, gamma=0, learning_rate=0.2, max_depth=9, n_estimators=100, subsample=0.9;, score=0.916 total time=  21.8s\n",
      "[CV 4/5] END colsample_bytree=0.7, gamma=0.4, learning_rate=0.01, max_depth=2, n_estimators=400, subsample=0.9;, score=0.678 total time=  15.1s\n",
      "[CV 3/5] END colsample_bytree=0.8, gamma=0.3, learning_rate=0.3, max_depth=5, n_estimators=50, subsample=0.7;, score=0.862 total time=   5.4s\n",
      "[CV 1/5] END colsample_bytree=0.6, gamma=0.5, learning_rate=0.3, max_depth=8, n_estimators=500, subsample=0.6;, score=0.914 total time= 1.2min\n",
      "[CV 5/5] END colsample_bytree=0.6, gamma=0.5, learning_rate=0.3, max_depth=8, n_estimators=500, subsample=0.6;, score=0.915 total time= 1.2min\n",
      "[CV 3/5] END colsample_bytree=0.7, gamma=0.2, learning_rate=0.01, max_depth=3, n_estimators=500, subsample=0.6;, score=0.745 total time=  31.4s\n",
      "[CV 2/5] END colsample_bytree=0.7, gamma=0.5, learning_rate=0.01, max_depth=7, n_estimators=50, subsample=0.5;, score=0.803 total time=   7.6s\n",
      "[CV 4/5] END colsample_bytree=0.7, gamma=0.5, learning_rate=0.01, max_depth=7, n_estimators=50, subsample=0.5;, score=0.807 total time=   7.6s\n",
      "[CV 2/5] END colsample_bytree=0.5, gamma=0.1, learning_rate=0.1, max_depth=2, n_estimators=200, subsample=0.9;, score=0.756 total time=   6.1s\n",
      "[CV 5/5] END colsample_bytree=0.5, gamma=0.1, learning_rate=0.1, max_depth=2, n_estimators=200, subsample=0.9;, score=0.758 total time=   6.1s\n",
      "[CV 4/5] END colsample_bytree=0.8, gamma=0.5, learning_rate=0.01, max_depth=6, n_estimators=400, subsample=1;, score=0.827 total time=  47.6s\n",
      "[CV 3/5] END colsample_bytree=0.8, gamma=0.4, learning_rate=0.3, max_depth=9, n_estimators=200, subsample=0.5;, score=0.916 total time=  41.1s\n",
      "[CV 5/5] END colsample_bytree=0.8, gamma=0.4, learning_rate=0.3, max_depth=9, n_estimators=200, subsample=0.5;, score=0.919 total time=  44.6s\n",
      "[CV 5/5] END colsample_bytree=0.8, gamma=0.4, learning_rate=0.01, max_depth=8, n_estimators=200, subsample=0.6;, score=0.857 total time=  39.4s\n",
      "[CV 4/5] END colsample_bytree=0.5, gamma=0.4, learning_rate=0.05, max_depth=6, n_estimators=200, subsample=0.8;, score=0.865 total time=  18.2s\n",
      "[CV 3/5] END colsample_bytree=0.8, gamma=0.1, learning_rate=0.05, max_depth=5, n_estimators=100, subsample=1;, score=0.808 total time=   9.4s\n",
      "[CV 2/5] END colsample_bytree=0.9, gamma=0.3, learning_rate=0.3, max_depth=4, n_estimators=50, subsample=0.5;, score=0.830 total time=   5.1s\n",
      "[CV 5/5] END colsample_bytree=0.9, gamma=0.3, learning_rate=0.3, max_depth=4, n_estimators=50, subsample=0.5;, score=0.834 total time=   5.0s\n",
      "[CV 4/5] END colsample_bytree=0.8, gamma=0, learning_rate=0.3, max_depth=7, n_estimators=300, subsample=0.6;, score=0.915 total time=  47.4s\n",
      "[CV 3/5] END colsample_bytree=0.6, gamma=0.3, learning_rate=0.3, max_depth=7, n_estimators=300, subsample=0.7;, score=0.918 total time=  37.5s\n",
      "[CV 1/5] END colsample_bytree=0.6, gamma=0, learning_rate=0.2, max_depth=4, n_estimators=300, subsample=0.8;, score=0.887 total time=  19.5s\n",
      "[CV 3/5] END colsample_bytree=0.6, gamma=0, learning_rate=0.2, max_depth=4, n_estimators=300, subsample=0.8;, score=0.878 total time=  19.5s\n",
      "[CV 2/5] END colsample_bytree=0.6, gamma=0.4, learning_rate=0.01, max_depth=5, n_estimators=50, subsample=0.8;, score=0.750 total time=   4.3s\n",
      "[CV 4/5] END colsample_bytree=0.6, gamma=0.4, learning_rate=0.01, max_depth=5, n_estimators=50, subsample=0.8;, score=0.751 total time=   4.3s\n",
      "[CV 2/5] END colsample_bytree=0.9, gamma=0.4, learning_rate=0.2, max_depth=4, n_estimators=50, subsample=1;, score=0.805 total time=   4.0s\n",
      "[CV 5/5] END colsample_bytree=0.9, gamma=0.4, learning_rate=0.2, max_depth=4, n_estimators=50, subsample=1;, score=0.813 total time=   4.1s\n",
      "[CV 4/5] END colsample_bytree=0.5, gamma=0, learning_rate=0.2, max_depth=6, n_estimators=50, subsample=1;, score=0.862 total time=   4.2s\n",
      "[CV 3/5] END colsample_bytree=0.6, gamma=0.3, learning_rate=0.05, max_depth=8, n_estimators=50, subsample=1;, score=0.862 total time=   7.2s\n",
      "[CV 2/5] END colsample_bytree=0.9, gamma=0.2, learning_rate=0.2, max_depth=3, n_estimators=500, subsample=1;, score=0.867 total time=  29.5s\n",
      "[CV 1/5] END colsample_bytree=0.5, gamma=0.2, learning_rate=0.3, max_depth=2, n_estimators=200, subsample=0.6;, score=0.814 total time=   6.7s\n",
      "[CV 4/5] END colsample_bytree=0.5, gamma=0.2, learning_rate=0.3, max_depth=2, n_estimators=200, subsample=0.6;, score=0.809 total time=   6.8s\n",
      "[CV 2/5] END colsample_bytree=0.7, gamma=0.1, learning_rate=0.3, max_depth=5, n_estimators=50, subsample=0.5;, score=0.852 total time=   5.0s\n",
      "[CV 5/5] END colsample_bytree=0.7, gamma=0.1, learning_rate=0.3, max_depth=5, n_estimators=50, subsample=0.5;, score=0.864 total time=   5.0s\n",
      "[CV 3/5] END colsample_bytree=0.5, gamma=0.1, learning_rate=0.3, max_depth=7, n_estimators=50, subsample=1;, score=0.889 total time=   5.0s\n",
      "[CV 1/5] END colsample_bytree=0.9, gamma=0.4, learning_rate=0.05, max_depth=4, n_estimators=50, subsample=0.9;, score=0.742 total time=   4.3s\n",
      "[CV 5/5] END colsample_bytree=0.9, gamma=0.4, learning_rate=0.05, max_depth=4, n_estimators=50, subsample=0.9;, score=0.737 total time=   4.4s\n",
      "[CV 4/5] END colsample_bytree=1, gamma=0.4, learning_rate=0.05, max_depth=6, n_estimators=500, subsample=0.7;, score=0.898 total time= 1.3min\n",
      "[CV 3/5] END colsample_bytree=0.5, gamma=0.4, learning_rate=0.01, max_depth=10, n_estimators=50, subsample=0.7;, score=0.875 total time=   9.9s\n"
     ]
    },
    {
     "name": "stdout",
     "output_type": "stream",
     "text": [
      "[CV 5/5] END colsample_bytree=1, gamma=0.1, learning_rate=0.1, max_depth=3, n_estimators=200, subsample=0.5;, score=0.818 total time=  16.2s\n",
      "[CV 5/5] END colsample_bytree=0.9, gamma=0.4, learning_rate=0.05, max_depth=2, n_estimators=200, subsample=0.6;, score=0.728 total time=  10.1s\n",
      "[CV 4/5] END colsample_bytree=0.7, gamma=0.1, learning_rate=0.05, max_depth=6, n_estimators=400, subsample=0.5;, score=0.889 total time=  52.4s\n",
      "[CV 3/5] END colsample_bytree=0.9, gamma=0.5, learning_rate=0.05, max_depth=9, n_estimators=100, subsample=0.5;, score=0.888 total time=  25.6s\n",
      "[CV 1/5] END colsample_bytree=0.6, gamma=0.5, learning_rate=0.3, max_depth=6, n_estimators=500, subsample=0.8;, score=0.911 total time=  50.7s\n",
      "[CV 5/5] END colsample_bytree=0.6, gamma=0.5, learning_rate=0.3, max_depth=6, n_estimators=500, subsample=0.8;, score=0.913 total time=  50.7s\n",
      "[CV 4/5] END colsample_bytree=0.9, gamma=0.2, learning_rate=0.05, max_depth=9, n_estimators=300, subsample=0.7;, score=0.912 total time= 1.2min\n",
      "[CV 4/5] END colsample_bytree=0.9, gamma=0, learning_rate=0.1, max_depth=6, n_estimators=50, subsample=0.5;, score=0.832 total time=   7.4s\n",
      "[CV 2/5] END colsample_bytree=0.8, gamma=0.1, learning_rate=0.3, max_depth=7, n_estimators=100, subsample=0.7;, score=0.902 total time=  15.4s\n",
      "[CV 5/5] END colsample_bytree=0.8, gamma=0.1, learning_rate=0.3, max_depth=7, n_estimators=100, subsample=0.7;, score=0.911 total time=  15.5s\n",
      "[CV 3/5] END colsample_bytree=0.5, gamma=0.2, learning_rate=0.3, max_depth=8, n_estimators=200, subsample=0.9;, score=0.923 total time=  24.3s\n",
      "[CV 2/5] END colsample_bytree=0.9, gamma=0.3, learning_rate=0.01, max_depth=2, n_estimators=500, subsample=0.6;, score=0.683 total time=  26.0s\n",
      "[CV 1/5] END colsample_bytree=1, gamma=0.5, learning_rate=0.1, max_depth=7, n_estimators=500, subsample=0.5;, score=0.913 total time= 1.6min\n",
      "[CV 5/5] END colsample_bytree=1, gamma=0.5, learning_rate=0.1, max_depth=7, n_estimators=500, subsample=0.5;, score=0.916 total time= 1.6min\n",
      "[CV 4/5] END colsample_bytree=0.8, gamma=0.4, learning_rate=0.3, max_depth=9, n_estimators=500, subsample=0.5;, score=0.910 total time= 1.7min\n",
      "[CV 2/5] END colsample_bytree=0.7, gamma=0.4, learning_rate=0.01, max_depth=2, n_estimators=400, subsample=0.9;, score=0.667 total time=  15.1s\n",
      "[CV 5/5] END colsample_bytree=0.7, gamma=0.4, learning_rate=0.01, max_depth=2, n_estimators=400, subsample=0.9;, score=0.657 total time=  15.1s\n",
      "[CV 4/5] END colsample_bytree=0.8, gamma=0.3, learning_rate=0.3, max_depth=5, n_estimators=50, subsample=0.7;, score=0.862 total time=   5.4s\n",
      "[CV 2/5] END colsample_bytree=0.6, gamma=0.5, learning_rate=0.3, max_depth=8, n_estimators=500, subsample=0.6;, score=0.906 total time= 1.3min\n",
      "[CV 1/5] END colsample_bytree=1, gamma=0.5, learning_rate=0.1, max_depth=4, n_estimators=200, subsample=0.6;, score=0.855 total time=  21.2s\n",
      "[CV 4/5] END colsample_bytree=1, gamma=0.5, learning_rate=0.1, max_depth=4, n_estimators=200, subsample=0.6;, score=0.848 total time=  20.9s\n",
      "[CV 2/5] END colsample_bytree=0.8, gamma=0.3, learning_rate=0.3, max_depth=3, n_estimators=400, subsample=1;, score=0.872 total time=  21.7s\n",
      "[CV 5/5] END colsample_bytree=0.8, gamma=0.3, learning_rate=0.3, max_depth=3, n_estimators=400, subsample=1;, score=0.874 total time=  21.7s\n",
      "[CV 4/5] END colsample_bytree=0.7, gamma=0.2, learning_rate=0.01, max_depth=3, n_estimators=500, subsample=0.6;, score=0.748 total time=  31.8s\n",
      "[CV 1/5] END colsample_bytree=0.5, gamma=0.1, learning_rate=0.1, max_depth=2, n_estimators=200, subsample=0.9;, score=0.772 total time=   6.1s\n",
      "[CV 3/5] END colsample_bytree=0.5, gamma=0.1, learning_rate=0.1, max_depth=2, n_estimators=200, subsample=0.9;, score=0.767 total time=   6.1s\n",
      "[CV 1/5] END colsample_bytree=0.8, gamma=0.5, learning_rate=0.01, max_depth=6, n_estimators=400, subsample=1;, score=0.824 total time=  47.2s\n",
      "[CV 5/5] END colsample_bytree=0.8, gamma=0.5, learning_rate=0.01, max_depth=6, n_estimators=400, subsample=1;, score=0.826 total time=  47.4s\n",
      "[CV 2/5] END colsample_bytree=0.8, gamma=0.4, learning_rate=0.01, max_depth=8, n_estimators=200, subsample=0.6;, score=0.843 total time=  45.3s\n",
      "[CV 1/5] END colsample_bytree=0.9, gamma=0.2, learning_rate=0.01, max_depth=3, n_estimators=50, subsample=0.5;, score=0.649 total time=   3.6s\n",
      "[CV 2/5] END colsample_bytree=0.9, gamma=0.2, learning_rate=0.01, max_depth=3, n_estimators=50, subsample=0.5;, score=0.618 total time=   3.6s\n",
      "[CV 3/5] END colsample_bytree=0.9, gamma=0.2, learning_rate=0.01, max_depth=3, n_estimators=50, subsample=0.5;, score=0.640 total time=   3.6s\n",
      "[CV 4/5] END colsample_bytree=0.9, gamma=0.2, learning_rate=0.01, max_depth=3, n_estimators=50, subsample=0.5;, score=0.632 total time=   3.6s\n",
      "[CV 5/5] END colsample_bytree=0.9, gamma=0.2, learning_rate=0.01, max_depth=3, n_estimators=50, subsample=0.5;, score=0.636 total time=   3.6s\n",
      "[CV 1/5] END colsample_bytree=0.5, gamma=0.4, learning_rate=0.05, max_depth=6, n_estimators=200, subsample=0.8;, score=0.867 total time=  18.4s\n",
      "[CV 5/5] END colsample_bytree=0.5, gamma=0.4, learning_rate=0.05, max_depth=6, n_estimators=200, subsample=0.8;, score=0.870 total time=  18.2s\n",
      "[CV 4/5] END colsample_bytree=0.8, gamma=0.1, learning_rate=0.05, max_depth=5, n_estimators=100, subsample=1;, score=0.809 total time=   9.4s\n",
      "[CV 3/5] END colsample_bytree=0.9, gamma=0.3, learning_rate=0.3, max_depth=4, n_estimators=50, subsample=0.5;, score=0.834 total time=   5.0s\n",
      "[CV 1/5] END colsample_bytree=0.8, gamma=0, learning_rate=0.3, max_depth=7, n_estimators=300, subsample=0.6;, score=0.917 total time=  47.5s\n",
      "[CV 5/5] END colsample_bytree=0.8, gamma=0, learning_rate=0.3, max_depth=7, n_estimators=300, subsample=0.6;, score=0.917 total time=  47.3s\n",
      "[CV 2/5] END colsample_bytree=0.6, gamma=0, learning_rate=0.2, max_depth=4, n_estimators=300, subsample=0.8;, score=0.880 total time=  19.4s\n",
      "[CV 4/5] END colsample_bytree=0.6, gamma=0, learning_rate=0.2, max_depth=4, n_estimators=300, subsample=0.8;, score=0.883 total time=  19.4s\n",
      "[CV 1/5] END colsample_bytree=0.9, gamma=0.4, learning_rate=0.2, max_depth=4, n_estimators=50, subsample=1;, score=0.826 total time=   4.0s\n",
      "[CV 4/5] END colsample_bytree=0.9, gamma=0.4, learning_rate=0.2, max_depth=4, n_estimators=50, subsample=1;, score=0.818 total time=   4.1s\n",
      "[CV 2/5] END colsample_bytree=0.5, gamma=0, learning_rate=0.2, max_depth=6, n_estimators=50, subsample=1;, score=0.857 total time=   4.2s\n",
      "[CV 1/5] END colsample_bytree=0.6, gamma=0.3, learning_rate=0.05, max_depth=8, n_estimators=50, subsample=1;, score=0.861 total time=   7.2s\n",
      "[CV 5/5] END colsample_bytree=0.6, gamma=0.3, learning_rate=0.05, max_depth=8, n_estimators=50, subsample=1;, score=0.868 total time=   7.1s\n",
      "[CV 4/5] END colsample_bytree=0.9, gamma=0.2, learning_rate=0.2, max_depth=3, n_estimators=500, subsample=1;, score=0.873 total time=  29.4s\n",
      "[CV 3/5] END colsample_bytree=0.5, gamma=0.2, learning_rate=0.3, max_depth=2, n_estimators=200, subsample=0.6;, score=0.811 total time=   6.9s\n",
      "[CV 1/5] END colsample_bytree=0.7, gamma=0.1, learning_rate=0.3, max_depth=5, n_estimators=50, subsample=0.5;, score=0.855 total time=   5.0s\n",
      "[CV 4/5] END colsample_bytree=0.7, gamma=0.1, learning_rate=0.3, max_depth=5, n_estimators=50, subsample=0.5;, score=0.864 total time=   5.1s\n",
      "[CV 2/5] END colsample_bytree=0.5, gamma=0.1, learning_rate=0.3, max_depth=7, n_estimators=50, subsample=1;, score=0.881 total time=   5.1s\n",
      "[CV 5/5] END colsample_bytree=0.5, gamma=0.1, learning_rate=0.3, max_depth=7, n_estimators=50, subsample=1;, score=0.896 total time=   5.0s\n",
      "[CV 4/5] END colsample_bytree=0.9, gamma=0.4, learning_rate=0.05, max_depth=4, n_estimators=50, subsample=0.9;, score=0.742 total time=   4.3s\n",
      "[CV 3/5] END colsample_bytree=1, gamma=0.4, learning_rate=0.05, max_depth=6, n_estimators=500, subsample=0.7;, score=0.900 total time= 1.3min\n",
      "[CV 2/5] END colsample_bytree=0.5, gamma=0.4, learning_rate=0.01, max_depth=10, n_estimators=50, subsample=0.7;, score=0.869 total time=   9.5s\n",
      "[CV 5/5] END colsample_bytree=0.5, gamma=0.4, learning_rate=0.01, max_depth=10, n_estimators=50, subsample=0.7;, score=0.879 total time=  10.5s\n",
      "Best Parameters:  {'subsample': 0.9, 'n_estimators': 500, 'max_depth': 10, 'learning_rate': 0.3, 'gamma': 0, 'colsample_bytree': 0.6}\n",
      "Best Accuracy:  0.9222889821293556\n"
     ]
    },
    {
     "name": "stdout",
     "output_type": "stream",
     "text": [
      "[CV 3/5] END colsample_bytree=0.8, gamma=0.3, learning_rate=0.01, max_depth=7, n_estimators=50, subsample=0.5;, score=0.808 total time=  10.8s\n",
      "[CV 2/5] END colsample_bytree=1, gamma=0.4, learning_rate=0.05, max_depth=4, n_estimators=200, subsample=0.5;, score=0.816 total time=  22.0s\n",
      "[CV 5/5] END colsample_bytree=1, gamma=0.4, learning_rate=0.05, max_depth=4, n_estimators=200, subsample=0.5;, score=0.820 total time=  21.0s\n",
      "[CV 3/5] END colsample_bytree=0.8, gamma=0.1, learning_rate=0.1, max_depth=9, n_estimators=400, subsample=1;, score=0.923 total time= 1.2min\n",
      "[CV 2/5] END colsample_bytree=0.8, gamma=0.1, learning_rate=0.2, max_depth=2, n_estimators=100, subsample=0.8;, score=0.765 total time=   4.3s\n",
      "[CV 5/5] END colsample_bytree=0.8, gamma=0.1, learning_rate=0.2, max_depth=2, n_estimators=100, subsample=0.8;, score=0.761 total time=   4.3s\n",
      "[CV 3/5] END colsample_bytree=0.8, gamma=0.2, learning_rate=0.2, max_depth=9, n_estimators=500, subsample=0.7;, score=0.926 total time= 1.7min\n",
      "[CV 2/5] END colsample_bytree=1, gamma=0.5, learning_rate=0.05, max_depth=7, n_estimators=200, subsample=1;, score=0.871 total time=  33.5s\n",
      "[CV 4/5] END colsample_bytree=1, gamma=0.5, learning_rate=0.05, max_depth=7, n_estimators=200, subsample=1;, score=0.877 total time=  33.6s\n",
      "[CV 2/5] END colsample_bytree=0.9, gamma=0.2, learning_rate=0.05, max_depth=7, n_estimators=100, subsample=0.8;, score=0.849 total time=  16.7s\n",
      "[CV 5/5] END colsample_bytree=0.9, gamma=0.2, learning_rate=0.05, max_depth=7, n_estimators=100, subsample=0.8;, score=0.858 total time=  16.7s\n",
      "[CV 4/5] END colsample_bytree=1, gamma=0, learning_rate=0.3, max_depth=10, n_estimators=100, subsample=1;, score=0.916 total time=  25.2s\n",
      "[CV 3/5] END colsample_bytree=0.6, gamma=0.3, learning_rate=0.05, max_depth=6, n_estimators=200, subsample=0.6;, score=0.868 total time=  21.8s\n",
      "[CV 2/5] END colsample_bytree=0.5, gamma=0.4, learning_rate=0.3, max_depth=10, n_estimators=400, subsample=0.7;, score=0.915 total time= 1.1min\n",
      "[CV 1/5] END colsample_bytree=0.8, gamma=0.3, learning_rate=0.01, max_depth=7, n_estimators=50, subsample=0.5;, score=0.813 total time=   8.7s\n",
      "[CV 4/5] END colsample_bytree=0.8, gamma=0.3, learning_rate=0.01, max_depth=7, n_estimators=50, subsample=0.5;, score=0.804 total time=   8.9s\n",
      "[CV 1/5] END colsample_bytree=1, gamma=0.4, learning_rate=0.05, max_depth=4, n_estimators=200, subsample=0.5;, score=0.823 total time=  21.8s\n",
      "[CV 4/5] END colsample_bytree=1, gamma=0.4, learning_rate=0.05, max_depth=4, n_estimators=200, subsample=0.5;, score=0.821 total time=  20.9s\n",
      "[CV 2/5] END colsample_bytree=0.8, gamma=0.1, learning_rate=0.1, max_depth=9, n_estimators=400, subsample=1;, score=0.914 total time= 1.2min\n",
      "[CV 1/5] END colsample_bytree=0.8, gamma=0.1, learning_rate=0.2, max_depth=2, n_estimators=100, subsample=0.8;, score=0.776 total time=   4.3s\n",
      "[CV 3/5] END colsample_bytree=0.8, gamma=0.1, learning_rate=0.2, max_depth=2, n_estimators=100, subsample=0.8;, score=0.766 total time=   4.4s\n",
      "[CV 1/5] END colsample_bytree=0.8, gamma=0.2, learning_rate=0.2, max_depth=9, n_estimators=500, subsample=0.7;, score=0.920 total time= 1.7min\n",
      "[CV 5/5] END colsample_bytree=0.8, gamma=0.2, learning_rate=0.2, max_depth=9, n_estimators=500, subsample=0.7;, score=0.922 total time= 1.7min\n",
      "[CV 2/5] END colsample_bytree=1, gamma=0, learning_rate=0.3, max_depth=10, n_estimators=100, subsample=1;, score=0.911 total time=  25.5s\n",
      "[CV 1/5] END colsample_bytree=0.6, gamma=0.3, learning_rate=0.05, max_depth=6, n_estimators=200, subsample=0.6;, score=0.868 total time=  21.8s\n",
      "[CV 4/5] END colsample_bytree=0.6, gamma=0.3, learning_rate=0.05, max_depth=6, n_estimators=200, subsample=0.6;, score=0.866 total time=  21.9s\n",
      "[CV 3/5] END colsample_bytree=0.5, gamma=0.4, learning_rate=0.3, max_depth=10, n_estimators=400, subsample=0.7;, score=0.921 total time= 1.1min\n",
      "[CV 2/5] END colsample_bytree=0.5, gamma=0.2, learning_rate=0.3, max_depth=2, n_estimators=200, subsample=0.6;, score=0.808 total time=   6.7s\n",
      "[CV 5/5] END colsample_bytree=0.5, gamma=0.2, learning_rate=0.3, max_depth=2, n_estimators=200, subsample=0.6;, score=0.810 total time=   6.7s\n",
      "[CV 3/5] END colsample_bytree=0.7, gamma=0.1, learning_rate=0.3, max_depth=5, n_estimators=50, subsample=0.5;, score=0.856 total time=   5.0s\n",
      "[CV 1/5] END colsample_bytree=0.5, gamma=0.1, learning_rate=0.3, max_depth=7, n_estimators=50, subsample=1;, score=0.889 total time=   5.0s\n",
      "[CV 4/5] END colsample_bytree=0.5, gamma=0.1, learning_rate=0.3, max_depth=7, n_estimators=50, subsample=1;, score=0.888 total time=   5.1s\n",
      "[CV 3/5] END colsample_bytree=0.9, gamma=0.4, learning_rate=0.05, max_depth=4, n_estimators=50, subsample=0.9;, score=0.742 total time=   4.4s\n",
      "[CV 2/5] END colsample_bytree=1, gamma=0.4, learning_rate=0.05, max_depth=6, n_estimators=500, subsample=0.7;, score=0.894 total time= 1.3min\n",
      "[CV 1/5] END colsample_bytree=0.5, gamma=0.4, learning_rate=0.01, max_depth=10, n_estimators=50, subsample=0.7;, score=0.877 total time=   9.2s\n",
      "[CV 4/5] END colsample_bytree=0.5, gamma=0.4, learning_rate=0.01, max_depth=10, n_estimators=50, subsample=0.7;, score=0.864 total time=   9.3s\n",
      "[CV 2/5] END colsample_bytree=0.8, gamma=0.3, learning_rate=0.01, max_depth=7, n_estimators=50, subsample=0.5;, score=0.797 total time=   8.5s\n",
      "[CV 5/5] END colsample_bytree=0.8, gamma=0.3, learning_rate=0.01, max_depth=7, n_estimators=50, subsample=0.5;, score=0.814 total time=   9.1s\n",
      "[CV 3/5] END colsample_bytree=1, gamma=0.4, learning_rate=0.05, max_depth=4, n_estimators=200, subsample=0.5;, score=0.823 total time=  21.0s\n",
      "[CV 1/5] END colsample_bytree=0.8, gamma=0.1, learning_rate=0.1, max_depth=9, n_estimators=400, subsample=1;, score=0.921 total time= 1.2min\n",
      "[CV 5/5] END colsample_bytree=0.8, gamma=0.1, learning_rate=0.1, max_depth=9, n_estimators=400, subsample=1;, score=0.921 total time= 1.2min\n",
      "[CV 4/5] END colsample_bytree=0.8, gamma=0.2, learning_rate=0.2, max_depth=9, n_estimators=500, subsample=0.7;, score=0.917 total time= 1.7min\n",
      "[CV 5/5] END colsample_bytree=1, gamma=0.5, learning_rate=0.05, max_depth=7, n_estimators=200, subsample=1;, score=0.879 total time=  33.9s\n",
      "[CV 3/5] END colsample_bytree=0.9, gamma=0.2, learning_rate=0.05, max_depth=7, n_estimators=100, subsample=0.8;, score=0.858 total time=  17.0s\n",
      "[CV 1/5] END colsample_bytree=1, gamma=0, learning_rate=0.3, max_depth=10, n_estimators=100, subsample=1;, score=0.921 total time=  25.4s\n",
      "[CV 5/5] END colsample_bytree=1, gamma=0, learning_rate=0.3, max_depth=10, n_estimators=100, subsample=1;, score=0.918 total time=  25.7s\n",
      "[CV 5/5] END colsample_bytree=0.6, gamma=0.3, learning_rate=0.05, max_depth=6, n_estimators=200, subsample=0.6;, score=0.869 total time=  21.9s\n",
      "[CV 4/5] END colsample_bytree=0.5, gamma=0.4, learning_rate=0.3, max_depth=10, n_estimators=400, subsample=0.7;, score=0.916 total time= 1.1min\n",
      "[CV 2/5] END colsample_bytree=0.9, gamma=0.4, learning_rate=0.05, max_depth=2, n_estimators=200, subsample=0.6;, score=0.726 total time=  10.4s\n",
      "[CV 1/5] END colsample_bytree=0.7, gamma=0.1, learning_rate=0.05, max_depth=6, n_estimators=400, subsample=0.5;, score=0.890 total time=  48.9s\n",
      "[CV 5/5] END colsample_bytree=0.7, gamma=0.1, learning_rate=0.05, max_depth=6, n_estimators=400, subsample=0.5;, score=0.893 total time=  51.1s\n",
      "[CV 2/5] END colsample_bytree=0.6, gamma=0.5, learning_rate=0.3, max_depth=6, n_estimators=500, subsample=0.8;, score=0.912 total time=  50.4s\n",
      "[CV 1/5] END colsample_bytree=0.7, gamma=0.3, learning_rate=0.2, max_depth=4, n_estimators=200, subsample=0.9;, score=0.873 total time=  14.1s\n",
      "[CV 4/5] END colsample_bytree=0.7, gamma=0.3, learning_rate=0.2, max_depth=4, n_estimators=200, subsample=0.9;, score=0.872 total time=  14.0s\n",
      "[CV 2/5] END colsample_bytree=0.9, gamma=0.2, learning_rate=0.05, max_depth=9, n_estimators=300, subsample=0.7;, score=0.910 total time= 1.2min\n",
      "[CV 1/5] END colsample_bytree=0.9, gamma=0, learning_rate=0.1, max_depth=6, n_estimators=50, subsample=0.5;, score=0.845 total time=   7.5s\n",
      "[CV 3/5] END colsample_bytree=0.9, gamma=0, learning_rate=0.1, max_depth=6, n_estimators=50, subsample=0.5;, score=0.845 total time=   7.5s\n",
      "[CV 1/5] END colsample_bytree=0.8, gamma=0.1, learning_rate=0.3, max_depth=7, n_estimators=100, subsample=0.7;, score=0.912 total time=  15.5s\n",
      "[CV 4/5] END colsample_bytree=0.8, gamma=0.1, learning_rate=0.3, max_depth=7, n_estimators=100, subsample=0.7;, score=0.905 total time=  15.5s\n",
      "[CV 2/5] END colsample_bytree=0.5, gamma=0.2, learning_rate=0.3, max_depth=8, n_estimators=200, subsample=0.9;, score=0.917 total time=  24.1s\n",
      "[CV 1/5] END colsample_bytree=0.9, gamma=0.3, learning_rate=0.01, max_depth=2, n_estimators=500, subsample=0.6;, score=0.693 total time=  24.9s\n",
      "[CV 5/5] END colsample_bytree=0.9, gamma=0.3, learning_rate=0.01, max_depth=2, n_estimators=500, subsample=0.6;, score=0.680 total time=  25.3s\n",
      "[CV 4/5] END colsample_bytree=1, gamma=0.5, learning_rate=0.1, max_depth=7, n_estimators=500, subsample=0.5;, score=0.911 total time= 1.6min\n",
      "[CV 3/5] END colsample_bytree=0.7, gamma=0.3, learning_rate=0.3, max_depth=8, n_estimators=100, subsample=1;, score=0.914 total time=  14.7s\n",
      "[CV 1/5] END colsample_bytree=0.8, gamma=0.4, learning_rate=0.3, max_depth=9, n_estimators=500, subsample=0.5;, score=0.915 total time= 1.7min\n",
      "[CV 5/5] END colsample_bytree=0.8, gamma=0.4, learning_rate=0.3, max_depth=9, n_estimators=500, subsample=0.5;, score=0.919 total time= 1.7min\n",
      "[CV 3/5] END colsample_bytree=0.6, gamma=0.5, learning_rate=0.3, max_depth=8, n_estimators=500, subsample=0.6;, score=0.918 total time= 1.3min\n",
      "[CV 2/5] END colsample_bytree=1, gamma=0.5, learning_rate=0.1, max_depth=4, n_estimators=200, subsample=0.6;, score=0.841 total time=  21.1s\n",
      "[CV 5/5] END colsample_bytree=1, gamma=0.5, learning_rate=0.1, max_depth=4, n_estimators=200, subsample=0.6;, score=0.857 total time=  21.1s\n",
      "[CV 3/5] END colsample_bytree=0.8, gamma=0.3, learning_rate=0.3, max_depth=3, n_estimators=400, subsample=1;, score=0.878 total time=  21.7s\n",
      "[CV 1/5] END colsample_bytree=0.7, gamma=0.2, learning_rate=0.01, max_depth=3, n_estimators=500, subsample=0.6;, score=0.741 total time=  32.5s\n",
      "[CV 5/5] END colsample_bytree=0.7, gamma=0.2, learning_rate=0.01, max_depth=3, n_estimators=500, subsample=0.6;, score=0.739 total time=  30.1s\n",
      "[CV 3/5] END colsample_bytree=0.8, gamma=0.5, learning_rate=0.01, max_depth=6, n_estimators=400, subsample=1;, score=0.829 total time=  47.6s\n",
      "[CV 2/5] END colsample_bytree=0.8, gamma=0.4, learning_rate=0.3, max_depth=9, n_estimators=200, subsample=0.5;, score=0.905 total time=  41.7s\n",
      "[CV 1/5] END colsample_bytree=0.8, gamma=0.4, learning_rate=0.01, max_depth=8, n_estimators=200, subsample=0.6;, score=0.856 total time=  41.6s\n",
      "[CV 4/5] END colsample_bytree=0.8, gamma=0.4, learning_rate=0.01, max_depth=8, n_estimators=200, subsample=0.6;, score=0.846 total time=  39.8s\n",
      "[CV 2/5] END colsample_bytree=0.5, gamma=0.4, learning_rate=0.05, max_depth=6, n_estimators=200, subsample=0.8;, score=0.859 total time=  18.2s\n",
      "[CV 1/5] END colsample_bytree=0.8, gamma=0.1, learning_rate=0.05, max_depth=5, n_estimators=100, subsample=1;, score=0.806 total time=   9.4s\n",
      "[CV 5/5] END colsample_bytree=0.8, gamma=0.1, learning_rate=0.05, max_depth=5, n_estimators=100, subsample=1;, score=0.809 total time=  10.3s\n",
      "[CV 2/5] END colsample_bytree=0.8, gamma=0, learning_rate=0.3, max_depth=7, n_estimators=300, subsample=0.6;, score=0.914 total time=  47.9s\n",
      "[CV 2/5] END colsample_bytree=0.6, gamma=0.3, learning_rate=0.3, max_depth=7, n_estimators=300, subsample=0.7;, score=0.912 total time=  37.7s\n",
      "[CV 5/5] END colsample_bytree=0.6, gamma=0.3, learning_rate=0.3, max_depth=7, n_estimators=300, subsample=0.7;, score=0.918 total time=  37.2s\n",
      "[CV 5/5] END colsample_bytree=0.6, gamma=0, learning_rate=0.2, max_depth=4, n_estimators=300, subsample=0.8;, score=0.883 total time=  19.4s\n",
      "[CV 3/5] END colsample_bytree=0.5, gamma=0, learning_rate=0.2, max_depth=6, n_estimators=50, subsample=1;, score=0.861 total time=   4.2s\n",
      "[CV 2/5] END colsample_bytree=0.6, gamma=0.3, learning_rate=0.05, max_depth=8, n_estimators=50, subsample=1;, score=0.852 total time=   7.2s\n",
      "[CV 1/5] END colsample_bytree=0.9, gamma=0.2, learning_rate=0.2, max_depth=3, n_estimators=500, subsample=1;, score=0.876 total time=  29.5s\n",
      "[CV 5/5] END colsample_bytree=0.9, gamma=0.2, learning_rate=0.2, max_depth=3, n_estimators=500, subsample=1;, score=0.875 total time=  29.6s\n",
      "[CV 2/5] END colsample_bytree=0.9, gamma=0.4, learning_rate=0.05, max_depth=4, n_estimators=50, subsample=0.9;, score=0.730 total time=   4.3s\n",
      "[CV 1/5] END colsample_bytree=1, gamma=0.4, learning_rate=0.05, max_depth=6, n_estimators=500, subsample=0.7;, score=0.903 total time= 1.3min\n",
      "[CV 5/5] END colsample_bytree=1, gamma=0.4, learning_rate=0.05, max_depth=6, n_estimators=500, subsample=0.7;, score=0.898 total time= 1.4min\n",
      "[CV 4/5] END colsample_bytree=0.8, gamma=0.1, learning_rate=0.1, max_depth=9, n_estimators=400, subsample=1;, score=0.918 total time= 1.2min\n",
      "[CV 4/5] END colsample_bytree=0.8, gamma=0.1, learning_rate=0.2, max_depth=2, n_estimators=100, subsample=0.8;, score=0.770 total time=   4.3s\n",
      "[CV 2/5] END colsample_bytree=0.8, gamma=0.2, learning_rate=0.2, max_depth=9, n_estimators=500, subsample=0.7;, score=0.916 total time= 1.7min\n",
      "[CV 1/5] END colsample_bytree=1, gamma=0.5, learning_rate=0.05, max_depth=7, n_estimators=200, subsample=1;, score=0.882 total time=  33.7s\n",
      "[CV 3/5] END colsample_bytree=1, gamma=0.5, learning_rate=0.05, max_depth=7, n_estimators=200, subsample=1;, score=0.880 total time=  33.5s\n",
      "[CV 1/5] END colsample_bytree=0.9, gamma=0.2, learning_rate=0.05, max_depth=7, n_estimators=100, subsample=0.8;, score=0.856 total time=  16.8s\n",
      "[CV 4/5] END colsample_bytree=0.9, gamma=0.2, learning_rate=0.05, max_depth=7, n_estimators=100, subsample=0.8;, score=0.856 total time=  16.8s\n",
      "[CV 3/5] END colsample_bytree=1, gamma=0, learning_rate=0.3, max_depth=10, n_estimators=100, subsample=1;, score=0.919 total time=  25.4s\n",
      "[CV 2/5] END colsample_bytree=0.6, gamma=0.3, learning_rate=0.05, max_depth=6, n_estimators=200, subsample=0.6;, score=0.862 total time=  21.9s\n",
      "[CV 1/5] END colsample_bytree=0.5, gamma=0.4, learning_rate=0.3, max_depth=10, n_estimators=400, subsample=0.7;, score=0.916 total time= 1.1min\n",
      "[CV 5/5] END colsample_bytree=0.5, gamma=0.4, learning_rate=0.3, max_depth=10, n_estimators=400, subsample=0.7;, score=0.916 total time=  43.3s\n"
     ]
    }
   ],
   "source": [
    "from sklearn.model_selection import RandomizedSearchCV\n",
    "import xgboost as xgb\n",
    "\n",
    "# Create XGBoost classifier\n",
    "xgb_clf = xgb.XGBClassifier()\n",
    "\n",
    "# Define the parameter grid to search\n",
    "param_grid = {\n",
    "    'learning_rate': [0.01, 0.05, 0.1, 0.2, 0.3],\n",
    "    'max_depth': [2, 3, 4, 5, 6, 7, 8, 9, 10],\n",
    "    'n_estimators': [50, 100, 200, 300, 400, 500],\n",
    "    'gamma': [0, 0.1, 0.2, 0.3, 0.4, 0.5],\n",
    "    'subsample': [0.5, 0.6, 0.7, 0.8, 0.9, 1],\n",
    "    'colsample_bytree': [0.5, 0.6, 0.7, 0.8, 0.9, 1]\n",
    "}\n",
    "\n",
    "# Create RandomizedSearchCV object\n",
    "randomized_search = RandomizedSearchCV(\n",
    "    estimator=xgb_clf,\n",
    "    param_distributions=param_grid,\n",
    "    n_iter=100,\n",
    "    cv=5,\n",
    "    verbose=3,\n",
    "    n_jobs=-1\n",
    ")\n",
    "\n",
    "# Fit the RandomizedSearchCV object to the training data\n",
    "randomized_search.fit(X_train, y_train)\n",
    "\n",
    "# Print the best parameters and accuracy score\n",
    "print(\"Best Parameters: \", randomized_search.best_params_)\n",
    "print(\"Best Accuracy: \", randomized_search.best_score_)\n"
   ]
  },
  {
   "cell_type": "code",
   "execution_count": 76,
   "id": "d4c1f966",
   "metadata": {},
   "outputs": [
    {
     "name": "stdout",
     "output_type": "stream",
     "text": [
      "Best Parameters:  {'subsample': 0.9, 'n_estimators': 500, 'max_depth': 10, 'learning_rate': 0.3, 'gamma': 0, 'colsample_bytree': 0.6}\n"
     ]
    }
   ],
   "source": [
    "print(\"Best Parameters: \", randomized_search.best_params_)"
   ]
  },
  {
   "cell_type": "code",
   "execution_count": 34,
   "id": "734b58d7",
   "metadata": {},
   "outputs": [],
   "source": [
    "# Define hyperparameters\n",
    "\n",
    "learning_rate = 0.3\n",
    "max_depth = 10\n",
    "gamma = 0\n",
    "min_samples_split = 10 \n",
    "n_estimators = 500\n",
    "subsample = 0.9\n",
    "colsample_bytree =0.6\n",
    "\n",
    "\n",
    "mlflow.set_experiment(\"XG_boosting_experiment\")\n",
    "\n",
    "# Train model\n",
    "with mlflow.start_run():\n",
    "    # Create logistic regression model\n",
    "    xgb_model =  xgb.XGBClassifier(learning_rate = learning_rate,\n",
    "                                    max_depth = max_depth,\n",
    "                                    n_estimators = n_estimators,\n",
    "                                    subsample = subsample,\n",
    "                                   gamma = gamma ,\n",
    "                                  colsample_bytree = colsample_bytree)\n",
    "\n",
    "    # Fit model on training data\n",
    "    xgb_model.fit(X_train, y_train)\n",
    "\n",
    "    # Make predictions on test data\n",
    "    y_pred = xgb_model.predict(X_test)\n",
    "\n",
    "    # Calculate evaluation metrics\n",
    "    accuracy = accuracy_score(y_test, y_pred)\n",
    "    precision = precision_score(y_test, y_pred, average='micro')\n",
    "    recall = recall_score(y_test, y_pred, average='micro')\n",
    "    f1 = f1_score(y_test, y_pred, average='micro')\n",
    "\n",
    "    # Log hyperparameters and evaluation metrics to MLflow\n",
    "   \n",
    "    mlflow.log_param(\"learning_rate\" , learning_rate)\n",
    "    mlflow.log_param(\"max_depth\", max_depth)\n",
    "    mlflow.log_param(\"n_estimators\", n_estimators)\n",
    "    mlflow.log_param('subsasmple', subsample)\n",
    "    mlflow.log_param('gamma',gamma),\n",
    "    mlflow.log_param('colsample_bytree',colsample_bytree)\n",
    "    \n",
    "    \n",
    "    mlflow.log_metric(\"accuracy\", accuracy)\n",
    "    mlflow.log_metric(\"precision\", precision)\n",
    "    mlflow.log_metric(\"recall\", recall)\n",
    "    mlflow.log_metric(\"f1\", f1)\n",
    "\n",
    "    # Log model to MLflow\n",
    "    mlflow.sklearn.log_model(model, \"XGBoosting\")\n",
    "    mlflow.end_run()\n"
   ]
  },
  {
   "cell_type": "code",
   "execution_count": 35,
   "id": "53b363d5",
   "metadata": {},
   "outputs": [
    {
     "name": "stdout",
     "output_type": "stream",
     "text": [
      "              precision    recall  f1-score   support\n",
      "\n",
      "           0       0.99      0.99      0.99      2604\n",
      "           1       0.92      0.88      0.90      2604\n",
      "           2       0.88      0.92      0.90      2604\n",
      "\n",
      "    accuracy                           0.93      7812\n",
      "   macro avg       0.93      0.93      0.93      7812\n",
      "weighted avg       0.93      0.93      0.93      7812\n",
      "\n"
     ]
    }
   ],
   "source": [
    "classif_re = classification_report(y_test,y_pred)\n",
    "print(classif_re)\n"
   ]
  },
  {
   "cell_type": "code",
   "execution_count": 36,
   "id": "da40da3b",
   "metadata": {},
   "outputs": [
    {
     "data": {
      "image/png": "[encoded data removed]",
      "text/plain": [
       "<Figure size 500x400 with 2 Axes>"
      ]
     },
     "metadata": {},
     "output_type": "display_data"
    }
   ],
   "source": [
    "#Plotting the confusion matrix\n",
    "import matplotlib.pyplot as plt\n",
    "import seaborn as sns\n",
    "\n",
    "conf_matrix = confusion_matrix(y_test, y_pred)\n",
    "\n",
    "\n",
    "# Creating a dataframe for a array-formatted Confusion matrix,so it will be easy for plotting.\n",
    "cm_df = pd.DataFrame(conf_matrix,\n",
    "                     index = ['Fatal','Serious','Slight'], \n",
    "                     columns = ['Fatal','Serious','Slight'])\n",
    "\n",
    "\n",
    "\n",
    "plt.figure(figsize=(5,4))\n",
    "sns.heatmap(cm_df, annot=True,fmt='g')\n",
    "plt.title('Confusion Matrix')\n",
    "plt.ylabel('Actal Values')\n",
    "plt.xlabel('Predicted Values')\n",
    "plt.title(\"XGBoosting\")\n",
    "plt.show()"
   ]
  },
  {
   "cell_type": "code",
   "execution_count": 37,
   "id": "ef7ddfaf",
   "metadata": {},
   "outputs": [
    {
     "data": {
      "text/plain": [
       "['xgb_model.joblib']"
      ]
     },
     "execution_count": 37,
     "metadata": {},
     "output_type": "execute_result"
    }
   ],
   "source": [
    "import joblib\n",
    "\n",
    "# Assuming your model object is named `model`\n",
    "# Save the model to a file using joblib\n",
    "joblib.dump(xgb_model, 'xgb_model.joblib')\n"
   ]
  },
  {
   "cell_type": "code",
   "execution_count": null,
   "id": "7a36f626",
   "metadata": {},
   "outputs": [],
   "source": []
  }
 ],
 "metadata": {
  "kernelspec": {
   "display_name": "Python 3 (ipykernel)",
   "language": "python",
   "name": "python3"
  },
  "language_info": {
   "codemirror_mode": {
    "name": "ipython",
    "version": 3
   },
   "file_extension": ".py",
   "mimetype": "text/x-python",
   "name": "python",
   "nbconvert_exporter": "python",
   "pygments_lexer": "ipython3",
   "version": "3.10.8"
  }
 },
 "nbformat": 4,
 "nbformat_minor": 5
}
